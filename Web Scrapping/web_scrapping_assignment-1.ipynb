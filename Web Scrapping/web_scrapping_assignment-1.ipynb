{
 "cells": [
  {
   "cell_type": "code",
   "execution_count": 1,
   "id": "f99fe7b6",
   "metadata": {},
   "outputs": [],
   "source": [
    "from bs4 import BeautifulSoup\n",
    "import  requests\n",
    "import pandas as pd\n"
   ]
  },
  {
   "cell_type": "markdown",
   "id": "4782c9d0",
   "metadata": {},
   "source": [
    "## 1) Write a python program to display all the header tags from wikipedia.org.\n"
   ]
  },
  {
   "cell_type": "code",
   "execution_count": null,
   "id": "9e118ad5",
   "metadata": {},
   "outputs": [],
   "source": [
    "url = requests.get('https://www.wikipedia.org/')\n",
    "soup = BeautifulSoup(url.content)\n",
    "soup"
   ]
  },
  {
   "cell_type": "code",
   "execution_count": 3,
   "id": "c2bda52e",
   "metadata": {},
   "outputs": [],
   "source": [
    "header_tag=[]\n",
    "for i in soup.find_all(['h1','h2','h3']):\n",
    "    header_tag.append(i)"
   ]
  },
  {
   "cell_type": "code",
   "execution_count": 4,
   "id": "c4e48470",
   "metadata": {},
   "outputs": [
    {
     "data": {
      "text/plain": [
       "[<h1 class=\"central-textlogo-wrapper\">\n",
       " <span class=\"central-textlogo__image sprite svg-Wikipedia_wordmark\">\n",
       " Wikipedia\n",
       " </span>\n",
       " <strong class=\"jsl10n localized-slogan\" data-jsl10n=\"portal.slogan\">The Free Encyclopedia</strong>\n",
       " </h1>,\n",
       " <h2 class=\"bookshelf-container\">\n",
       " <span class=\"bookshelf\">\n",
       " <span class=\"text\">\n",
       " <bdi dir=\"ltr\">\n",
       " 1 000 000+\n",
       " </bdi>\n",
       " <span class=\"jsl10n\" data-jsl10n=\"entries\">\n",
       " articles\n",
       " </span>\n",
       " </span>\n",
       " </span>\n",
       " </h2>,\n",
       " <h2 class=\"bookshelf-container\">\n",
       " <span class=\"bookshelf\">\n",
       " <span class=\"text\">\n",
       " <bdi dir=\"ltr\">\n",
       " 100 000+\n",
       " </bdi>\n",
       " <span class=\"jsl10n\" data-jsl10n=\"portal.entries\">\n",
       " articles\n",
       " </span>\n",
       " </span>\n",
       " </span>\n",
       " </h2>,\n",
       " <h2 class=\"bookshelf-container\">\n",
       " <span class=\"bookshelf\">\n",
       " <span class=\"text\">\n",
       " <bdi dir=\"ltr\">\n",
       " 10 000+\n",
       " </bdi>\n",
       " <span class=\"jsl10n\" data-jsl10n=\"portal.entries\">\n",
       " articles\n",
       " </span>\n",
       " </span>\n",
       " </span>\n",
       " </h2>,\n",
       " <h2 class=\"bookshelf-container\">\n",
       " <span class=\"bookshelf\">\n",
       " <span class=\"text\">\n",
       " <bdi dir=\"ltr\">\n",
       " 1 000+\n",
       " </bdi>\n",
       " <span class=\"jsl10n\" data-jsl10n=\"portal.entries\">\n",
       " articles\n",
       " </span>\n",
       " </span>\n",
       " </span>\n",
       " </h2>,\n",
       " <h2 class=\"bookshelf-container\">\n",
       " <span class=\"bookshelf\">\n",
       " <span class=\"text\">\n",
       " <bdi dir=\"ltr\">\n",
       " 100+\n",
       " </bdi>\n",
       " <span class=\"jsl10n\" data-jsl10n=\"portal.entries\">\n",
       " articles\n",
       " </span>\n",
       " </span>\n",
       " </span>\n",
       " </h2>]"
      ]
     },
     "execution_count": 4,
     "metadata": {},
     "output_type": "execute_result"
    }
   ],
   "source": [
    "header_tag"
   ]
  },
  {
   "cell_type": "code",
   "execution_count": null,
   "id": "555c94cc",
   "metadata": {},
   "outputs": [],
   "source": []
  },
  {
   "cell_type": "code",
   "execution_count": null,
   "id": "c5684d01",
   "metadata": {},
   "outputs": [],
   "source": []
  },
  {
   "cell_type": "markdown",
   "id": "4b450e7a",
   "metadata": {},
   "source": [
    "### 2)Write a python program to display IMDB’s Top rated 100 movies’ data (i.e. name, rating, year of release)and make data frame# "
   ]
  },
  {
   "cell_type": "code",
   "execution_count": 5,
   "id": "f8bf7e14",
   "metadata": {},
   "outputs": [],
   "source": [
    "page=requests.get('https://www.imdb.com/list/ls091520106/')\n",
    "soup=BeautifulSoup(page.content)\n"
   ]
  },
  {
   "cell_type": "markdown",
   "id": "eb00446a",
   "metadata": {},
   "source": [
    "### Scraping first Movie Name\n"
   ]
  },
  {
   "cell_type": "code",
   "execution_count": null,
   "id": "aa658fbb",
   "metadata": {},
   "outputs": [],
   "source": [
    "first_movie=soup.find('h3',class_='lister-item-header')\n",
    "first_movie.text"
   ]
  },
  {
   "cell_type": "code",
   "execution_count": null,
   "id": "21126777",
   "metadata": {},
   "outputs": [],
   "source": [
    "first_movie.text.split('\\n')"
   ]
  },
  {
   "cell_type": "code",
   "execution_count": 8,
   "id": "db85faed",
   "metadata": {},
   "outputs": [
    {
     "name": "stdout",
     "output_type": "stream",
     "text": [
      "Scarpped First Movie Name: The Shawshank Redemption\n",
      "Scrapped first movie Year: (1994)\n"
     ]
    }
   ],
   "source": [
    "m=first_movie.text.split('\\n')[2]\n",
    "y=first_movie.text.split('\\n')[3]\n",
    "print(\"Scarpped First Movie Name:\",m)\n",
    "print(\"Scrapped first movie Year:\",y)"
   ]
  },
  {
   "cell_type": "markdown",
   "id": "4b8f38c3",
   "metadata": {},
   "source": [
    "### Scrapping Movie and year list"
   ]
  },
  {
   "cell_type": "code",
   "execution_count": 10,
   "id": "13036a91",
   "metadata": {},
   "outputs": [],
   "source": [
    "movies=[]\n",
    "year=[]\n",
    "for i in soup.find_all('h3',class_='lister-item-header'):\n",
    "    movies.append(i.text.split('\\n')[2])\n",
    "    year.append(i.text.split('\\n')[3])\n",
    "      "
   ]
  },
  {
   "cell_type": "markdown",
   "id": "09142a33",
   "metadata": {},
   "source": [
    "###  Year List"
   ]
  },
  {
   "cell_type": "code",
   "execution_count": null,
   "id": "783f60d5",
   "metadata": {},
   "outputs": [],
   "source": [
    "year"
   ]
  },
  {
   "cell_type": "markdown",
   "id": "96b7708f",
   "metadata": {},
   "source": [
    "### First Rank Scrapping"
   ]
  },
  {
   "cell_type": "code",
   "execution_count": null,
   "id": "d503477d",
   "metadata": {},
   "outputs": [],
   "source": [
    "first_rating=soup.find('div',class_='ipl-rating-star small')\n",
    "first_rating.text.split('\\n')[8]"
   ]
  },
  {
   "cell_type": "code",
   "execution_count": null,
   "id": "07c7a232",
   "metadata": {},
   "outputs": [],
   "source": [
    "ratings=[]\n",
    "for i in soup.find_all('div',class_='ipl-rating-star small'):\n",
    "    ratings.append(i.text.split('\\n')[8])\n",
    "    \n",
    "\n"
   ]
  },
  {
   "cell_type": "code",
   "execution_count": 13,
   "id": "0438a38f",
   "metadata": {},
   "outputs": [
    {
     "data": {
      "text/html": [
       "<div>\n",
       "<style scoped>\n",
       "    .dataframe tbody tr th:only-of-type {\n",
       "        vertical-align: middle;\n",
       "    }\n",
       "\n",
       "    .dataframe tbody tr th {\n",
       "        vertical-align: top;\n",
       "    }\n",
       "\n",
       "    .dataframe thead th {\n",
       "        text-align: right;\n",
       "    }\n",
       "</style>\n",
       "<table border=\"1\" class=\"dataframe\">\n",
       "  <thead>\n",
       "    <tr style=\"text-align: right;\">\n",
       "      <th></th>\n",
       "      <th>Movie Name</th>\n",
       "      <th>Rating</th>\n",
       "      <th>Year of Release</th>\n",
       "    </tr>\n",
       "  </thead>\n",
       "  <tbody>\n",
       "    <tr>\n",
       "      <th>0</th>\n",
       "      <td>The Shawshank Redemption</td>\n",
       "      <td>9.3</td>\n",
       "      <td>(1994)</td>\n",
       "    </tr>\n",
       "    <tr>\n",
       "      <th>1</th>\n",
       "      <td>The Godfather</td>\n",
       "      <td>9.2</td>\n",
       "      <td>(1972)</td>\n",
       "    </tr>\n",
       "    <tr>\n",
       "      <th>2</th>\n",
       "      <td>The Godfather Part II</td>\n",
       "      <td>9</td>\n",
       "      <td>(1974)</td>\n",
       "    </tr>\n",
       "    <tr>\n",
       "      <th>3</th>\n",
       "      <td>The Dark Knight</td>\n",
       "      <td>9</td>\n",
       "      <td>(2008)</td>\n",
       "    </tr>\n",
       "    <tr>\n",
       "      <th>4</th>\n",
       "      <td>12 Angry Men</td>\n",
       "      <td>9</td>\n",
       "      <td>(1957)</td>\n",
       "    </tr>\n",
       "    <tr>\n",
       "      <th>...</th>\n",
       "      <td>...</td>\n",
       "      <td>...</td>\n",
       "      <td>...</td>\n",
       "    </tr>\n",
       "    <tr>\n",
       "      <th>95</th>\n",
       "      <td>North by Northwest</td>\n",
       "      <td>8.3</td>\n",
       "      <td>(1959)</td>\n",
       "    </tr>\n",
       "    <tr>\n",
       "      <th>96</th>\n",
       "      <td>A Clockwork Orange</td>\n",
       "      <td>8.3</td>\n",
       "      <td>(1971)</td>\n",
       "    </tr>\n",
       "    <tr>\n",
       "      <th>97</th>\n",
       "      <td>Snatch</td>\n",
       "      <td>8.2</td>\n",
       "      <td>(2000)</td>\n",
       "    </tr>\n",
       "    <tr>\n",
       "      <th>98</th>\n",
       "      <td>Le fabuleux destin d'Amélie Poulain</td>\n",
       "      <td>8.3</td>\n",
       "      <td>(2001)</td>\n",
       "    </tr>\n",
       "    <tr>\n",
       "      <th>99</th>\n",
       "      <td>The Kid</td>\n",
       "      <td>8.3</td>\n",
       "      <td>(1921)</td>\n",
       "    </tr>\n",
       "  </tbody>\n",
       "</table>\n",
       "<p>100 rows × 3 columns</p>\n",
       "</div>"
      ],
      "text/plain": [
       "                             Movie Name Rating Year of Release\n",
       "0              The Shawshank Redemption    9.3          (1994)\n",
       "1                         The Godfather    9.2          (1972)\n",
       "2                 The Godfather Part II      9          (1974)\n",
       "3                       The Dark Knight      9          (2008)\n",
       "4                          12 Angry Men      9          (1957)\n",
       "..                                  ...    ...             ...\n",
       "95                   North by Northwest    8.3          (1959)\n",
       "96                   A Clockwork Orange    8.3          (1971)\n",
       "97                               Snatch    8.2          (2000)\n",
       "98  Le fabuleux destin d'Amélie Poulain    8.3          (2001)\n",
       "99                              The Kid    8.3          (1921)\n",
       "\n",
       "[100 rows x 3 columns]"
      ]
     },
     "execution_count": 13,
     "metadata": {},
     "output_type": "execute_result"
    }
   ],
   "source": [
    "df1=pd.DataFrame({'Movie Name':movies,\n",
    "                 'Rating': ratings,\n",
    "                 'Year of Release':year})\n",
    "df1\n"
   ]
  },
  {
   "cell_type": "code",
   "execution_count": null,
   "id": "760c9aa9",
   "metadata": {},
   "outputs": [],
   "source": []
  },
  {
   "cell_type": "code",
   "execution_count": null,
   "id": "ee602113",
   "metadata": {},
   "outputs": [],
   "source": []
  },
  {
   "cell_type": "markdown",
   "id": "39d15dc8",
   "metadata": {},
   "source": [
    "## 3) Write a python program to display IMDB’s Top rated 100 Indian movies’ data (i.e. name, rating, year ofrelease) and make data frame."
   ]
  },
  {
   "cell_type": "code",
   "execution_count": 14,
   "id": "858d60ee",
   "metadata": {},
   "outputs": [
    {
     "name": "stderr",
     "output_type": "stream",
     "text": [
      "C:\\Users\\hp\\anaconda3\\lib\\site-packages\\urllib3\\connectionpool.py:1043: InsecureRequestWarning: Unverified HTTPS request is being made to host 'www.imdb.com'. Adding certificate verification is strongly advised. See: https://urllib3.readthedocs.io/en/1.26.x/advanced-usage.html#ssl-warnings\n",
      "  warnings.warn(\n"
     ]
    }
   ],
   "source": [
    "webpage=requests.get('https://www.imdb.com/list/ls056092300/?sort=user_rating,desc&st_dt=&mode=detail&page=1',verify=False)\n",
    "\n",
    "soup1=BeautifulSoup(webpage.content)\n"
   ]
  },
  {
   "cell_type": "markdown",
   "id": "afc3b014",
   "metadata": {},
   "source": [
    "#### Scraping first Movie Name\n"
   ]
  },
  {
   "cell_type": "code",
   "execution_count": null,
   "id": "c262c28e",
   "metadata": {},
   "outputs": [],
   "source": [
    "first_movie=soup1.find('h3',class_='lister-item-header')\n",
    "first_movie.text.split('\\n')[2]"
   ]
  },
  {
   "cell_type": "markdown",
   "id": "e924a8df",
   "metadata": {},
   "source": [
    "### Scarpping first year"
   ]
  },
  {
   "cell_type": "code",
   "execution_count": null,
   "id": "b4174626",
   "metadata": {},
   "outputs": [],
   "source": [
    "first_movie.text.split('\\n')[3]"
   ]
  },
  {
   "cell_type": "code",
   "execution_count": 16,
   "id": "3e8ef679",
   "metadata": {},
   "outputs": [],
   "source": [
    "movie_list=[]\n",
    "year_list=[]\n",
    "for i in soup1.find_all('h3',class_='lister-item-header'):\n",
    "    movie_list.append(i.text.split('\\n')[2])\n",
    "    year_list.append(i.text.split('\\n')[3])\n",
    "    \n"
   ]
  },
  {
   "cell_type": "markdown",
   "id": "acc4f529",
   "metadata": {},
   "source": [
    "### SCrapping rating"
   ]
  },
  {
   "cell_type": "code",
   "execution_count": null,
   "id": "5bffb116",
   "metadata": {},
   "outputs": [],
   "source": [
    "first_rank=soup.find('div',class_=\"ipl-rating-star small\")\n",
    "first_rank.text.split('\\n')[8]"
   ]
  },
  {
   "cell_type": "code",
   "execution_count": 19,
   "id": "78643038",
   "metadata": {},
   "outputs": [],
   "source": [
    "rank_list=[]\n",
    "for i in soup.find_all('div',class_=\"ipl-rating-star small\"):\n",
    "    rank_list.append(i.text.split('\\n')[8])\n",
    "    \n"
   ]
  },
  {
   "cell_type": "markdown",
   "id": "426e3f2f",
   "metadata": {},
   "source": [
    "### DataFrame for scarpped data"
   ]
  },
  {
   "cell_type": "code",
   "execution_count": 20,
   "id": "fd3d7d8f",
   "metadata": {},
   "outputs": [
    {
     "data": {
      "text/html": [
       "<div>\n",
       "<style scoped>\n",
       "    .dataframe tbody tr th:only-of-type {\n",
       "        vertical-align: middle;\n",
       "    }\n",
       "\n",
       "    .dataframe tbody tr th {\n",
       "        vertical-align: top;\n",
       "    }\n",
       "\n",
       "    .dataframe thead th {\n",
       "        text-align: right;\n",
       "    }\n",
       "</style>\n",
       "<table border=\"1\" class=\"dataframe\">\n",
       "  <thead>\n",
       "    <tr style=\"text-align: right;\">\n",
       "      <th></th>\n",
       "      <th>Movie Title</th>\n",
       "      <th>Release Year</th>\n",
       "      <th>Ranking</th>\n",
       "    </tr>\n",
       "  </thead>\n",
       "  <tbody>\n",
       "    <tr>\n",
       "      <th>0</th>\n",
       "      <td>Sagara Sangamam</td>\n",
       "      <td>(1983)</td>\n",
       "      <td>9.3</td>\n",
       "    </tr>\n",
       "    <tr>\n",
       "      <th>1</th>\n",
       "      <td>Goopy Gyne Bagha Byne</td>\n",
       "      <td>(1969)</td>\n",
       "      <td>9.2</td>\n",
       "    </tr>\n",
       "    <tr>\n",
       "      <th>2</th>\n",
       "      <td>Nayakan</td>\n",
       "      <td>(1987)</td>\n",
       "      <td>9</td>\n",
       "    </tr>\n",
       "    <tr>\n",
       "      <th>3</th>\n",
       "      <td>Pushpaka Vimana</td>\n",
       "      <td>(1987)</td>\n",
       "      <td>9</td>\n",
       "    </tr>\n",
       "    <tr>\n",
       "      <th>4</th>\n",
       "      <td>Apur Sansar</td>\n",
       "      <td>(1959)</td>\n",
       "      <td>9</td>\n",
       "    </tr>\n",
       "    <tr>\n",
       "      <th>...</th>\n",
       "      <td>...</td>\n",
       "      <td>...</td>\n",
       "      <td>...</td>\n",
       "    </tr>\n",
       "    <tr>\n",
       "      <th>95</th>\n",
       "      <td>Lamhe</td>\n",
       "      <td>(1991)</td>\n",
       "      <td>8.3</td>\n",
       "    </tr>\n",
       "    <tr>\n",
       "      <th>96</th>\n",
       "      <td>Vanaja</td>\n",
       "      <td>(2006)</td>\n",
       "      <td>8.3</td>\n",
       "    </tr>\n",
       "    <tr>\n",
       "      <th>97</th>\n",
       "      <td>Enthiran</td>\n",
       "      <td>(2010)</td>\n",
       "      <td>8.2</td>\n",
       "    </tr>\n",
       "    <tr>\n",
       "      <th>98</th>\n",
       "      <td>Chandni</td>\n",
       "      <td>(1989)</td>\n",
       "      <td>8.3</td>\n",
       "    </tr>\n",
       "    <tr>\n",
       "      <th>99</th>\n",
       "      <td>Neecha Nagar</td>\n",
       "      <td>(1946)</td>\n",
       "      <td>8.3</td>\n",
       "    </tr>\n",
       "  </tbody>\n",
       "</table>\n",
       "<p>100 rows × 3 columns</p>\n",
       "</div>"
      ],
      "text/plain": [
       "              Movie Title Release Year Ranking\n",
       "0         Sagara Sangamam       (1983)     9.3\n",
       "1   Goopy Gyne Bagha Byne       (1969)     9.2\n",
       "2                 Nayakan       (1987)       9\n",
       "3         Pushpaka Vimana       (1987)       9\n",
       "4             Apur Sansar       (1959)       9\n",
       "..                    ...          ...     ...\n",
       "95                  Lamhe       (1991)     8.3\n",
       "96                 Vanaja       (2006)     8.3\n",
       "97               Enthiran       (2010)     8.2\n",
       "98                Chandni       (1989)     8.3\n",
       "99           Neecha Nagar       (1946)     8.3\n",
       "\n",
       "[100 rows x 3 columns]"
      ]
     },
     "execution_count": 20,
     "metadata": {},
     "output_type": "execute_result"
    }
   ],
   "source": [
    "df2=pd.DataFrame({'Movie Title':movie_list,\n",
    "                 'Release Year':year_list,\n",
    "                 'Ranking':rank_list})\n",
    "df2"
   ]
  },
  {
   "cell_type": "code",
   "execution_count": null,
   "id": "2437a542",
   "metadata": {},
   "outputs": [],
   "source": []
  },
  {
   "cell_type": "code",
   "execution_count": null,
   "id": "d9744880",
   "metadata": {},
   "outputs": [],
   "source": []
  },
  {
   "cell_type": "markdown",
   "id": "0b1eb3ac",
   "metadata": {},
   "source": [
    "## 4)Write s python program to display list of respected former presidents of India(i.e. Name , Term of office) from https://presidentofindia.nic.in/former-presidents.htm"
   ]
  },
  {
   "cell_type": "code",
   "execution_count": 21,
   "id": "ee2c3394",
   "metadata": {},
   "outputs": [],
   "source": [
    "webpage2=requests.get('https://presidentofindia.nic.in/former-presidents.htm')\n",
    "soup2=BeautifulSoup(webpage2.content)\n"
   ]
  },
  {
   "cell_type": "markdown",
   "id": "fa2d3b4b",
   "metadata": {},
   "source": [
    "### Scrapping First Name"
   ]
  },
  {
   "cell_type": "code",
   "execution_count": null,
   "id": "4acb27a2",
   "metadata": {},
   "outputs": [],
   "source": [
    "first_prsident_name=soup2.find('div',class_='presidentListing')\n",
    "first_prsident_name.text"
   ]
  },
  {
   "cell_type": "code",
   "execution_count": null,
   "id": "1749ccc9",
   "metadata": {},
   "outputs": [],
   "source": [
    "first_prsident_name.text.split('\\n')\n"
   ]
  },
  {
   "cell_type": "code",
   "execution_count": null,
   "id": "6517e2db",
   "metadata": {},
   "outputs": [],
   "source": [
    "pn=first_prsident_name.text.split('(')[0]\n",
    "pn.split('\\n')[1]"
   ]
  },
  {
   "cell_type": "markdown",
   "id": "ad8a0bcb",
   "metadata": {},
   "source": [
    "### First Term of office\n"
   ]
  },
  {
   "cell_type": "code",
   "execution_count": null,
   "id": "d72a6330",
   "metadata": {},
   "outputs": [],
   "source": [
    "first_term=first_prsident_name.text.split(':')[1]\n",
    "first_term.split('\\n')[0]"
   ]
  },
  {
   "cell_type": "code",
   "execution_count": 24,
   "id": "4952ecf8",
   "metadata": {},
   "outputs": [],
   "source": [
    "former_president=[]\n",
    "\n",
    "for i in soup2.find_all('div',class_='presidentListing'):\n",
    "    t=(i.text.split('\\n')[1])\n",
    "    former_president.append(t.split(\"(\")[0])\n",
    "\n"
   ]
  },
  {
   "cell_type": "markdown",
   "id": "1d60777f",
   "metadata": {},
   "source": [
    "### Term of Office"
   ]
  },
  {
   "cell_type": "code",
   "execution_count": 25,
   "id": "97dca77d",
   "metadata": {},
   "outputs": [],
   "source": [
    "term_of_office=[]\n",
    "for i in soup2.find_all('div',class_='presidentListing'):\n",
    "    to=(i.text.split(':')[1])\n",
    "    term_of_office.append(to.split(\"\\n\")[0])\n"
   ]
  },
  {
   "cell_type": "code",
   "execution_count": 26,
   "id": "77ebdf3c",
   "metadata": {},
   "outputs": [],
   "source": [
    "df3=pd.DataFrame({'Former President Name':former_president,\n",
    "                  'Term Of Office': term_of_office\n",
    "                })"
   ]
  },
  {
   "cell_type": "code",
   "execution_count": 27,
   "id": "172f1177",
   "metadata": {},
   "outputs": [
    {
     "data": {
      "text/html": [
       "<div>\n",
       "<style scoped>\n",
       "    .dataframe tbody tr th:only-of-type {\n",
       "        vertical-align: middle;\n",
       "    }\n",
       "\n",
       "    .dataframe tbody tr th {\n",
       "        vertical-align: top;\n",
       "    }\n",
       "\n",
       "    .dataframe thead th {\n",
       "        text-align: right;\n",
       "    }\n",
       "</style>\n",
       "<table border=\"1\" class=\"dataframe\">\n",
       "  <thead>\n",
       "    <tr style=\"text-align: right;\">\n",
       "      <th></th>\n",
       "      <th>Former President Name</th>\n",
       "      <th>Term Of Office</th>\n",
       "    </tr>\n",
       "  </thead>\n",
       "  <tbody>\n",
       "    <tr>\n",
       "      <th>0</th>\n",
       "      <td>Shri Ram Nath Kovind</td>\n",
       "      <td>25 July, 2017 to 25 July, 2022</td>\n",
       "    </tr>\n",
       "    <tr>\n",
       "      <th>1</th>\n",
       "      <td>Shri Pranab Mukherjee</td>\n",
       "      <td>25 July, 2012 to 25 July, 2017</td>\n",
       "    </tr>\n",
       "    <tr>\n",
       "      <th>2</th>\n",
       "      <td>Smt Pratibha Devisingh Patil</td>\n",
       "      <td>25 July, 2007 to 25 July, 2012</td>\n",
       "    </tr>\n",
       "    <tr>\n",
       "      <th>3</th>\n",
       "      <td>DR. A.P.J. Abdul Kalam</td>\n",
       "      <td>25 July, 2002 to 25 July, 2007</td>\n",
       "    </tr>\n",
       "    <tr>\n",
       "      <th>4</th>\n",
       "      <td>Shri K. R. Narayanan</td>\n",
       "      <td>25 July, 1997 to 25 July, 2002</td>\n",
       "    </tr>\n",
       "    <tr>\n",
       "      <th>5</th>\n",
       "      <td>Dr Shankar Dayal Sharma</td>\n",
       "      <td>25 July, 1992 to 25 July, 1997</td>\n",
       "    </tr>\n",
       "    <tr>\n",
       "      <th>6</th>\n",
       "      <td>Shri R Venkataraman</td>\n",
       "      <td>25 July, 1987 to 25 July, 1992</td>\n",
       "    </tr>\n",
       "    <tr>\n",
       "      <th>7</th>\n",
       "      <td>Giani Zail Singh</td>\n",
       "      <td>25 July, 1982 to 25 July, 1987</td>\n",
       "    </tr>\n",
       "    <tr>\n",
       "      <th>8</th>\n",
       "      <td>Shri Neelam Sanjiva Reddy</td>\n",
       "      <td>25 July, 1977 to 25 July, 1982</td>\n",
       "    </tr>\n",
       "    <tr>\n",
       "      <th>9</th>\n",
       "      <td>Dr. Fakhruddin Ali Ahmed</td>\n",
       "      <td>24 August, 1974 to 11 February, 1977</td>\n",
       "    </tr>\n",
       "    <tr>\n",
       "      <th>10</th>\n",
       "      <td>Shri Varahagiri Venkata Giri</td>\n",
       "      <td>3 May, 1969 to 20 July, 1969 and 24 August, 1...</td>\n",
       "    </tr>\n",
       "    <tr>\n",
       "      <th>11</th>\n",
       "      <td>Dr. Zakir Husain</td>\n",
       "      <td>13 May, 1967 to 3 May, 1969</td>\n",
       "    </tr>\n",
       "    <tr>\n",
       "      <th>12</th>\n",
       "      <td>Dr. Sarvepalli Radhakrishnan</td>\n",
       "      <td>13 May, 1962 to 13 May, 1967</td>\n",
       "    </tr>\n",
       "    <tr>\n",
       "      <th>13</th>\n",
       "      <td>Dr. Rajendra Prasad</td>\n",
       "      <td>26 January, 1950 to 13 May, 1962</td>\n",
       "    </tr>\n",
       "  </tbody>\n",
       "</table>\n",
       "</div>"
      ],
      "text/plain": [
       "            Former President Name  \\\n",
       "0           Shri Ram Nath Kovind    \n",
       "1          Shri Pranab Mukherjee    \n",
       "2   Smt Pratibha Devisingh Patil    \n",
       "3         DR. A.P.J. Abdul Kalam    \n",
       "4           Shri K. R. Narayanan    \n",
       "5        Dr Shankar Dayal Sharma    \n",
       "6            Shri R Venkataraman    \n",
       "7               Giani Zail Singh    \n",
       "8      Shri Neelam Sanjiva Reddy    \n",
       "9       Dr. Fakhruddin Ali Ahmed    \n",
       "10  Shri Varahagiri Venkata Giri    \n",
       "11              Dr. Zakir Husain    \n",
       "12  Dr. Sarvepalli Radhakrishnan    \n",
       "13           Dr. Rajendra Prasad    \n",
       "\n",
       "                                       Term Of Office  \n",
       "0                     25 July, 2017 to 25 July, 2022   \n",
       "1                     25 July, 2012 to 25 July, 2017   \n",
       "2                     25 July, 2007 to 25 July, 2012   \n",
       "3                     25 July, 2002 to 25 July, 2007   \n",
       "4                     25 July, 1997 to 25 July, 2002   \n",
       "5                     25 July, 1992 to 25 July, 1997   \n",
       "6                     25 July, 1987 to 25 July, 1992   \n",
       "7                     25 July, 1982 to 25 July, 1987   \n",
       "8                     25 July, 1977 to 25 July, 1982   \n",
       "9                24 August, 1974 to 11 February, 1977  \n",
       "10   3 May, 1969 to 20 July, 1969 and 24 August, 1...  \n",
       "11                        13 May, 1967 to 3 May, 1969  \n",
       "12                       13 May, 1962 to 13 May, 1967  \n",
       "13                   26 January, 1950 to 13 May, 1962  "
      ]
     },
     "execution_count": 27,
     "metadata": {},
     "output_type": "execute_result"
    }
   ],
   "source": [
    "df3"
   ]
  },
  {
   "cell_type": "code",
   "execution_count": null,
   "id": "4c76071b",
   "metadata": {},
   "outputs": [],
   "source": []
  },
  {
   "cell_type": "code",
   "execution_count": null,
   "id": "15307891",
   "metadata": {},
   "outputs": [],
   "source": []
  },
  {
   "cell_type": "markdown",
   "id": "02162040",
   "metadata": {},
   "source": [
    "## 5)Write a python program to scrape cricket rankings from icc-cricket.com. You have to scrape:¶\n",
    "\n",
    "\n",
    "### a)Top 10 ODI teams in men’s cricket along with the records for matches, points and rating\n"
   ]
  },
  {
   "cell_type": "code",
   "execution_count": 28,
   "id": "17da96ce",
   "metadata": {},
   "outputs": [],
   "source": [
    "wp=requests.get('https://www.icc-cricket.com/rankings/mens/team-rankings/odi')\n",
    "soup6=BeautifulSoup(wp.content)\n"
   ]
  },
  {
   "cell_type": "code",
   "execution_count": null,
   "id": "c8c4764c",
   "metadata": {},
   "outputs": [],
   "source": []
  },
  {
   "cell_type": "markdown",
   "id": "dc35b87a",
   "metadata": {},
   "source": [
    "### Team Scrapping "
   ]
  },
  {
   "cell_type": "code",
   "execution_count": null,
   "id": "8b57020a",
   "metadata": {},
   "outputs": [],
   "source": [
    "ft=soup6.find('td',class_='rankings-block__banner--team-name').text.split(\"\\n\")[2]\n",
    "ft"
   ]
  },
  {
   "cell_type": "code",
   "execution_count": 31,
   "id": "dd57b8d9",
   "metadata": {},
   "outputs": [],
   "source": [
    "team10=[]\n",
    "for i in soup6.find_all('span',class_=\"u-hide-phablet\"):\n",
    "    team10.append(i.text)\n"
   ]
  },
  {
   "cell_type": "markdown",
   "id": "e59651fd",
   "metadata": {},
   "source": [
    "### Scrapping matches "
   ]
  },
  {
   "cell_type": "code",
   "execution_count": 33,
   "id": "243e1883",
   "metadata": {},
   "outputs": [],
   "source": [
    "fm=soup6.find('td',class_='rankings-block__banner--matches').text\n"
   ]
  },
  {
   "cell_type": "code",
   "execution_count": 35,
   "id": "19d6a62f",
   "metadata": {},
   "outputs": [],
   "source": [
    "matches10=[]\n",
    "for i in soup6.find_all('tr',class_='table-body'):\n",
    "    matches10.append(i.text.split('\\n')[7])\n",
    "matches10.insert(0,fm)\n"
   ]
  },
  {
   "cell_type": "markdown",
   "id": "a84c56c1",
   "metadata": {},
   "source": [
    "### Scrapping points"
   ]
  },
  {
   "cell_type": "code",
   "execution_count": 36,
   "id": "c93a5d2d",
   "metadata": {},
   "outputs": [],
   "source": [
    "fp1=soup6.find('td',class_='rankings-block__banner--points').text\n"
   ]
  },
  {
   "cell_type": "code",
   "execution_count": 37,
   "id": "5e5fe397",
   "metadata": {},
   "outputs": [],
   "source": [
    "points10=[]\n",
    "for i in soup6.find_all('tr',class_='table-body'):\n",
    "    points10.append(i.text.split('\\n')[8])\n",
    "points10.insert(0,fp1)\n"
   ]
  },
  {
   "cell_type": "markdown",
   "id": "b32a15ef",
   "metadata": {},
   "source": [
    "## Scrapping Rating "
   ]
  },
  {
   "cell_type": "code",
   "execution_count": 38,
   "id": "e3ff4607",
   "metadata": {},
   "outputs": [],
   "source": [
    "fr=soup6.find('td',class_='rankings-block__banner--rating u-text-right').text\n",
    "\n"
   ]
  },
  {
   "cell_type": "code",
   "execution_count": 39,
   "id": "2be61123",
   "metadata": {},
   "outputs": [],
   "source": [
    "rating10=[]\n",
    "\n",
    "for i in soup6.find_all('tr',class_='table-body'):\n",
    "    rating10.append(i.text.split('\\n')[9])\n",
    "rating10.insert(0,fr)\n"
   ]
  },
  {
   "cell_type": "code",
   "execution_count": 40,
   "id": "69916996",
   "metadata": {},
   "outputs": [],
   "source": [
    "newrating10=[s.strip() for s in rating10]\n"
   ]
  },
  {
   "cell_type": "markdown",
   "id": "6f5fc292",
   "metadata": {},
   "source": [
    "### Scrapped DataFrame "
   ]
  },
  {
   "cell_type": "code",
   "execution_count": 41,
   "id": "31337fa7",
   "metadata": {},
   "outputs": [
    {
     "data": {
      "text/html": [
       "<div>\n",
       "<style scoped>\n",
       "    .dataframe tbody tr th:only-of-type {\n",
       "        vertical-align: middle;\n",
       "    }\n",
       "\n",
       "    .dataframe tbody tr th {\n",
       "        vertical-align: top;\n",
       "    }\n",
       "\n",
       "    .dataframe thead th {\n",
       "        text-align: right;\n",
       "    }\n",
       "</style>\n",
       "<table border=\"1\" class=\"dataframe\">\n",
       "  <thead>\n",
       "    <tr style=\"text-align: right;\">\n",
       "      <th></th>\n",
       "      <th>Team</th>\n",
       "      <th>Matches</th>\n",
       "      <th>Points</th>\n",
       "      <th>Rank</th>\n",
       "    </tr>\n",
       "  </thead>\n",
       "  <tbody>\n",
       "    <tr>\n",
       "      <th>0</th>\n",
       "      <td>New Zealand</td>\n",
       "      <td>26</td>\n",
       "      <td>3,045</td>\n",
       "      <td>117</td>\n",
       "    </tr>\n",
       "    <tr>\n",
       "      <th>1</th>\n",
       "      <td>England</td>\n",
       "      <td>30</td>\n",
       "      <td>3,400</td>\n",
       "      <td>113</td>\n",
       "    </tr>\n",
       "    <tr>\n",
       "      <th>2</th>\n",
       "      <td>Australia</td>\n",
       "      <td>32</td>\n",
       "      <td>3,572</td>\n",
       "      <td>112</td>\n",
       "    </tr>\n",
       "    <tr>\n",
       "      <th>3</th>\n",
       "      <td>India</td>\n",
       "      <td>41</td>\n",
       "      <td>4,515</td>\n",
       "      <td>110</td>\n",
       "    </tr>\n",
       "    <tr>\n",
       "      <th>4</th>\n",
       "      <td>Pakistan</td>\n",
       "      <td>25</td>\n",
       "      <td>2,649</td>\n",
       "      <td>106</td>\n",
       "    </tr>\n",
       "    <tr>\n",
       "      <th>5</th>\n",
       "      <td>South Africa</td>\n",
       "      <td>24</td>\n",
       "      <td>2,392</td>\n",
       "      <td>100</td>\n",
       "    </tr>\n",
       "    <tr>\n",
       "      <th>6</th>\n",
       "      <td>Bangladesh</td>\n",
       "      <td>33</td>\n",
       "      <td>3,129</td>\n",
       "      <td>95</td>\n",
       "    </tr>\n",
       "    <tr>\n",
       "      <th>7</th>\n",
       "      <td>Sri Lanka</td>\n",
       "      <td>34</td>\n",
       "      <td>2,976</td>\n",
       "      <td>88</td>\n",
       "    </tr>\n",
       "    <tr>\n",
       "      <th>8</th>\n",
       "      <td>Afghanistan</td>\n",
       "      <td>20</td>\n",
       "      <td>1,419</td>\n",
       "      <td>71</td>\n",
       "    </tr>\n",
       "    <tr>\n",
       "      <th>9</th>\n",
       "      <td>West Indies</td>\n",
       "      <td>41</td>\n",
       "      <td>2,902</td>\n",
       "      <td>71</td>\n",
       "    </tr>\n",
       "  </tbody>\n",
       "</table>\n",
       "</div>"
      ],
      "text/plain": [
       "           Team Matches Points Rank\n",
       "0   New Zealand      26  3,045  117\n",
       "1       England      30  3,400  113\n",
       "2     Australia      32  3,572  112\n",
       "3         India      41  4,515  110\n",
       "4      Pakistan      25  2,649  106\n",
       "5  South Africa      24  2,392  100\n",
       "6    Bangladesh      33  3,129   95\n",
       "7     Sri Lanka      34  2,976   88\n",
       "8   Afghanistan      20  1,419   71\n",
       "9   West Indies      41  2,902   71"
      ]
     },
     "execution_count": 41,
     "metadata": {},
     "output_type": "execute_result"
    }
   ],
   "source": [
    "men_odi=pd.DataFrame({'Team':team10[0:10],\n",
    "                     'Matches':matches10[0:10],\n",
    "                     'Points':points10[0:10],\n",
    "                     'Rank':newrating10[0:10]})\n",
    "\n",
    "men_odi"
   ]
  },
  {
   "cell_type": "markdown",
   "id": "cad6d766",
   "metadata": {},
   "source": [
    "### b)Top 10 ODI Batsmen along with the records of their team and rating.\n"
   ]
  },
  {
   "cell_type": "code",
   "execution_count": 42,
   "id": "02de280a",
   "metadata": {},
   "outputs": [],
   "source": [
    "wp1=requests.get('https://www.icc-cricket.com/rankings/mens/player-rankings/odi')\n",
    "soup7=BeautifulSoup(wp1.content)\n"
   ]
  },
  {
   "cell_type": "code",
   "execution_count": null,
   "id": "caa1bbfa",
   "metadata": {},
   "outputs": [],
   "source": []
  },
  {
   "cell_type": "markdown",
   "id": "7f7b930a",
   "metadata": {},
   "source": [
    "## Batsmen Scrapping\n"
   ]
  },
  {
   "cell_type": "code",
   "execution_count": 43,
   "id": "d51477f3",
   "metadata": {},
   "outputs": [],
   "source": [
    "fb=(soup7.find('div',class_='rankings-block__banner--name').text)\n"
   ]
  },
  {
   "cell_type": "code",
   "execution_count": 44,
   "id": "d22e25e9",
   "metadata": {},
   "outputs": [],
   "source": [
    "batsmen10=[]\n",
    "for i in soup7.find_all('td',class_='table-body__cell name'):\n",
    "    batsmen10.append(i.text.split('\\n')[1])\n",
    "    \n",
    "batsmen10.insert(0,fb)\n"
   ]
  },
  {
   "cell_type": "markdown",
   "id": "9d676442",
   "metadata": {},
   "source": [
    "### Scrapping team name"
   ]
  },
  {
   "cell_type": "code",
   "execution_count": 46,
   "id": "768d9a2e",
   "metadata": {},
   "outputs": [],
   "source": [
    "bt=soup7.find('div',class_='rankings-block__banner--nationality').text.split('\\n')[2]\n",
    "\n"
   ]
  },
  {
   "cell_type": "code",
   "execution_count": 47,
   "id": "b844f371",
   "metadata": {},
   "outputs": [],
   "source": [
    "batsmenteam10=[]\n",
    "for i in soup7.find_all('span',class_='table-body__logo-text'):\n",
    "    batsmenteam10.append(i.text)\n",
    "batsmenteam10.insert(0,bt)\n"
   ]
  },
  {
   "cell_type": "markdown",
   "id": "70557df5",
   "metadata": {},
   "source": [
    "## Scrapping Rating"
   ]
  },
  {
   "cell_type": "code",
   "execution_count": 48,
   "id": "d3f8b7fa",
   "metadata": {},
   "outputs": [],
   "source": [
    "fbr=soup7.find('div',class_='rankings-block__banner--rating').text\n"
   ]
  },
  {
   "cell_type": "code",
   "execution_count": 49,
   "id": "e3c20ccb",
   "metadata": {},
   "outputs": [],
   "source": [
    "batsmenrating10=[]\n",
    "for i in soup7.find_all('td',class_='table-body__cell u-text-right rating'):\n",
    "    batsmenrating10.append(i.text)\n",
    "batsmenrating10.insert(0,fbr)\n"
   ]
  },
  {
   "cell_type": "markdown",
   "id": "d936b78e",
   "metadata": {},
   "source": [
    "### DataFrame of scrapped data"
   ]
  },
  {
   "cell_type": "code",
   "execution_count": 50,
   "id": "632ecdfe",
   "metadata": {},
   "outputs": [
    {
     "data": {
      "text/html": [
       "<div>\n",
       "<style scoped>\n",
       "    .dataframe tbody tr th:only-of-type {\n",
       "        vertical-align: middle;\n",
       "    }\n",
       "\n",
       "    .dataframe tbody tr th {\n",
       "        vertical-align: top;\n",
       "    }\n",
       "\n",
       "    .dataframe thead th {\n",
       "        text-align: right;\n",
       "    }\n",
       "</style>\n",
       "<table border=\"1\" class=\"dataframe\">\n",
       "  <thead>\n",
       "    <tr style=\"text-align: right;\">\n",
       "      <th></th>\n",
       "      <th>Player</th>\n",
       "      <th>Team</th>\n",
       "      <th>Rating</th>\n",
       "    </tr>\n",
       "  </thead>\n",
       "  <tbody>\n",
       "    <tr>\n",
       "      <th>0</th>\n",
       "      <td>Babar Azam</td>\n",
       "      <td>PAK</td>\n",
       "      <td>891</td>\n",
       "    </tr>\n",
       "    <tr>\n",
       "      <th>1</th>\n",
       "      <td>Rassie van der Dussen</td>\n",
       "      <td>SA</td>\n",
       "      <td>766</td>\n",
       "    </tr>\n",
       "    <tr>\n",
       "      <th>2</th>\n",
       "      <td>Imam-ul-Haq</td>\n",
       "      <td>PAK</td>\n",
       "      <td>764</td>\n",
       "    </tr>\n",
       "    <tr>\n",
       "      <th>3</th>\n",
       "      <td>Quinton de Kock</td>\n",
       "      <td>SA</td>\n",
       "      <td>759</td>\n",
       "    </tr>\n",
       "    <tr>\n",
       "      <th>4</th>\n",
       "      <td>David Warner</td>\n",
       "      <td>AUS</td>\n",
       "      <td>747</td>\n",
       "    </tr>\n",
       "    <tr>\n",
       "      <th>5</th>\n",
       "      <td>Virat Kohli</td>\n",
       "      <td>IND</td>\n",
       "      <td>726</td>\n",
       "    </tr>\n",
       "    <tr>\n",
       "      <th>6</th>\n",
       "      <td>Steve Smith</td>\n",
       "      <td>AUS</td>\n",
       "      <td>719</td>\n",
       "    </tr>\n",
       "    <tr>\n",
       "      <th>7</th>\n",
       "      <td>Rohit Sharma</td>\n",
       "      <td>IND</td>\n",
       "      <td>715</td>\n",
       "    </tr>\n",
       "    <tr>\n",
       "      <th>8</th>\n",
       "      <td>Jonny Bairstow</td>\n",
       "      <td>ENG</td>\n",
       "      <td>710</td>\n",
       "    </tr>\n",
       "    <tr>\n",
       "      <th>9</th>\n",
       "      <td>Fakhar Zaman</td>\n",
       "      <td>PAK</td>\n",
       "      <td>695</td>\n",
       "    </tr>\n",
       "  </tbody>\n",
       "</table>\n",
       "</div>"
      ],
      "text/plain": [
       "                  Player Team Rating\n",
       "0             Babar Azam  PAK    891\n",
       "1  Rassie van der Dussen   SA    766\n",
       "2            Imam-ul-Haq  PAK    764\n",
       "3        Quinton de Kock   SA    759\n",
       "4           David Warner  AUS    747\n",
       "5            Virat Kohli  IND    726\n",
       "6            Steve Smith  AUS    719\n",
       "7           Rohit Sharma  IND    715\n",
       "8         Jonny Bairstow  ENG    710\n",
       "9           Fakhar Zaman  PAK    695"
      ]
     },
     "execution_count": 50,
     "metadata": {},
     "output_type": "execute_result"
    }
   ],
   "source": [
    "odi_batsmen=pd.DataFrame({'Player':batsmen10[0:10],\n",
    "                        'Team':batsmenteam10[0:10],\n",
    "                         'Rating':batsmenrating10[0:10]})\n",
    "odi_batsmen"
   ]
  },
  {
   "cell_type": "markdown",
   "id": "6b924338",
   "metadata": {},
   "source": [
    "###  c) Top 10 ODI bowlers along with the records of their team and rating# # "
   ]
  },
  {
   "cell_type": "code",
   "execution_count": 51,
   "id": "701c132d",
   "metadata": {},
   "outputs": [],
   "source": [
    "wp2=requests.get('https://www.icc-cricket.com/rankings/mens/player-rankings/odi/bowling')\n"
   ]
  },
  {
   "cell_type": "code",
   "execution_count": 52,
   "id": "f91c0dd4",
   "metadata": {},
   "outputs": [],
   "source": [
    "soup8=BeautifulSoup(wp2.content)\n"
   ]
  },
  {
   "cell_type": "markdown",
   "id": "07c3ed91",
   "metadata": {},
   "source": [
    "### Scrapping Bowler  "
   ]
  },
  {
   "cell_type": "code",
   "execution_count": 53,
   "id": "c6a5dae8",
   "metadata": {},
   "outputs": [],
   "source": [
    "fb=soup8.find('div',class_='rankings-block__banner--name-large').text\n"
   ]
  },
  {
   "cell_type": "code",
   "execution_count": 54,
   "id": "8bfcf36e",
   "metadata": {},
   "outputs": [],
   "source": [
    "bowler10=[]\n",
    "for i in soup8.find_all('td',class_='table-body__cell rankings-table__name name'):\n",
    "    bowler10.append(i.text.split('\\n')[1])\n",
    "bowler10.insert(0,fb)\n"
   ]
  },
  {
   "cell_type": "markdown",
   "id": "26af819b",
   "metadata": {},
   "source": [
    "## Scraping Team"
   ]
  },
  {
   "cell_type": "code",
   "execution_count": 55,
   "id": "d763844d",
   "metadata": {},
   "outputs": [],
   "source": [
    "bt=soup8.find('div',class_='rankings-block__banner--nationality').text.split('\\n')[2]\n"
   ]
  },
  {
   "cell_type": "code",
   "execution_count": 56,
   "id": "4ba04b13",
   "metadata": {},
   "outputs": [],
   "source": [
    "bowlerteam10=[]\n",
    "for i in soup8.find_all('span',class_='table-body__logo-text'):\n",
    "    bowlerteam10.append(i.text)\n",
    "bowlerteam10.insert(0,bt)\n"
   ]
  },
  {
   "cell_type": "markdown",
   "id": "9978e492",
   "metadata": {},
   "source": [
    "### Scraping Rating"
   ]
  },
  {
   "cell_type": "code",
   "execution_count": 58,
   "id": "4bd6f37b",
   "metadata": {},
   "outputs": [],
   "source": [
    "frate=soup8.find('div',class_='rankings-block__banner--rating').text\n"
   ]
  },
  {
   "cell_type": "code",
   "execution_count": 59,
   "id": "e5d401c2",
   "metadata": {},
   "outputs": [],
   "source": [
    "bowlerrating10=[]\n",
    "for i in soup8.find_all('td',class_='table-body__cell rating'):\n",
    "    bowlerrating10.append(i.text)\n",
    "bowlerrating10.insert(0,frate)\n"
   ]
  },
  {
   "cell_type": "markdown",
   "id": "284afebd",
   "metadata": {},
   "source": [
    "### Bowler DataFrame"
   ]
  },
  {
   "cell_type": "code",
   "execution_count": 60,
   "id": "15a46040",
   "metadata": {},
   "outputs": [
    {
     "data": {
      "text/html": [
       "<div>\n",
       "<style scoped>\n",
       "    .dataframe tbody tr th:only-of-type {\n",
       "        vertical-align: middle;\n",
       "    }\n",
       "\n",
       "    .dataframe tbody tr th {\n",
       "        vertical-align: top;\n",
       "    }\n",
       "\n",
       "    .dataframe thead th {\n",
       "        text-align: right;\n",
       "    }\n",
       "</style>\n",
       "<table border=\"1\" class=\"dataframe\">\n",
       "  <thead>\n",
       "    <tr style=\"text-align: right;\">\n",
       "      <th></th>\n",
       "      <th>Bowler Name</th>\n",
       "      <th>Team</th>\n",
       "      <th>Ratimg</th>\n",
       "    </tr>\n",
       "  </thead>\n",
       "  <tbody>\n",
       "    <tr>\n",
       "      <th>0</th>\n",
       "      <td>Trent Boult</td>\n",
       "      <td>NZ</td>\n",
       "      <td>744</td>\n",
       "    </tr>\n",
       "    <tr>\n",
       "      <th>1</th>\n",
       "      <td>Josh Hazlewood</td>\n",
       "      <td>AUS</td>\n",
       "      <td>727</td>\n",
       "    </tr>\n",
       "    <tr>\n",
       "      <th>2</th>\n",
       "      <td>Mitchell Starc</td>\n",
       "      <td>AUS</td>\n",
       "      <td>665</td>\n",
       "    </tr>\n",
       "    <tr>\n",
       "      <th>3</th>\n",
       "      <td>Rashid Khan</td>\n",
       "      <td>AFG</td>\n",
       "      <td>659</td>\n",
       "    </tr>\n",
       "    <tr>\n",
       "      <th>4</th>\n",
       "      <td>Matt Henry</td>\n",
       "      <td>NZ</td>\n",
       "      <td>656</td>\n",
       "    </tr>\n",
       "    <tr>\n",
       "      <th>5</th>\n",
       "      <td>Adam Zampa</td>\n",
       "      <td>AUS</td>\n",
       "      <td>655</td>\n",
       "    </tr>\n",
       "    <tr>\n",
       "      <th>6</th>\n",
       "      <td>Shaheen Afridi</td>\n",
       "      <td>PAK</td>\n",
       "      <td>654</td>\n",
       "    </tr>\n",
       "    <tr>\n",
       "      <th>7</th>\n",
       "      <td>Shakib Al Hasan</td>\n",
       "      <td>BAN</td>\n",
       "      <td>652</td>\n",
       "    </tr>\n",
       "    <tr>\n",
       "      <th>8</th>\n",
       "      <td>Mustafizur Rahman</td>\n",
       "      <td>BAN</td>\n",
       "      <td>638</td>\n",
       "    </tr>\n",
       "    <tr>\n",
       "      <th>9</th>\n",
       "      <td>Mujeeb Ur Rahman</td>\n",
       "      <td>AFG</td>\n",
       "      <td>637</td>\n",
       "    </tr>\n",
       "  </tbody>\n",
       "</table>\n",
       "</div>"
      ],
      "text/plain": [
       "         Bowler Name Team Ratimg\n",
       "0        Trent Boult   NZ    744\n",
       "1     Josh Hazlewood  AUS    727\n",
       "2     Mitchell Starc  AUS    665\n",
       "3        Rashid Khan  AFG    659\n",
       "4         Matt Henry   NZ    656\n",
       "5         Adam Zampa  AUS    655\n",
       "6     Shaheen Afridi  PAK    654\n",
       "7    Shakib Al Hasan  BAN    652\n",
       "8  Mustafizur Rahman  BAN    638\n",
       "9   Mujeeb Ur Rahman  AFG    637"
      ]
     },
     "execution_count": 60,
     "metadata": {},
     "output_type": "execute_result"
    }
   ],
   "source": [
    "bowlertop10=pd.DataFrame({'Bowler Name':bowler10[0:10],\n",
    "                         'Team':bowlerteam10[0:10],\n",
    "                          'Ratimg':bowlerrating10[0:10]\n",
    "                         })\n",
    "bowlertop10"
   ]
  },
  {
   "cell_type": "code",
   "execution_count": null,
   "id": "6f701cc3",
   "metadata": {},
   "outputs": [],
   "source": []
  },
  {
   "cell_type": "code",
   "execution_count": null,
   "id": "98dbce36",
   "metadata": {},
   "outputs": [],
   "source": []
  },
  {
   "cell_type": "markdown",
   "id": "a2a69b62",
   "metadata": {},
   "source": [
    "##  6)Write a python program to scrape cricket rankings from icc-cricket.com. You have to scrape:"
   ]
  },
  {
   "cell_type": "markdown",
   "id": "f0313aaa",
   "metadata": {},
   "source": [
    "### a) Top 10 ODI teams in women’s cricket along with the records for matches, points and rating"
   ]
  },
  {
   "cell_type": "code",
   "execution_count": 61,
   "id": "46a8ea5d",
   "metadata": {},
   "outputs": [],
   "source": [
    "webpage3=requests.get(\"https://www.icc-cricket.com/rankings/womens/team-rankings/odi\")\n"
   ]
  },
  {
   "cell_type": "code",
   "execution_count": 62,
   "id": "6db440d2",
   "metadata": {},
   "outputs": [],
   "source": [
    "soup3=BeautifulSoup(webpage3.content)\n"
   ]
  },
  {
   "cell_type": "markdown",
   "id": "6b2e0e39",
   "metadata": {},
   "source": [
    "### First Team"
   ]
  },
  {
   "cell_type": "code",
   "execution_count": 63,
   "id": "12984162",
   "metadata": {},
   "outputs": [],
   "source": [
    "first_team=soup3.find(\"span\",class_='u-hide-phablet').text\n"
   ]
  },
  {
   "cell_type": "markdown",
   "id": "ec434deb",
   "metadata": {},
   "source": [
    "#### List of Teams"
   ]
  },
  {
   "cell_type": "code",
   "execution_count": 64,
   "id": "e4f1a12c",
   "metadata": {},
   "outputs": [],
   "source": [
    "team=[]\n",
    "for i in soup3.find_all('span',class_='u-hide-phablet'):\n",
    "    team.append(i.text)\n"
   ]
  },
  {
   "cell_type": "markdown",
   "id": "e53a1c5d",
   "metadata": {},
   "source": [
    "### First match"
   ]
  },
  {
   "cell_type": "code",
   "execution_count": 67,
   "id": "b4389622",
   "metadata": {},
   "outputs": [],
   "source": [
    "first_match=soup3.find('td',class_='rankings-block__banner--matches').text\n"
   ]
  },
  {
   "cell_type": "markdown",
   "id": "007cd932",
   "metadata": {},
   "source": [
    "### List of Matches"
   ]
  },
  {
   "cell_type": "code",
   "execution_count": 69,
   "id": "388d0c13",
   "metadata": {},
   "outputs": [],
   "source": [
    "matches=[]\n",
    "for i in soup3.find_all('tr',class_='table-body'):\n",
    "    matches.append(i.text.split(\"\\n\")[7])\n",
    "\n",
    "\n",
    "matches.insert(0,first_match)"
   ]
  },
  {
   "cell_type": "markdown",
   "id": "8df23362",
   "metadata": {},
   "source": [
    "### FIrst Point"
   ]
  },
  {
   "cell_type": "code",
   "execution_count": 70,
   "id": "06b1152e",
   "metadata": {},
   "outputs": [],
   "source": [
    "first_point=soup3.find('td',class_='rankings-block__banner--points')"
   ]
  },
  {
   "cell_type": "markdown",
   "id": "9516cb5f",
   "metadata": {},
   "source": [
    "### List of Points"
   ]
  },
  {
   "cell_type": "code",
   "execution_count": 71,
   "id": "1d20aafe",
   "metadata": {},
   "outputs": [],
   "source": [
    "points=[]\n",
    "for i in soup3.find_all('tr',class_='table-body'):\n",
    "    points.append(i.text.split(\"\\n\")[8])\n",
    "points.insert(0,first_point.text)    "
   ]
  },
  {
   "cell_type": "markdown",
   "id": "00c0034a",
   "metadata": {},
   "source": [
    "### First Rating"
   ]
  },
  {
   "cell_type": "code",
   "execution_count": 72,
   "id": "3b84e4b0",
   "metadata": {},
   "outputs": [],
   "source": [
    "first_rate=soup3.find('td',class_='rankings-block__banner--rating u-text-right')\n",
    "r=first_rate.text.split(\"\\n\")[1]\n"
   ]
  },
  {
   "cell_type": "markdown",
   "id": "9b818556",
   "metadata": {},
   "source": [
    "### List of Ratings"
   ]
  },
  {
   "cell_type": "code",
   "execution_count": 75,
   "id": "5ae34816",
   "metadata": {},
   "outputs": [],
   "source": [
    "rating=[]\n",
    "for i in soup3.find_all('tr',class_='table-body'):\n",
    "    rating.append(i.text.split(\"\\n\")[9])\n"
   ]
  },
  {
   "cell_type": "code",
   "execution_count": 76,
   "id": "b3495bd8",
   "metadata": {},
   "outputs": [],
   "source": [
    "rating.insert(0,r)"
   ]
  },
  {
   "cell_type": "code",
   "execution_count": 77,
   "id": "d4fa48d5",
   "metadata": {},
   "outputs": [],
   "source": [
    "newratings=[s.strip() for s in rating]\n"
   ]
  },
  {
   "cell_type": "markdown",
   "id": "bfddc82d",
   "metadata": {},
   "source": [
    "### DataFrame of Scrapped Data"
   ]
  },
  {
   "cell_type": "code",
   "execution_count": 78,
   "id": "9ba1f6a7",
   "metadata": {},
   "outputs": [],
   "source": [
    "df4=pd.DataFrame({'Team Name':team[0:10],\n",
    "             'Matches':matches[0:10],\n",
    "             'Points':points[0:10],\n",
    "             'Ratings':newratings[0:10]})"
   ]
  },
  {
   "cell_type": "code",
   "execution_count": 79,
   "id": "84c288f1",
   "metadata": {},
   "outputs": [
    {
     "data": {
      "text/html": [
       "<div>\n",
       "<style scoped>\n",
       "    .dataframe tbody tr th:only-of-type {\n",
       "        vertical-align: middle;\n",
       "    }\n",
       "\n",
       "    .dataframe tbody tr th {\n",
       "        vertical-align: top;\n",
       "    }\n",
       "\n",
       "    .dataframe thead th {\n",
       "        text-align: right;\n",
       "    }\n",
       "</style>\n",
       "<table border=\"1\" class=\"dataframe\">\n",
       "  <thead>\n",
       "    <tr style=\"text-align: right;\">\n",
       "      <th></th>\n",
       "      <th>Team Name</th>\n",
       "      <th>Matches</th>\n",
       "      <th>Points</th>\n",
       "      <th>Ratings</th>\n",
       "    </tr>\n",
       "  </thead>\n",
       "  <tbody>\n",
       "    <tr>\n",
       "      <th>0</th>\n",
       "      <td>Australia</td>\n",
       "      <td>18</td>\n",
       "      <td>3,061</td>\n",
       "      <td>170</td>\n",
       "    </tr>\n",
       "    <tr>\n",
       "      <th>1</th>\n",
       "      <td>England</td>\n",
       "      <td>28</td>\n",
       "      <td>3,342</td>\n",
       "      <td>119</td>\n",
       "    </tr>\n",
       "    <tr>\n",
       "      <th>2</th>\n",
       "      <td>South Africa</td>\n",
       "      <td>26</td>\n",
       "      <td>3,098</td>\n",
       "      <td>119</td>\n",
       "    </tr>\n",
       "    <tr>\n",
       "      <th>3</th>\n",
       "      <td>India</td>\n",
       "      <td>27</td>\n",
       "      <td>2,820</td>\n",
       "      <td>104</td>\n",
       "    </tr>\n",
       "    <tr>\n",
       "      <th>4</th>\n",
       "      <td>New Zealand</td>\n",
       "      <td>25</td>\n",
       "      <td>2,553</td>\n",
       "      <td>102</td>\n",
       "    </tr>\n",
       "    <tr>\n",
       "      <th>5</th>\n",
       "      <td>West Indies</td>\n",
       "      <td>27</td>\n",
       "      <td>2,535</td>\n",
       "      <td>94</td>\n",
       "    </tr>\n",
       "    <tr>\n",
       "      <th>6</th>\n",
       "      <td>Bangladesh</td>\n",
       "      <td>13</td>\n",
       "      <td>983</td>\n",
       "      <td>76</td>\n",
       "    </tr>\n",
       "    <tr>\n",
       "      <th>7</th>\n",
       "      <td>Thailand</td>\n",
       "      <td>8</td>\n",
       "      <td>572</td>\n",
       "      <td>72</td>\n",
       "    </tr>\n",
       "    <tr>\n",
       "      <th>8</th>\n",
       "      <td>Pakistan</td>\n",
       "      <td>24</td>\n",
       "      <td>1,519</td>\n",
       "      <td>63</td>\n",
       "    </tr>\n",
       "    <tr>\n",
       "      <th>9</th>\n",
       "      <td>Sri Lanka</td>\n",
       "      <td>8</td>\n",
       "      <td>353</td>\n",
       "      <td>44</td>\n",
       "    </tr>\n",
       "  </tbody>\n",
       "</table>\n",
       "</div>"
      ],
      "text/plain": [
       "      Team Name Matches Points Ratings\n",
       "0     Australia      18  3,061     170\n",
       "1       England      28  3,342     119\n",
       "2  South Africa      26  3,098     119\n",
       "3         India      27  2,820     104\n",
       "4   New Zealand      25  2,553     102\n",
       "5   West Indies      27  2,535      94\n",
       "6    Bangladesh      13    983      76\n",
       "7      Thailand       8    572      72\n",
       "8      Pakistan      24  1,519      63\n",
       "9     Sri Lanka       8    353      44"
      ]
     },
     "execution_count": 79,
     "metadata": {},
     "output_type": "execute_result"
    }
   ],
   "source": [
    "df4"
   ]
  },
  {
   "cell_type": "markdown",
   "id": "59cc5799",
   "metadata": {},
   "source": [
    "## b)Top 10 ODI Batsmen along with the records of their team and rating. "
   ]
  },
  {
   "cell_type": "code",
   "execution_count": 80,
   "id": "be046cbe",
   "metadata": {},
   "outputs": [],
   "source": [
    "batsman_url=requests.get('https://www.icc-cricket.com/rankings/womens/player-rankings/odi')\n",
    "soup4=BeautifulSoup(batsman_url.content)\n"
   ]
  },
  {
   "cell_type": "markdown",
   "id": "0b95ba8b",
   "metadata": {},
   "source": [
    "### #1 Playername"
   ]
  },
  {
   "cell_type": "code",
   "execution_count": 81,
   "id": "04e130c8",
   "metadata": {},
   "outputs": [],
   "source": [
    "top1=soup4.find('div',class_='rankings-block__banner--name')\n",
    "t=top1.text\n"
   ]
  },
  {
   "cell_type": "markdown",
   "id": "80e384a5",
   "metadata": {},
   "source": [
    "### odi women player list"
   ]
  },
  {
   "cell_type": "code",
   "execution_count": 82,
   "id": "0346adf5",
   "metadata": {},
   "outputs": [],
   "source": [
    "women_player_list=[]\n",
    "for i in soup4.find_all('td',class_='table-body__cell name'):\n",
    "    women_player_list.append(i.text.split('\\n')[1])\n",
    "    \n",
    "women_player_list.insert(0,t)"
   ]
  },
  {
   "cell_type": "markdown",
   "id": "ae93b920",
   "metadata": {},
   "source": [
    "### team"
   ]
  },
  {
   "cell_type": "code",
   "execution_count": 83,
   "id": "2c859370",
   "metadata": {},
   "outputs": [],
   "source": [
    "team1=soup4.find('div',class_='rankings-block__banner--nationality')\n",
    "n=team1.text.split(\"\\n\")[2]\n"
   ]
  },
  {
   "cell_type": "code",
   "execution_count": 84,
   "id": "1962ee9b",
   "metadata": {},
   "outputs": [],
   "source": [
    "nation=[]\n",
    "for i in soup4.find_all('span',class_='table-body__logo-text'):\n",
    "                        nation.append(i.text)\n",
    "nation.insert(0,n)                        "
   ]
  },
  {
   "cell_type": "markdown",
   "id": "3bb5e236",
   "metadata": {},
   "source": [
    "### Rating"
   ]
  },
  {
   "cell_type": "code",
   "execution_count": 85,
   "id": "4a1497bb",
   "metadata": {},
   "outputs": [],
   "source": [
    "r=team1.text.split(\"\\n\")[3]\n"
   ]
  },
  {
   "cell_type": "code",
   "execution_count": 86,
   "id": "22724211",
   "metadata": {},
   "outputs": [],
   "source": [
    "player_rating=[]\n",
    "for i in soup4.find_all('td',class_='table-body__cell u-text-right rating'):\n",
    "    player_rating.append(i.text)\n",
    "player_rating.insert(0,r)    \n",
    "\n",
    "player_rating1=[s.strip() for s in player_rating]\n"
   ]
  },
  {
   "cell_type": "markdown",
   "id": "ab64fc41",
   "metadata": {},
   "source": [
    "### ODI women player DataFrame"
   ]
  },
  {
   "cell_type": "code",
   "execution_count": 87,
   "id": "6355053a",
   "metadata": {},
   "outputs": [],
   "source": [
    "df5=pd.DataFrame({'Player Name':women_player_list[0:10],\n",
    "                 'Team':nation[0:10],\n",
    "                 'Rating':player_rating1[0:10]})"
   ]
  },
  {
   "cell_type": "code",
   "execution_count": 88,
   "id": "cf6df6ef",
   "metadata": {},
   "outputs": [
    {
     "data": {
      "text/html": [
       "<div>\n",
       "<style scoped>\n",
       "    .dataframe tbody tr th:only-of-type {\n",
       "        vertical-align: middle;\n",
       "    }\n",
       "\n",
       "    .dataframe tbody tr th {\n",
       "        vertical-align: top;\n",
       "    }\n",
       "\n",
       "    .dataframe thead th {\n",
       "        text-align: right;\n",
       "    }\n",
       "</style>\n",
       "<table border=\"1\" class=\"dataframe\">\n",
       "  <thead>\n",
       "    <tr style=\"text-align: right;\">\n",
       "      <th></th>\n",
       "      <th>Player Name</th>\n",
       "      <th>Team</th>\n",
       "      <th>Rating</th>\n",
       "    </tr>\n",
       "  </thead>\n",
       "  <tbody>\n",
       "    <tr>\n",
       "      <th>0</th>\n",
       "      <td>Alyssa Healy</td>\n",
       "      <td>AUS</td>\n",
       "      <td>785</td>\n",
       "    </tr>\n",
       "    <tr>\n",
       "      <th>1</th>\n",
       "      <td>Beth Mooney</td>\n",
       "      <td>AUS</td>\n",
       "      <td>749</td>\n",
       "    </tr>\n",
       "    <tr>\n",
       "      <th>2</th>\n",
       "      <td>Laura Wolvaardt</td>\n",
       "      <td>SA</td>\n",
       "      <td>732</td>\n",
       "    </tr>\n",
       "    <tr>\n",
       "      <th>3</th>\n",
       "      <td>Natalie Sciver</td>\n",
       "      <td>ENG</td>\n",
       "      <td>731</td>\n",
       "    </tr>\n",
       "    <tr>\n",
       "      <th>4</th>\n",
       "      <td>Harmanpreet Kaur</td>\n",
       "      <td>IND</td>\n",
       "      <td>716</td>\n",
       "    </tr>\n",
       "    <tr>\n",
       "      <th>5</th>\n",
       "      <td>Smriti Mandhana</td>\n",
       "      <td>IND</td>\n",
       "      <td>714</td>\n",
       "    </tr>\n",
       "    <tr>\n",
       "      <th>6</th>\n",
       "      <td>Meg Lanning</td>\n",
       "      <td>AUS</td>\n",
       "      <td>710</td>\n",
       "    </tr>\n",
       "    <tr>\n",
       "      <th>7</th>\n",
       "      <td>Rachael Haynes</td>\n",
       "      <td>AUS</td>\n",
       "      <td>701</td>\n",
       "    </tr>\n",
       "    <tr>\n",
       "      <th>8</th>\n",
       "      <td>Chamari Athapaththu</td>\n",
       "      <td>SL</td>\n",
       "      <td>655</td>\n",
       "    </tr>\n",
       "    <tr>\n",
       "      <th>9</th>\n",
       "      <td>Ellyse Perry</td>\n",
       "      <td>AUS</td>\n",
       "      <td>642</td>\n",
       "    </tr>\n",
       "  </tbody>\n",
       "</table>\n",
       "</div>"
      ],
      "text/plain": [
       "           Player Name Team Rating\n",
       "0         Alyssa Healy  AUS    785\n",
       "1          Beth Mooney  AUS    749\n",
       "2      Laura Wolvaardt   SA    732\n",
       "3       Natalie Sciver  ENG    731\n",
       "4     Harmanpreet Kaur  IND    716\n",
       "5      Smriti Mandhana  IND    714\n",
       "6          Meg Lanning  AUS    710\n",
       "7       Rachael Haynes  AUS    701\n",
       "8  Chamari Athapaththu   SL    655\n",
       "9         Ellyse Perry  AUS    642"
      ]
     },
     "execution_count": 88,
     "metadata": {},
     "output_type": "execute_result"
    }
   ],
   "source": [
    "df5"
   ]
  },
  {
   "cell_type": "markdown",
   "id": "a51def9b",
   "metadata": {},
   "source": [
    "## c)Top 10 women’s ODI all-rounder along with the records of their team and rating. "
   ]
  },
  {
   "cell_type": "code",
   "execution_count": 89,
   "id": "4a4ffaaa",
   "metadata": {},
   "outputs": [],
   "source": [
    "odi=requests.get('https://www.icc-cricket.com/rankings/womens/player-rankings/odi/all-rounder')\n",
    "soup5=BeautifulSoup(odi.content)\n"
   ]
  },
  {
   "cell_type": "code",
   "execution_count": 90,
   "id": "8ca3bcf8",
   "metadata": {},
   "outputs": [],
   "source": [
    "first_all_runder= soup5.find('div',class_='rankings-block__banner--name-large')\n",
    "a=first_all_runder.text"
   ]
  },
  {
   "cell_type": "markdown",
   "id": "c383f75d",
   "metadata": {},
   "source": [
    "### List of all Rounder "
   ]
  },
  {
   "cell_type": "code",
   "execution_count": 91,
   "id": "7bcce7cb",
   "metadata": {},
   "outputs": [],
   "source": [
    "all_rounder=[]\n",
    "for i in soup5.find_all('td',class_='table-body__cell rankings-table__name name'):\n",
    "    all_rounder.append(i.text.split(\"\\n\")[1])\n",
    "       \n",
    "all_rounder.insert(0,a)\n",
    "\n"
   ]
  },
  {
   "cell_type": "markdown",
   "id": "db3f0b45",
   "metadata": {},
   "source": [
    "### Team scrapping"
   ]
  },
  {
   "cell_type": "code",
   "execution_count": 92,
   "id": "e9aa86bb",
   "metadata": {},
   "outputs": [],
   "source": [
    "team1=soup5.find('div',class_='rankings-block__banner--nationality')\n",
    "aus=team1.text.split('\\n')[2]\n"
   ]
  },
  {
   "cell_type": "code",
   "execution_count": 93,
   "id": "02ba1be8",
   "metadata": {},
   "outputs": [],
   "source": [
    "teams=[]\n",
    "for i in soup5.find_all('span',class_='table-body__logo-text'):\n",
    "    teams.append(i.text)\n",
    "teams.insert(0,aus)\n"
   ]
  },
  {
   "cell_type": "markdown",
   "id": "bf2e8974",
   "metadata": {},
   "source": [
    "### Ranking Scrapping "
   ]
  },
  {
   "cell_type": "code",
   "execution_count": 94,
   "id": "8d4f2cea",
   "metadata": {},
   "outputs": [],
   "source": [
    "rank1=soup5.find('div',class_='rankings-block__banner--rating')\n",
    "rank=rank1.text\n"
   ]
  },
  {
   "cell_type": "code",
   "execution_count": 95,
   "id": "6e7c378c",
   "metadata": {},
   "outputs": [],
   "source": [
    "all_rounder_rating=[]\n",
    "for i in soup5.find_all('td',class_='table-body__cell rating'):\n",
    "    all_rounder_rating.append(i.text)\n",
    "    \n",
    "all_rounder_rating.insert(0,rank)\n"
   ]
  },
  {
   "cell_type": "markdown",
   "id": "0310e034",
   "metadata": {},
   "source": [
    "### All Rounder DataFrame "
   ]
  },
  {
   "cell_type": "code",
   "execution_count": 96,
   "id": "fff75881",
   "metadata": {},
   "outputs": [],
   "source": [
    "all_rounder_df=pd.DataFrame({'Player Name':all_rounder[0:10],\n",
    "                             'Team':teams[0:10],\n",
    "                            'Rating':all_rounder_rating[0:10]\n",
    "                            })"
   ]
  },
  {
   "cell_type": "code",
   "execution_count": 97,
   "id": "669ca2cf",
   "metadata": {},
   "outputs": [
    {
     "data": {
      "text/html": [
       "<div>\n",
       "<style scoped>\n",
       "    .dataframe tbody tr th:only-of-type {\n",
       "        vertical-align: middle;\n",
       "    }\n",
       "\n",
       "    .dataframe tbody tr th {\n",
       "        vertical-align: top;\n",
       "    }\n",
       "\n",
       "    .dataframe thead th {\n",
       "        text-align: right;\n",
       "    }\n",
       "</style>\n",
       "<table border=\"1\" class=\"dataframe\">\n",
       "  <thead>\n",
       "    <tr style=\"text-align: right;\">\n",
       "      <th></th>\n",
       "      <th>Player Name</th>\n",
       "      <th>Team</th>\n",
       "      <th>Rating</th>\n",
       "    </tr>\n",
       "  </thead>\n",
       "  <tbody>\n",
       "    <tr>\n",
       "      <th>0</th>\n",
       "      <td>Ellyse Perry</td>\n",
       "      <td>AUS</td>\n",
       "      <td>374</td>\n",
       "    </tr>\n",
       "    <tr>\n",
       "      <th>1</th>\n",
       "      <td>Hayley Matthews</td>\n",
       "      <td>WI</td>\n",
       "      <td>373</td>\n",
       "    </tr>\n",
       "    <tr>\n",
       "      <th>2</th>\n",
       "      <td>Natalie Sciver</td>\n",
       "      <td>ENG</td>\n",
       "      <td>371</td>\n",
       "    </tr>\n",
       "    <tr>\n",
       "      <th>3</th>\n",
       "      <td>Marizanne Kapp</td>\n",
       "      <td>SA</td>\n",
       "      <td>349</td>\n",
       "    </tr>\n",
       "    <tr>\n",
       "      <th>4</th>\n",
       "      <td>Amelia Kerr</td>\n",
       "      <td>NZ</td>\n",
       "      <td>336</td>\n",
       "    </tr>\n",
       "    <tr>\n",
       "      <th>5</th>\n",
       "      <td>Deepti Sharma</td>\n",
       "      <td>IND</td>\n",
       "      <td>322</td>\n",
       "    </tr>\n",
       "    <tr>\n",
       "      <th>6</th>\n",
       "      <td>Ashleigh Gardner</td>\n",
       "      <td>AUS</td>\n",
       "      <td>270</td>\n",
       "    </tr>\n",
       "    <tr>\n",
       "      <th>7</th>\n",
       "      <td>Jess Jonassen</td>\n",
       "      <td>AUS</td>\n",
       "      <td>246</td>\n",
       "    </tr>\n",
       "    <tr>\n",
       "      <th>8</th>\n",
       "      <td>Jhulan Goswami</td>\n",
       "      <td>IND</td>\n",
       "      <td>214</td>\n",
       "    </tr>\n",
       "    <tr>\n",
       "      <th>9</th>\n",
       "      <td>Sophie Ecclestone</td>\n",
       "      <td>ENG</td>\n",
       "      <td>205</td>\n",
       "    </tr>\n",
       "  </tbody>\n",
       "</table>\n",
       "</div>"
      ],
      "text/plain": [
       "         Player Name Team Rating\n",
       "0       Ellyse Perry  AUS    374\n",
       "1    Hayley Matthews   WI    373\n",
       "2     Natalie Sciver  ENG    371\n",
       "3     Marizanne Kapp   SA    349\n",
       "4        Amelia Kerr   NZ    336\n",
       "5      Deepti Sharma  IND    322\n",
       "6   Ashleigh Gardner  AUS    270\n",
       "7      Jess Jonassen  AUS    246\n",
       "8     Jhulan Goswami  IND    214\n",
       "9  Sophie Ecclestone  ENG    205"
      ]
     },
     "execution_count": 97,
     "metadata": {},
     "output_type": "execute_result"
    }
   ],
   "source": [
    "all_rounder_df"
   ]
  },
  {
   "cell_type": "code",
   "execution_count": null,
   "id": "09dafd1f",
   "metadata": {},
   "outputs": [],
   "source": []
  },
  {
   "cell_type": "code",
   "execution_count": null,
   "id": "16588c62",
   "metadata": {},
   "outputs": [],
   "source": []
  },
  {
   "cell_type": "markdown",
   "id": "9d36ab4a",
   "metadata": {},
   "source": [
    "## 7)Write a python program to scrape mentioned news details from https://www.cnbc.com/world/?region=world :"
   ]
  },
  {
   "cell_type": "markdown",
   "id": "a0be623b",
   "metadata": {},
   "source": [
    "### i) Headline\n"
   ]
  },
  {
   "cell_type": "code",
   "execution_count": 98,
   "id": "80de7de8",
   "metadata": {},
   "outputs": [],
   "source": [
    "news=requests.get('https://www.cnbc.com/world/?region=world')\n",
    "soup9=BeautifulSoup(news.text)\n"
   ]
  },
  {
   "cell_type": "markdown",
   "id": "9a5298cf",
   "metadata": {},
   "source": [
    "### Headline scrapping "
   ]
  },
  {
   "cell_type": "code",
   "execution_count": 99,
   "id": "07e17cc5",
   "metadata": {},
   "outputs": [],
   "source": [
    "headlines=[]\n",
    "for i in soup9.find_all('a',class_='LatestNews-headline'):\n",
    "    headlines.append(i.text)\n"
   ]
  },
  {
   "cell_type": "markdown",
   "id": "7ccdcb4c",
   "metadata": {},
   "source": [
    "### ii)Time"
   ]
  },
  {
   "cell_type": "code",
   "execution_count": 100,
   "id": "089b1a3a",
   "metadata": {},
   "outputs": [],
   "source": [
    "time=soup9.find('span',class_='LatestNews-wrapper').text\n"
   ]
  },
  {
   "cell_type": "code",
   "execution_count": 101,
   "id": "cd8ad5fb",
   "metadata": {},
   "outputs": [],
   "source": [
    "time = []\n",
    "for t in soup9.find_all('span',class_='LatestNews-wrapper'):\n",
    "    time.append(t.text)\n",
    "\n",
    "    "
   ]
  },
  {
   "cell_type": "markdown",
   "id": "b0506bd9",
   "metadata": {},
   "source": [
    "## iii)News Link"
   ]
  },
  {
   "cell_type": "code",
   "execution_count": 102,
   "id": "c91a736a",
   "metadata": {},
   "outputs": [],
   "source": [
    "newslink=[]\n",
    "for link in soup9.find_all('a',class_='LatestNews-headline'):\n",
    "    newslink.append(link.get('href'))\n"
   ]
  },
  {
   "cell_type": "code",
   "execution_count": 103,
   "id": "412f0408",
   "metadata": {},
   "outputs": [
    {
     "name": "stdout",
     "output_type": "stream",
     "text": [
      "30 30 30\n"
     ]
    }
   ],
   "source": [
    "print(len(headlines),len(time),len(newslink))"
   ]
  },
  {
   "cell_type": "markdown",
   "id": "9f2ae682",
   "metadata": {},
   "source": [
    "### DataFrame of scrapped Data"
   ]
  },
  {
   "cell_type": "code",
   "execution_count": 104,
   "id": "c94c2b91",
   "metadata": {},
   "outputs": [
    {
     "data": {
      "text/html": [
       "<div>\n",
       "<style scoped>\n",
       "    .dataframe tbody tr th:only-of-type {\n",
       "        vertical-align: middle;\n",
       "    }\n",
       "\n",
       "    .dataframe tbody tr th {\n",
       "        vertical-align: top;\n",
       "    }\n",
       "\n",
       "    .dataframe thead th {\n",
       "        text-align: right;\n",
       "    }\n",
       "</style>\n",
       "<table border=\"1\" class=\"dataframe\">\n",
       "  <thead>\n",
       "    <tr style=\"text-align: right;\">\n",
       "      <th></th>\n",
       "      <th>Headline</th>\n",
       "      <th>Time</th>\n",
       "      <th>News Link</th>\n",
       "    </tr>\n",
       "  </thead>\n",
       "  <tbody>\n",
       "    <tr>\n",
       "      <th>0</th>\n",
       "      <td>As China reopens and data surprises, economist...</td>\n",
       "      <td>45 Min Ago</td>\n",
       "      <td>https://www.cnbc.com/2023/01/16/as-china-reope...</td>\n",
       "    </tr>\n",
       "    <tr>\n",
       "      <th>1</th>\n",
       "      <td>Soccer star Son Heung-min gives his top 3 tips...</td>\n",
       "      <td>1 Hour Ago</td>\n",
       "      <td>https://www.cnbc.com/2023/01/16/soccer-star-so...</td>\n",
       "    </tr>\n",
       "    <tr>\n",
       "      <th>2</th>\n",
       "      <td>IMF says fragmentation could cost global econo...</td>\n",
       "      <td>2 Hours Ago</td>\n",
       "      <td>https://www.cnbc.com/2023/01/16/imf-says-fragm...</td>\n",
       "    </tr>\n",
       "    <tr>\n",
       "      <th>3</th>\n",
       "      <td>These health care stocks are expected to rally...</td>\n",
       "      <td>2 Hours Ago</td>\n",
       "      <td>https://www.cnbc.com/2023/01/16/these-health-c...</td>\n",
       "    </tr>\n",
       "    <tr>\n",
       "      <th>4</th>\n",
       "      <td>Earnings playbook: Netflix, Goldman Sachs head...</td>\n",
       "      <td>2 Hours Ago</td>\n",
       "      <td>https://www.cnbc.com/2023/01/16/earnings-playb...</td>\n",
       "    </tr>\n",
       "    <tr>\n",
       "      <th>5</th>\n",
       "      <td>Russian gas will return to Europe as people 'f...</td>\n",
       "      <td>2 Hours Ago</td>\n",
       "      <td>https://www.cnbc.com/2023/01/16/russian-gas-wi...</td>\n",
       "    </tr>\n",
       "    <tr>\n",
       "      <th>6</th>\n",
       "      <td>Richest 1% amassed almost two-thirds of new we...</td>\n",
       "      <td>3 Hours Ago</td>\n",
       "      <td>https://www.cnbc.com/2023/01/16/richest-1perce...</td>\n",
       "    </tr>\n",
       "    <tr>\n",
       "      <th>7</th>\n",
       "      <td>Bank of Japan could announce major policy shif...</td>\n",
       "      <td>4 Hours Ago</td>\n",
       "      <td>https://www.cnbc.com/2023/01/16/bofa-says-bank...</td>\n",
       "    </tr>\n",
       "    <tr>\n",
       "      <th>8</th>\n",
       "      <td>German Defense Minister Christine Lambrecht re...</td>\n",
       "      <td>4 Hours Ago</td>\n",
       "      <td>https://www.cnbc.com/2023/01/16/german-defense...</td>\n",
       "    </tr>\n",
       "    <tr>\n",
       "      <th>9</th>\n",
       "      <td>Putin says everything's going to plan in Ukrai...</td>\n",
       "      <td>5 Hours Ago</td>\n",
       "      <td>https://www.cnbc.com/2023/01/16/ukraine-war-li...</td>\n",
       "    </tr>\n",
       "    <tr>\n",
       "      <th>10</th>\n",
       "      <td>'Green' offices in London are over 25% more ex...</td>\n",
       "      <td>7 Hours Ago</td>\n",
       "      <td>https://www.cnbc.com/2023/01/16/londons-green-...</td>\n",
       "    </tr>\n",
       "    <tr>\n",
       "      <th>11</th>\n",
       "      <td>Time to set yearly work goals? Here’s how to p...</td>\n",
       "      <td>7 Hours Ago</td>\n",
       "      <td>https://www.cnbc.com/2023/01/16/time-for-yearl...</td>\n",
       "    </tr>\n",
       "    <tr>\n",
       "      <th>12</th>\n",
       "      <td>European markets inch higher; World Economic F...</td>\n",
       "      <td>8 Hours Ago</td>\n",
       "      <td>https://www.cnbc.com/2023/01/16/european-marke...</td>\n",
       "    </tr>\n",
       "    <tr>\n",
       "      <th>13</th>\n",
       "      <td>India's wedding season is here, but it's no lo...</td>\n",
       "      <td>9 Hours Ago</td>\n",
       "      <td>https://www.cnbc.com/2023/01/16/indian-wedding...</td>\n",
       "    </tr>\n",
       "    <tr>\n",
       "      <th>14</th>\n",
       "      <td>Analysts love these 12 cheap stocks — and give...</td>\n",
       "      <td>10 Hours Ago</td>\n",
       "      <td>https://www.cnbc.com/2023/01/16/analysts-love-...</td>\n",
       "    </tr>\n",
       "    <tr>\n",
       "      <th>15</th>\n",
       "      <td>Fund manager names two U.S. stocks he thinks m...</td>\n",
       "      <td>12 Hours Ago</td>\n",
       "      <td>https://www.cnbc.com/2023/01/16/fund-manager-n...</td>\n",
       "    </tr>\n",
       "    <tr>\n",
       "      <th>16</th>\n",
       "      <td>Want a Tesla alternative? Analysts and fund ma...</td>\n",
       "      <td>12 Hours Ago</td>\n",
       "      <td>https://www.cnbc.com/2023/01/16/want-a-tesla-a...</td>\n",
       "    </tr>\n",
       "    <tr>\n",
       "      <th>17</th>\n",
       "      <td>Shenzhen stocks lead gains in Asia-Pacific on ...</td>\n",
       "      <td>14 Hours Ago</td>\n",
       "      <td>https://www.cnbc.com/2023/01/16/asia-pacific-u...</td>\n",
       "    </tr>\n",
       "    <tr>\n",
       "      <th>18</th>\n",
       "      <td>Scaramucci sees bitcoin at $50,000 to $100,000...</td>\n",
       "      <td>14 Hours Ago</td>\n",
       "      <td>https://www.cnbc.com/2023/01/16/bitcoin-price-...</td>\n",
       "    </tr>\n",
       "    <tr>\n",
       "      <th>19</th>\n",
       "      <td>FAA launches investigation after two planes ne...</td>\n",
       "      <td>19 Hours Ago</td>\n",
       "      <td>https://www.cnbc.com/2023/01/15/faa-launches-i...</td>\n",
       "    </tr>\n",
       "    <tr>\n",
       "      <th>20</th>\n",
       "      <td>Open enrollment for 2023 health coverage throu...</td>\n",
       "      <td>20 Hours Ago</td>\n",
       "      <td>https://www.cnbc.com/2023/01/15/open-enrollmen...</td>\n",
       "    </tr>\n",
       "    <tr>\n",
       "      <th>21</th>\n",
       "      <td>Self-made millionaire: 3 habits to start in yo...</td>\n",
       "      <td>23 Hours Ago</td>\n",
       "      <td>https://www.cnbc.com/2023/01/15/self-made-mill...</td>\n",
       "    </tr>\n",
       "    <tr>\n",
       "      <th>22</th>\n",
       "      <td>Want to sound more assertive? Ditch these 4 ph...</td>\n",
       "      <td>23 Hours Ago</td>\n",
       "      <td>https://www.cnbc.com/2023/01/15/want-to-sound-...</td>\n",
       "    </tr>\n",
       "    <tr>\n",
       "      <th>23</th>\n",
       "      <td>The big risk in the most-popular, and aging, b...</td>\n",
       "      <td>23 Hours Ago</td>\n",
       "      <td>https://www.cnbc.com/2023/01/15/the-most-popul...</td>\n",
       "    </tr>\n",
       "    <tr>\n",
       "      <th>24</th>\n",
       "      <td>State-run auto-IRA programs continue growing a...</td>\n",
       "      <td>January 15, 2023</td>\n",
       "      <td>https://www.cnbc.com/2023/01/15/state-run-auto...</td>\n",
       "    </tr>\n",
       "    <tr>\n",
       "      <th>25</th>\n",
       "      <td>Food fraud secretly infiltrates America. Here'...</td>\n",
       "      <td>January 15, 2023</td>\n",
       "      <td>https://www.cnbc.com/2023/01/15/food-fraud-sec...</td>\n",
       "    </tr>\n",
       "    <tr>\n",
       "      <th>26</th>\n",
       "      <td>10 auto industry predictions for investors to ...</td>\n",
       "      <td>January 15, 2023</td>\n",
       "      <td>https://www.cnbc.com/2023/01/15/ten-auto-indus...</td>\n",
       "    </tr>\n",
       "    <tr>\n",
       "      <th>27</th>\n",
       "      <td>Mark Cuban on the company that made him rich: ...</td>\n",
       "      <td>January 15, 2023</td>\n",
       "      <td>https://www.cnbc.com/2023/01/15/mark-cuban-on-...</td>\n",
       "    </tr>\n",
       "    <tr>\n",
       "      <th>28</th>\n",
       "      <td>Wall Street's favorite retail stocks include A...</td>\n",
       "      <td>January 15, 2023</td>\n",
       "      <td>https://www.cnbc.com/2023/01/15/wall-streets-f...</td>\n",
       "    </tr>\n",
       "    <tr>\n",
       "      <th>29</th>\n",
       "      <td>A busy movie calendar will lead to a 15% jump ...</td>\n",
       "      <td>January 15, 2023</td>\n",
       "      <td>https://www.cnbc.com/2023/01/15/a-busier-movie...</td>\n",
       "    </tr>\n",
       "  </tbody>\n",
       "</table>\n",
       "</div>"
      ],
      "text/plain": [
       "                                             Headline              Time  \\\n",
       "0   As China reopens and data surprises, economist...        45 Min Ago   \n",
       "1   Soccer star Son Heung-min gives his top 3 tips...        1 Hour Ago   \n",
       "2   IMF says fragmentation could cost global econo...       2 Hours Ago   \n",
       "3   These health care stocks are expected to rally...       2 Hours Ago   \n",
       "4   Earnings playbook: Netflix, Goldman Sachs head...       2 Hours Ago   \n",
       "5   Russian gas will return to Europe as people 'f...       2 Hours Ago   \n",
       "6   Richest 1% amassed almost two-thirds of new we...       3 Hours Ago   \n",
       "7   Bank of Japan could announce major policy shif...       4 Hours Ago   \n",
       "8   German Defense Minister Christine Lambrecht re...       4 Hours Ago   \n",
       "9   Putin says everything's going to plan in Ukrai...       5 Hours Ago   \n",
       "10  'Green' offices in London are over 25% more ex...       7 Hours Ago   \n",
       "11  Time to set yearly work goals? Here’s how to p...       7 Hours Ago   \n",
       "12  European markets inch higher; World Economic F...       8 Hours Ago   \n",
       "13  India's wedding season is here, but it's no lo...       9 Hours Ago   \n",
       "14  Analysts love these 12 cheap stocks — and give...      10 Hours Ago   \n",
       "15  Fund manager names two U.S. stocks he thinks m...      12 Hours Ago   \n",
       "16  Want a Tesla alternative? Analysts and fund ma...      12 Hours Ago   \n",
       "17  Shenzhen stocks lead gains in Asia-Pacific on ...      14 Hours Ago   \n",
       "18  Scaramucci sees bitcoin at $50,000 to $100,000...      14 Hours Ago   \n",
       "19  FAA launches investigation after two planes ne...      19 Hours Ago   \n",
       "20  Open enrollment for 2023 health coverage throu...      20 Hours Ago   \n",
       "21  Self-made millionaire: 3 habits to start in yo...      23 Hours Ago   \n",
       "22  Want to sound more assertive? Ditch these 4 ph...      23 Hours Ago   \n",
       "23  The big risk in the most-popular, and aging, b...      23 Hours Ago   \n",
       "24  State-run auto-IRA programs continue growing a...  January 15, 2023   \n",
       "25  Food fraud secretly infiltrates America. Here'...  January 15, 2023   \n",
       "26  10 auto industry predictions for investors to ...  January 15, 2023   \n",
       "27  Mark Cuban on the company that made him rich: ...  January 15, 2023   \n",
       "28  Wall Street's favorite retail stocks include A...  January 15, 2023   \n",
       "29  A busy movie calendar will lead to a 15% jump ...  January 15, 2023   \n",
       "\n",
       "                                            News Link  \n",
       "0   https://www.cnbc.com/2023/01/16/as-china-reope...  \n",
       "1   https://www.cnbc.com/2023/01/16/soccer-star-so...  \n",
       "2   https://www.cnbc.com/2023/01/16/imf-says-fragm...  \n",
       "3   https://www.cnbc.com/2023/01/16/these-health-c...  \n",
       "4   https://www.cnbc.com/2023/01/16/earnings-playb...  \n",
       "5   https://www.cnbc.com/2023/01/16/russian-gas-wi...  \n",
       "6   https://www.cnbc.com/2023/01/16/richest-1perce...  \n",
       "7   https://www.cnbc.com/2023/01/16/bofa-says-bank...  \n",
       "8   https://www.cnbc.com/2023/01/16/german-defense...  \n",
       "9   https://www.cnbc.com/2023/01/16/ukraine-war-li...  \n",
       "10  https://www.cnbc.com/2023/01/16/londons-green-...  \n",
       "11  https://www.cnbc.com/2023/01/16/time-for-yearl...  \n",
       "12  https://www.cnbc.com/2023/01/16/european-marke...  \n",
       "13  https://www.cnbc.com/2023/01/16/indian-wedding...  \n",
       "14  https://www.cnbc.com/2023/01/16/analysts-love-...  \n",
       "15  https://www.cnbc.com/2023/01/16/fund-manager-n...  \n",
       "16  https://www.cnbc.com/2023/01/16/want-a-tesla-a...  \n",
       "17  https://www.cnbc.com/2023/01/16/asia-pacific-u...  \n",
       "18  https://www.cnbc.com/2023/01/16/bitcoin-price-...  \n",
       "19  https://www.cnbc.com/2023/01/15/faa-launches-i...  \n",
       "20  https://www.cnbc.com/2023/01/15/open-enrollmen...  \n",
       "21  https://www.cnbc.com/2023/01/15/self-made-mill...  \n",
       "22  https://www.cnbc.com/2023/01/15/want-to-sound-...  \n",
       "23  https://www.cnbc.com/2023/01/15/the-most-popul...  \n",
       "24  https://www.cnbc.com/2023/01/15/state-run-auto...  \n",
       "25  https://www.cnbc.com/2023/01/15/food-fraud-sec...  \n",
       "26  https://www.cnbc.com/2023/01/15/ten-auto-indus...  \n",
       "27  https://www.cnbc.com/2023/01/15/mark-cuban-on-...  \n",
       "28  https://www.cnbc.com/2023/01/15/wall-streets-f...  \n",
       "29  https://www.cnbc.com/2023/01/15/a-busier-movie...  "
      ]
     },
     "execution_count": 104,
     "metadata": {},
     "output_type": "execute_result"
    }
   ],
   "source": [
    "news_df=pd.DataFrame({'Headline':headlines,\n",
    "                     'Time':time,\n",
    "                     'News Link':newslink})\n",
    "news_df"
   ]
  },
  {
   "cell_type": "code",
   "execution_count": null,
   "id": "f9a33a47",
   "metadata": {},
   "outputs": [],
   "source": []
  },
  {
   "cell_type": "code",
   "execution_count": null,
   "id": "032d1876",
   "metadata": {},
   "outputs": [],
   "source": []
  },
  {
   "cell_type": "markdown",
   "id": "702eec1b",
   "metadata": {},
   "source": [
    "## 8)Write a python program to scrape the details of most downloaded articles from AI in last 90 days.\n",
    "https://www.journals.elsevier.com/artificial-intelligence/most-downloaded-articles\n",
    "### Scrap the below mentioned details:"
   ]
  },
  {
   "cell_type": "markdown",
   "id": "617b1572",
   "metadata": {},
   "source": [
    "### i)Paper Title"
   ]
  },
  {
   "cell_type": "code",
   "execution_count": 105,
   "id": "6fc884b3",
   "metadata": {},
   "outputs": [],
   "source": [
    "articles=requests.get('https://www.journals.elsevier.com/artificial-intelligence/most-downloaded-articles')\n",
    "soup10=BeautifulSoup(articles.content)\n"
   ]
  },
  {
   "cell_type": "markdown",
   "id": "9a636780",
   "metadata": {},
   "source": [
    "### Scrapping Paper Title"
   ]
  },
  {
   "cell_type": "code",
   "execution_count": 106,
   "id": "e45c4d32",
   "metadata": {},
   "outputs": [],
   "source": [
    "paper_title=[]\n",
    "for title in soup10.find_all('h2',class_='sc-1qrq3sd-1 gRGSUS sc-1nmom32-0 sc-1nmom32-1 btcbYu goSKRg'):\n",
    "    paper_title.append(title.text)\n"
   ]
  },
  {
   "cell_type": "markdown",
   "id": "afe7826c",
   "metadata": {},
   "source": [
    "### ii)Authors "
   ]
  },
  {
   "cell_type": "code",
   "execution_count": 107,
   "id": "3ca8ab1b",
   "metadata": {},
   "outputs": [],
   "source": [
    "authors=[]\n",
    "for a in soup10.find_all('span',class_='sc-1w3fpd7-0 dnCnAO'):\n",
    "    authors.append(a.text.split('and')[0])\n"
   ]
  },
  {
   "cell_type": "markdown",
   "id": "da40bb29",
   "metadata": {},
   "source": [
    "### iii)Published Date"
   ]
  },
  {
   "cell_type": "code",
   "execution_count": 108,
   "id": "0b162b8f",
   "metadata": {},
   "outputs": [],
   "source": [
    "published_date=[]\n",
    "for date in soup10.find_all('span',class_='sc-1thf9ly-2 dvggWt'):\n",
    "    published_date.append(date.text)\n",
    "    \n"
   ]
  },
  {
   "cell_type": "markdown",
   "id": "5a1e5428",
   "metadata": {},
   "source": [
    "### iv) Paper URL "
   ]
  },
  {
   "cell_type": "code",
   "execution_count": 109,
   "id": "3adb7b9c",
   "metadata": {},
   "outputs": [],
   "source": [
    "paper_url=[]\n",
    "for url in soup10.find_all('a',class_='sc-5smygv-0 fIXTHm'):\n",
    "    paper_url.append(url.get('href'))\n"
   ]
  },
  {
   "cell_type": "code",
   "execution_count": 110,
   "id": "48412a29",
   "metadata": {},
   "outputs": [
    {
     "name": "stdout",
     "output_type": "stream",
     "text": [
      "25 25 25 25\n"
     ]
    }
   ],
   "source": [
    "print(len(paper_title),len(authors),len(published_date),len(paper_url))"
   ]
  },
  {
   "cell_type": "markdown",
   "id": "742d7fc3",
   "metadata": {},
   "source": [
    "### DataFrame of most downloaded articles on AI"
   ]
  },
  {
   "cell_type": "code",
   "execution_count": 111,
   "id": "4fe92235",
   "metadata": {},
   "outputs": [],
   "source": [
    "Ai_articles=pd.DataFrame({'Papre Title':paper_title,\n",
    "                         'Authors':authors,\n",
    "                         'Published Date': published_date,\n",
    "                         'Paper Url':paper_url})"
   ]
  },
  {
   "cell_type": "code",
   "execution_count": 112,
   "id": "a9d03f8b",
   "metadata": {},
   "outputs": [
    {
     "data": {
      "text/html": [
       "<div>\n",
       "<style scoped>\n",
       "    .dataframe tbody tr th:only-of-type {\n",
       "        vertical-align: middle;\n",
       "    }\n",
       "\n",
       "    .dataframe tbody tr th {\n",
       "        vertical-align: top;\n",
       "    }\n",
       "\n",
       "    .dataframe thead th {\n",
       "        text-align: right;\n",
       "    }\n",
       "</style>\n",
       "<table border=\"1\" class=\"dataframe\">\n",
       "  <thead>\n",
       "    <tr style=\"text-align: right;\">\n",
       "      <th></th>\n",
       "      <th>Papre Title</th>\n",
       "      <th>Authors</th>\n",
       "      <th>Published Date</th>\n",
       "      <th>Paper Url</th>\n",
       "    </tr>\n",
       "  </thead>\n",
       "  <tbody>\n",
       "    <tr>\n",
       "      <th>0</th>\n",
       "      <td>Reward is enough</td>\n",
       "      <td>Silver, David, Singh, Satinder, Precup, Doina,...</td>\n",
       "      <td>October 2021</td>\n",
       "      <td>https://www.sciencedirect.com/science/article/...</td>\n",
       "    </tr>\n",
       "    <tr>\n",
       "      <th>1</th>\n",
       "      <td>Making sense of raw input</td>\n",
       "      <td>Evans, Richard, Bošnjak, Matko</td>\n",
       "      <td>October 2021</td>\n",
       "      <td>https://www.sciencedirect.com/science/article/...</td>\n",
       "    </tr>\n",
       "    <tr>\n",
       "      <th>2</th>\n",
       "      <td>Law and logic: A review from an argumentation ...</td>\n",
       "      <td>Prakken, Henry, Sartor, Giovanni</td>\n",
       "      <td>October 2015</td>\n",
       "      <td>https://www.sciencedirect.com/science/article/...</td>\n",
       "    </tr>\n",
       "    <tr>\n",
       "      <th>3</th>\n",
       "      <td>Creativity and artificial intelligence</td>\n",
       "      <td>Boden, Margaret A.</td>\n",
       "      <td>August 1998</td>\n",
       "      <td>https://www.sciencedirect.com/science/article/...</td>\n",
       "    </tr>\n",
       "    <tr>\n",
       "      <th>4</th>\n",
       "      <td>Artificial cognition for social human–robot in...</td>\n",
       "      <td>Lemaignan, Séverin, Warnier, Mathieu</td>\n",
       "      <td>June 2017</td>\n",
       "      <td>https://www.sciencedirect.com/science/article/...</td>\n",
       "    </tr>\n",
       "    <tr>\n",
       "      <th>5</th>\n",
       "      <td>Explanation in artificial intelligence: Insigh...</td>\n",
       "      <td>Miller, Tim</td>\n",
       "      <td>February 2019</td>\n",
       "      <td>https://www.sciencedirect.com/science/article/...</td>\n",
       "    </tr>\n",
       "    <tr>\n",
       "      <th>6</th>\n",
       "      <td>Making sense of sensory input</td>\n",
       "      <td>Evans, Richard, Hernández-Orallo, José</td>\n",
       "      <td>April 2021</td>\n",
       "      <td>https://www.sciencedirect.com/science/article/...</td>\n",
       "    </tr>\n",
       "    <tr>\n",
       "      <th>7</th>\n",
       "      <td>Conflict-based search for optimal multi-agent ...</td>\n",
       "      <td>Sharon, Guni, Stern, Roni, Felner, Ariel, Stur...</td>\n",
       "      <td>February 2015</td>\n",
       "      <td>https://www.sciencedirect.com/science/article/...</td>\n",
       "    </tr>\n",
       "    <tr>\n",
       "      <th>8</th>\n",
       "      <td>Between MDPs and semi-MDPs: A framework for te...</td>\n",
       "      <td>Sutton, Richard S., Precup, Doina, Singh, Sati...</td>\n",
       "      <td>August 1999</td>\n",
       "      <td>https://www.sciencedirect.com/science/article/...</td>\n",
       "    </tr>\n",
       "    <tr>\n",
       "      <th>9</th>\n",
       "      <td>The Hanabi challenge: A new frontier for AI re...</td>\n",
       "      <td>Bard, Nolan, Foerster, Jakob N.</td>\n",
       "      <td>March 2020</td>\n",
       "      <td>https://www.sciencedirect.com/science/article/...</td>\n",
       "    </tr>\n",
       "    <tr>\n",
       "      <th>10</th>\n",
       "      <td>Evaluating XAI: A comparison of rule-based and...</td>\n",
       "      <td>van der Waa, Jasper, Nieuwburg, Elisabeth, Cre...</td>\n",
       "      <td>February 2021</td>\n",
       "      <td>https://www.sciencedirect.com/science/article/...</td>\n",
       "    </tr>\n",
       "    <tr>\n",
       "      <th>11</th>\n",
       "      <td>Argumentation in artificial intelligence</td>\n",
       "      <td>Bench-Capon, T.J.M., Dunne, Paul E.</td>\n",
       "      <td>October 2007</td>\n",
       "      <td>https://www.sciencedirect.com/science/article/...</td>\n",
       "    </tr>\n",
       "    <tr>\n",
       "      <th>12</th>\n",
       "      <td>Algorithms for computing strategies in two-pla...</td>\n",
       "      <td>Bošanský, Branislav, Lisý, Viliam</td>\n",
       "      <td>August 2016</td>\n",
       "      <td>https://www.sciencedirect.com/science/article/...</td>\n",
       "    </tr>\n",
       "    <tr>\n",
       "      <th>13</th>\n",
       "      <td>Multiple object tracking: A literature review</td>\n",
       "      <td>Luo, Wenhan, Xing, Junliang</td>\n",
       "      <td>April 2021</td>\n",
       "      <td>https://www.sciencedirect.com/science/article/...</td>\n",
       "    </tr>\n",
       "    <tr>\n",
       "      <th>14</th>\n",
       "      <td>Selection of relevant features and examples in...</td>\n",
       "      <td>Blum, Avrim L., Langley, Pat</td>\n",
       "      <td>December 1997</td>\n",
       "      <td>https://www.sciencedirect.com/science/article/...</td>\n",
       "    </tr>\n",
       "    <tr>\n",
       "      <th>15</th>\n",
       "      <td>A survey of inverse reinforcement learning: Ch...</td>\n",
       "      <td>Arora, Saurabh, Doshi, Prashant</td>\n",
       "      <td>August 2021</td>\n",
       "      <td>https://www.sciencedirect.com/science/article/...</td>\n",
       "    </tr>\n",
       "    <tr>\n",
       "      <th>16</th>\n",
       "      <td>Explaining individual predictions when feature...</td>\n",
       "      <td>Aas, Kjersti, Jullum, Martin, Løl</td>\n",
       "      <td>September 2021</td>\n",
       "      <td>https://www.sciencedirect.com/science/article/...</td>\n",
       "    </tr>\n",
       "    <tr>\n",
       "      <th>17</th>\n",
       "      <td>A review of possible effects of cognitive bias...</td>\n",
       "      <td>Kliegr, Tomáš, Bahník, Štěpán, Fürnkranz, Joha...</td>\n",
       "      <td>June 2021</td>\n",
       "      <td>https://www.sciencedirect.com/science/article/...</td>\n",
       "    </tr>\n",
       "    <tr>\n",
       "      <th>18</th>\n",
       "      <td>Integrating social power into the decision-mak...</td>\n",
       "      <td>Pereira, Gonçalo, Prada, Rui, Santos, Pedro A.</td>\n",
       "      <td>December 2016</td>\n",
       "      <td>https://www.sciencedirect.com/science/article/...</td>\n",
       "    </tr>\n",
       "    <tr>\n",
       "      <th>19</th>\n",
       "      <td>“That's (not) the output I expected!” On the r...</td>\n",
       "      <td>Riveiro, Maria, Thill, Serge</td>\n",
       "      <td>September 2021</td>\n",
       "      <td>https://www.sciencedirect.com/science/article/...</td>\n",
       "    </tr>\n",
       "    <tr>\n",
       "      <th>20</th>\n",
       "      <td>Explaining black-box classifiers using post-ho...</td>\n",
       "      <td>Kenny, Eoin M., Ford, Courtney, Quinn, Molly, ...</td>\n",
       "      <td>May 2021</td>\n",
       "      <td>https://www.sciencedirect.com/science/article/...</td>\n",
       "    </tr>\n",
       "    <tr>\n",
       "      <th>21</th>\n",
       "      <td>Algorithm runtime prediction: Methods &amp; evalua...</td>\n",
       "      <td>Hutter, Frank, Xu, Lin, Hoos, Holger H., Leyto...</td>\n",
       "      <td>January 2014</td>\n",
       "      <td>https://www.sciencedirect.com/science/article/...</td>\n",
       "    </tr>\n",
       "    <tr>\n",
       "      <th>22</th>\n",
       "      <td>Wrappers for feature subset selection</td>\n",
       "      <td>Kohavi, Ron, John, George H.</td>\n",
       "      <td>December 1997</td>\n",
       "      <td>https://www.sciencedirect.com/science/article/...</td>\n",
       "    </tr>\n",
       "    <tr>\n",
       "      <th>23</th>\n",
       "      <td>Commonsense visual sensemaking for autonomous ...</td>\n",
       "      <td>Suchan, Jakob, Bhatt, Mehul, Varadarajan, Srik...</td>\n",
       "      <td>October 2021</td>\n",
       "      <td>https://www.sciencedirect.com/science/article/...</td>\n",
       "    </tr>\n",
       "    <tr>\n",
       "      <th>24</th>\n",
       "      <td>Quantum computation, quantum theory and AI</td>\n",
       "      <td>Ying, Mingsheng</td>\n",
       "      <td>February 2010</td>\n",
       "      <td>https://www.sciencedirect.com/science/article/...</td>\n",
       "    </tr>\n",
       "  </tbody>\n",
       "</table>\n",
       "</div>"
      ],
      "text/plain": [
       "                                          Papre Title  \\\n",
       "0                                    Reward is enough   \n",
       "1                           Making sense of raw input   \n",
       "2   Law and logic: A review from an argumentation ...   \n",
       "3              Creativity and artificial intelligence   \n",
       "4   Artificial cognition for social human–robot in...   \n",
       "5   Explanation in artificial intelligence: Insigh...   \n",
       "6                       Making sense of sensory input   \n",
       "7   Conflict-based search for optimal multi-agent ...   \n",
       "8   Between MDPs and semi-MDPs: A framework for te...   \n",
       "9   The Hanabi challenge: A new frontier for AI re...   \n",
       "10  Evaluating XAI: A comparison of rule-based and...   \n",
       "11           Argumentation in artificial intelligence   \n",
       "12  Algorithms for computing strategies in two-pla...   \n",
       "13      Multiple object tracking: A literature review   \n",
       "14  Selection of relevant features and examples in...   \n",
       "15  A survey of inverse reinforcement learning: Ch...   \n",
       "16  Explaining individual predictions when feature...   \n",
       "17  A review of possible effects of cognitive bias...   \n",
       "18  Integrating social power into the decision-mak...   \n",
       "19  “That's (not) the output I expected!” On the r...   \n",
       "20  Explaining black-box classifiers using post-ho...   \n",
       "21  Algorithm runtime prediction: Methods & evalua...   \n",
       "22              Wrappers for feature subset selection   \n",
       "23  Commonsense visual sensemaking for autonomous ...   \n",
       "24         Quantum computation, quantum theory and AI   \n",
       "\n",
       "                                              Authors  Published Date  \\\n",
       "0   Silver, David, Singh, Satinder, Precup, Doina,...    October 2021   \n",
       "1                     Evans, Richard, Bošnjak, Matko     October 2021   \n",
       "2                   Prakken, Henry, Sartor, Giovanni     October 2015   \n",
       "3                                 Boden, Margaret A.      August 1998   \n",
       "4               Lemaignan, Séverin, Warnier, Mathieu        June 2017   \n",
       "5                                        Miller, Tim    February 2019   \n",
       "6             Evans, Richard, Hernández-Orallo, José       April 2021   \n",
       "7   Sharon, Guni, Stern, Roni, Felner, Ariel, Stur...   February 2015   \n",
       "8   Sutton, Richard S., Precup, Doina, Singh, Sati...     August 1999   \n",
       "9                    Bard, Nolan, Foerster, Jakob N.       March 2020   \n",
       "10  van der Waa, Jasper, Nieuwburg, Elisabeth, Cre...   February 2021   \n",
       "11               Bench-Capon, T.J.M., Dunne, Paul E.     October 2007   \n",
       "12                 Bošanský, Branislav, Lisý, Viliam      August 2016   \n",
       "13                       Luo, Wenhan, Xing, Junliang       April 2021   \n",
       "14                      Blum, Avrim L., Langley, Pat    December 1997   \n",
       "15                   Arora, Saurabh, Doshi, Prashant      August 2021   \n",
       "16                  Aas, Kjersti, Jullum, Martin, Løl  September 2021   \n",
       "17  Kliegr, Tomáš, Bahník, Štěpán, Fürnkranz, Joha...       June 2021   \n",
       "18    Pereira, Gonçalo, Prada, Rui, Santos, Pedro A.    December 2016   \n",
       "19                      Riveiro, Maria, Thill, Serge   September 2021   \n",
       "20  Kenny, Eoin M., Ford, Courtney, Quinn, Molly, ...        May 2021   \n",
       "21  Hutter, Frank, Xu, Lin, Hoos, Holger H., Leyto...    January 2014   \n",
       "22                      Kohavi, Ron, John, George H.    December 1997   \n",
       "23  Suchan, Jakob, Bhatt, Mehul, Varadarajan, Srik...    October 2021   \n",
       "24                                   Ying, Mingsheng    February 2010   \n",
       "\n",
       "                                            Paper Url  \n",
       "0   https://www.sciencedirect.com/science/article/...  \n",
       "1   https://www.sciencedirect.com/science/article/...  \n",
       "2   https://www.sciencedirect.com/science/article/...  \n",
       "3   https://www.sciencedirect.com/science/article/...  \n",
       "4   https://www.sciencedirect.com/science/article/...  \n",
       "5   https://www.sciencedirect.com/science/article/...  \n",
       "6   https://www.sciencedirect.com/science/article/...  \n",
       "7   https://www.sciencedirect.com/science/article/...  \n",
       "8   https://www.sciencedirect.com/science/article/...  \n",
       "9   https://www.sciencedirect.com/science/article/...  \n",
       "10  https://www.sciencedirect.com/science/article/...  \n",
       "11  https://www.sciencedirect.com/science/article/...  \n",
       "12  https://www.sciencedirect.com/science/article/...  \n",
       "13  https://www.sciencedirect.com/science/article/...  \n",
       "14  https://www.sciencedirect.com/science/article/...  \n",
       "15  https://www.sciencedirect.com/science/article/...  \n",
       "16  https://www.sciencedirect.com/science/article/...  \n",
       "17  https://www.sciencedirect.com/science/article/...  \n",
       "18  https://www.sciencedirect.com/science/article/...  \n",
       "19  https://www.sciencedirect.com/science/article/...  \n",
       "20  https://www.sciencedirect.com/science/article/...  \n",
       "21  https://www.sciencedirect.com/science/article/...  \n",
       "22  https://www.sciencedirect.com/science/article/...  \n",
       "23  https://www.sciencedirect.com/science/article/...  \n",
       "24  https://www.sciencedirect.com/science/article/...  "
      ]
     },
     "execution_count": 112,
     "metadata": {},
     "output_type": "execute_result"
    }
   ],
   "source": [
    "Ai_articles"
   ]
  },
  {
   "cell_type": "code",
   "execution_count": null,
   "id": "0f6cf9fc",
   "metadata": {},
   "outputs": [],
   "source": []
  },
  {
   "cell_type": "code",
   "execution_count": null,
   "id": "b9dacb39",
   "metadata": {},
   "outputs": [],
   "source": []
  },
  {
   "cell_type": "markdown",
   "id": "105aff09",
   "metadata": {},
   "source": [
    "## 9) Write a python program to scrape mentioned details from dineout.co.in :\n",
    "\n"
   ]
  },
  {
   "cell_type": "code",
   "execution_count": 113,
   "id": "2419f9f0",
   "metadata": {},
   "outputs": [],
   "source": [
    "restaurant_link=requests.get('https://www.dineout.co.in/delhi-restaurants/buffet-special')\n",
    "soup11=BeautifulSoup(restaurant_link.content)\n"
   ]
  },
  {
   "cell_type": "markdown",
   "id": "43bb96ea",
   "metadata": {},
   "source": [
    "### i) Restaurant name"
   ]
  },
  {
   "cell_type": "code",
   "execution_count": 114,
   "id": "9527765c",
   "metadata": {},
   "outputs": [],
   "source": [
    "restaurant=[]\n",
    "for name in soup11.find_all('a',class_='restnt-name ellipsis'):\n",
    "    restaurant.append(name.text)\n",
    "    \n"
   ]
  },
  {
   "cell_type": "markdown",
   "id": "af61c11b",
   "metadata": {},
   "source": [
    "### ii)Cuisine"
   ]
  },
  {
   "cell_type": "code",
   "execution_count": 115,
   "id": "dde5964f",
   "metadata": {},
   "outputs": [],
   "source": [
    "cuisine=[]\n",
    "for dish in soup11.find_all('span',class_='double-line-ellipsis'):\n",
    "    cuisine.append(dish.text.split('|')[1])\n",
    "                                  "
   ]
  },
  {
   "cell_type": "markdown",
   "id": "22435903",
   "metadata": {},
   "source": [
    "### iii)Location "
   ]
  },
  {
   "cell_type": "code",
   "execution_count": 116,
   "id": "e7083225",
   "metadata": {},
   "outputs": [],
   "source": [
    "location=[]\n",
    "for loc in soup11.find_all('div',class_='restnt-loc ellipsis'):\n",
    "    location.append(loc.text)\n",
    "    \n"
   ]
  },
  {
   "cell_type": "markdown",
   "id": "743bbd1d",
   "metadata": {},
   "source": [
    "### iv) Ratings"
   ]
  },
  {
   "cell_type": "code",
   "execution_count": 117,
   "id": "6eff6f7d",
   "metadata": {},
   "outputs": [],
   "source": [
    "res_ratings=[]\n",
    "for rate in soup11.find_all('div',class_='restnt-rating rating-4'):\n",
    "    res_ratings.append(rate.text)\n"
   ]
  },
  {
   "cell_type": "markdown",
   "id": "99b57606",
   "metadata": {},
   "source": [
    "### v) Image URL\n",
    " "
   ]
  },
  {
   "cell_type": "code",
   "execution_count": 118,
   "id": "33e71062",
   "metadata": {},
   "outputs": [],
   "source": [
    "image=[]\n",
    "for url in soup11.find_all('img',class_='no-img'):\n",
    "    image.append(url.get('data-src'))\n"
   ]
  },
  {
   "cell_type": "code",
   "execution_count": 119,
   "id": "18f97420",
   "metadata": {},
   "outputs": [
    {
     "name": "stdout",
     "output_type": "stream",
     "text": [
      "9 9 9 9 9\n"
     ]
    }
   ],
   "source": [
    "print(len(restaurant),len(cuisine),len(location),len(res_ratings),len(image))"
   ]
  },
  {
   "cell_type": "markdown",
   "id": "fc29404c",
   "metadata": {},
   "source": [
    "### Restaurant DataFrame"
   ]
  },
  {
   "cell_type": "code",
   "execution_count": 120,
   "id": "c8e4c3a8",
   "metadata": {},
   "outputs": [],
   "source": [
    "restuarant_df=pd.DataFrame({'Restaurant Name':restaurant,\n",
    "                           'Cuisine':cuisine,\n",
    "                           'Location':location,\n",
    "                           'Rating':res_ratings,\n",
    "                           'Image Url':image})"
   ]
  },
  {
   "cell_type": "code",
   "execution_count": 121,
   "id": "1cbe56a4",
   "metadata": {},
   "outputs": [
    {
     "data": {
      "text/html": [
       "<div>\n",
       "<style scoped>\n",
       "    .dataframe tbody tr th:only-of-type {\n",
       "        vertical-align: middle;\n",
       "    }\n",
       "\n",
       "    .dataframe tbody tr th {\n",
       "        vertical-align: top;\n",
       "    }\n",
       "\n",
       "    .dataframe thead th {\n",
       "        text-align: right;\n",
       "    }\n",
       "</style>\n",
       "<table border=\"1\" class=\"dataframe\">\n",
       "  <thead>\n",
       "    <tr style=\"text-align: right;\">\n",
       "      <th></th>\n",
       "      <th>Restaurant Name</th>\n",
       "      <th>Cuisine</th>\n",
       "      <th>Location</th>\n",
       "      <th>Rating</th>\n",
       "      <th>Image Url</th>\n",
       "    </tr>\n",
       "  </thead>\n",
       "  <tbody>\n",
       "    <tr>\n",
       "      <th>0</th>\n",
       "      <td>Castle Barbeque</td>\n",
       "      <td>Chinese, North Indian</td>\n",
       "      <td>Connaught Place, Central Delhi</td>\n",
       "      <td>4.1</td>\n",
       "      <td>https://im1.dineout.co.in/images/uploads/resta...</td>\n",
       "    </tr>\n",
       "    <tr>\n",
       "      <th>1</th>\n",
       "      <td>Jungle Jamboree</td>\n",
       "      <td>North Indian, Asian, Italian</td>\n",
       "      <td>3CS Mall,Lajpat Nagar - 3, South Delhi</td>\n",
       "      <td>3.9</td>\n",
       "      <td>https://im1.dineout.co.in/images/uploads/resta...</td>\n",
       "    </tr>\n",
       "    <tr>\n",
       "      <th>2</th>\n",
       "      <td>Castle Barbeque</td>\n",
       "      <td>Chinese, North Indian</td>\n",
       "      <td>Pacific Mall,Tagore Garden, West Delhi</td>\n",
       "      <td>3.9</td>\n",
       "      <td>https://im1.dineout.co.in/images/uploads/resta...</td>\n",
       "    </tr>\n",
       "    <tr>\n",
       "      <th>3</th>\n",
       "      <td>Cafe Knosh</td>\n",
       "      <td>Italian, Continental</td>\n",
       "      <td>The Leela Ambience Convention Hotel,Shahdara, ...</td>\n",
       "      <td>4.3</td>\n",
       "      <td>https://im1.dineout.co.in/images/uploads/resta...</td>\n",
       "    </tr>\n",
       "    <tr>\n",
       "      <th>4</th>\n",
       "      <td>The Barbeque Company</td>\n",
       "      <td>North Indian, Chinese</td>\n",
       "      <td>Gardens Galleria,Sector 38A, Noida</td>\n",
       "      <td>4</td>\n",
       "      <td>https://im1.dineout.co.in/images/uploads/resta...</td>\n",
       "    </tr>\n",
       "    <tr>\n",
       "      <th>5</th>\n",
       "      <td>India Grill</td>\n",
       "      <td>North Indian, Italian</td>\n",
       "      <td>Hilton Garden Inn,Saket, South Delhi</td>\n",
       "      <td>3.9</td>\n",
       "      <td>https://im1.dineout.co.in/images/uploads/resta...</td>\n",
       "    </tr>\n",
       "    <tr>\n",
       "      <th>6</th>\n",
       "      <td>Delhi Barbeque</td>\n",
       "      <td>North Indian</td>\n",
       "      <td>Taurus Sarovar Portico,Mahipalpur, South Delhi</td>\n",
       "      <td>3.6</td>\n",
       "      <td>https://im1.dineout.co.in/images/uploads/resta...</td>\n",
       "    </tr>\n",
       "    <tr>\n",
       "      <th>7</th>\n",
       "      <td>The Monarch - Bar Be Que Village</td>\n",
       "      <td>North Indian</td>\n",
       "      <td>Indirapuram Habitat Centre,Indirapuram, Ghaziabad</td>\n",
       "      <td>3.8</td>\n",
       "      <td>https://im1.dineout.co.in/images/uploads/resta...</td>\n",
       "    </tr>\n",
       "    <tr>\n",
       "      <th>8</th>\n",
       "      <td>Indian Grill Room</td>\n",
       "      <td>North Indian, Mughlai</td>\n",
       "      <td>Suncity Business Tower,Golf Course Road, Gurgaon</td>\n",
       "      <td>4.3</td>\n",
       "      <td>https://im1.dineout.co.in/images/uploads/resta...</td>\n",
       "    </tr>\n",
       "  </tbody>\n",
       "</table>\n",
       "</div>"
      ],
      "text/plain": [
       "                    Restaurant Name                        Cuisine  \\\n",
       "0                   Castle Barbeque          Chinese, North Indian   \n",
       "1                   Jungle Jamboree   North Indian, Asian, Italian   \n",
       "2                   Castle Barbeque          Chinese, North Indian   \n",
       "3                        Cafe Knosh           Italian, Continental   \n",
       "4              The Barbeque Company          North Indian, Chinese   \n",
       "5                       India Grill          North Indian, Italian   \n",
       "6                    Delhi Barbeque                   North Indian   \n",
       "7  The Monarch - Bar Be Que Village                   North Indian   \n",
       "8                 Indian Grill Room          North Indian, Mughlai   \n",
       "\n",
       "                                            Location Rating  \\\n",
       "0                     Connaught Place, Central Delhi    4.1   \n",
       "1             3CS Mall,Lajpat Nagar - 3, South Delhi    3.9   \n",
       "2             Pacific Mall,Tagore Garden, West Delhi    3.9   \n",
       "3  The Leela Ambience Convention Hotel,Shahdara, ...    4.3   \n",
       "4                 Gardens Galleria,Sector 38A, Noida      4   \n",
       "5               Hilton Garden Inn,Saket, South Delhi    3.9   \n",
       "6     Taurus Sarovar Portico,Mahipalpur, South Delhi    3.6   \n",
       "7  Indirapuram Habitat Centre,Indirapuram, Ghaziabad    3.8   \n",
       "8   Suncity Business Tower,Golf Course Road, Gurgaon    4.3   \n",
       "\n",
       "                                           Image Url  \n",
       "0  https://im1.dineout.co.in/images/uploads/resta...  \n",
       "1  https://im1.dineout.co.in/images/uploads/resta...  \n",
       "2  https://im1.dineout.co.in/images/uploads/resta...  \n",
       "3  https://im1.dineout.co.in/images/uploads/resta...  \n",
       "4  https://im1.dineout.co.in/images/uploads/resta...  \n",
       "5  https://im1.dineout.co.in/images/uploads/resta...  \n",
       "6  https://im1.dineout.co.in/images/uploads/resta...  \n",
       "7  https://im1.dineout.co.in/images/uploads/resta...  \n",
       "8  https://im1.dineout.co.in/images/uploads/resta...  "
      ]
     },
     "execution_count": 121,
     "metadata": {},
     "output_type": "execute_result"
    }
   ],
   "source": [
    "restuarant_df"
   ]
  },
  {
   "cell_type": "code",
   "execution_count": null,
   "id": "2e54c304",
   "metadata": {},
   "outputs": [],
   "source": []
  }
 ],
 "metadata": {
  "kernelspec": {
   "display_name": "Python 3 (ipykernel)",
   "language": "python",
   "name": "python3"
  },
  "language_info": {
   "codemirror_mode": {
    "name": "ipython",
    "version": 3
   },
   "file_extension": ".py",
   "mimetype": "text/x-python",
   "name": "python",
   "nbconvert_exporter": "python",
   "pygments_lexer": "ipython3",
   "version": "3.9.12"
  }
 },
 "nbformat": 4,
 "nbformat_minor": 5
}
