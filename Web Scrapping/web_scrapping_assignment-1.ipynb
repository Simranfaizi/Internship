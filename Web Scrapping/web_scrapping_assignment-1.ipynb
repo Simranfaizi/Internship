{
 "cells": [
  {
   "cell_type": "code",
   "execution_count": null,
   "id": "f99fe7b6",
   "metadata": {},
   "outputs": [],
   "source": [
    "from bs4 import BeautifulSoup\n",
    "import  requests\n",
    "import pandas as pd\n"
   ]
  },
  {
   "cell_type": "markdown",
   "id": "4782c9d0",
   "metadata": {},
   "source": [
    "## 1) Write a python program to display all the header tags from wikipedia.org.\n"
   ]
  },
  {
   "cell_type": "code",
   "execution_count": null,
   "id": "9e118ad5",
   "metadata": {},
   "outputs": [],
   "source": [
    "url = requests.get('https://www.wikipedia.org/')\n",
    "soup = BeautifulSoup(url.content)\n",
    "soup"
   ]
  },
  {
   "cell_type": "code",
   "execution_count": null,
   "id": "c2bda52e",
   "metadata": {},
   "outputs": [],
   "source": [
    "header_tag=[]\n",
    "for i in soup.find_all(['h1','h2','h3']):\n",
    "    header_tag.append(i)"
   ]
  },
  {
   "cell_type": "code",
   "execution_count": null,
   "id": "c4e48470",
   "metadata": {},
   "outputs": [],
   "source": [
    "header_tag"
   ]
  },
  {
   "cell_type": "code",
   "execution_count": null,
   "id": "555c94cc",
   "metadata": {},
   "outputs": [],
   "source": []
  },
  {
   "cell_type": "code",
   "execution_count": null,
   "id": "c5684d01",
   "metadata": {},
   "outputs": [],
   "source": []
  },
  {
   "cell_type": "markdown",
   "id": "4b450e7a",
   "metadata": {},
   "source": [
    "### 2)Write a python program to display IMDB’s Top rated 100 movies’ data (i.e. name, rating, year of release)and make data frame# "
   ]
  },
  {
   "cell_type": "code",
   "execution_count": null,
   "id": "f8bf7e14",
   "metadata": {},
   "outputs": [],
   "source": [
    "page=requests.get('https://www.imdb.com/list/ls091520106/')\n",
    "page"
   ]
  },
  {
   "cell_type": "code",
   "execution_count": null,
   "id": "7d604649",
   "metadata": {},
   "outputs": [],
   "source": [
    "soup=BeautifulSoup(page.content)\n",
    "soup"
   ]
  },
  {
   "cell_type": "markdown",
   "id": "eb00446a",
   "metadata": {},
   "source": [
    "### Scraping first Movie Name\n"
   ]
  },
  {
   "cell_type": "code",
   "execution_count": null,
   "id": "aa658fbb",
   "metadata": {},
   "outputs": [],
   "source": [
    "first_movie=soup.find('h3',class_='lister-item-header')\n",
    "first_movie.text"
   ]
  },
  {
   "cell_type": "code",
   "execution_count": null,
   "id": "21126777",
   "metadata": {},
   "outputs": [],
   "source": [
    "first_movie.text.split('\\n')"
   ]
  },
  {
   "cell_type": "code",
   "execution_count": null,
   "id": "db85faed",
   "metadata": {},
   "outputs": [],
   "source": [
    "m=first_movie.text.split('\\n')[2]\n",
    "y=first_movie.text.split('\\n')[3]\n",
    "print(\"Scarpped First Movie Name:\",m)\n",
    "print(\"Scrapped first movie Year:\",y)"
   ]
  },
  {
   "cell_type": "markdown",
   "id": "4b8f38c3",
   "metadata": {},
   "source": [
    "### Scrapping Movie and year list"
   ]
  },
  {
   "cell_type": "code",
   "execution_count": null,
   "id": "13036a91",
   "metadata": {},
   "outputs": [],
   "source": [
    "movies=[]\n",
    "year=[]\n",
    "for i in soup.find_all('h3',class_='lister-item-header'):\n",
    "    movies.append(i.text.split('\\n')[2])\n",
    "    year.append(i.text.split('\\n')[3])\n",
    "    \n",
    "movies    "
   ]
  },
  {
   "cell_type": "markdown",
   "id": "09142a33",
   "metadata": {},
   "source": [
    "###  Year List"
   ]
  },
  {
   "cell_type": "code",
   "execution_count": null,
   "id": "783f60d5",
   "metadata": {},
   "outputs": [],
   "source": [
    "year"
   ]
  },
  {
   "cell_type": "markdown",
   "id": "96b7708f",
   "metadata": {},
   "source": [
    "### First Rank Scrapping"
   ]
  },
  {
   "cell_type": "code",
   "execution_count": null,
   "id": "d503477d",
   "metadata": {},
   "outputs": [],
   "source": [
    "first_rating=soup.find('div',class_='ipl-rating-star small')\n",
    "first_rating.text.split('\\n')\n",
    "first_rating.text.split('\\n')[8]"
   ]
  },
  {
   "cell_type": "code",
   "execution_count": null,
   "id": "07c7a232",
   "metadata": {},
   "outputs": [],
   "source": [
    "ratings=[]\n",
    "for i in soup.find_all('div',class_='ipl-rating-star small'):\n",
    "    ratings.append(i.text.split('\\n')[8])\n",
    "    \n",
    "ratings\n"
   ]
  },
  {
   "cell_type": "code",
   "execution_count": null,
   "id": "0438a38f",
   "metadata": {},
   "outputs": [],
   "source": [
    "df1=pd.DataFrame({'Movie Name':movies,\n",
    "                 'Rating': ratings,\n",
    "                 'Year of Release':year})\n",
    "df1\n"
   ]
  },
  {
   "cell_type": "code",
   "execution_count": null,
   "id": "760c9aa9",
   "metadata": {},
   "outputs": [],
   "source": []
  },
  {
   "cell_type": "code",
   "execution_count": null,
   "id": "ee602113",
   "metadata": {},
   "outputs": [],
   "source": []
  },
  {
   "cell_type": "markdown",
   "id": "39d15dc8",
   "metadata": {},
   "source": [
    "## 3) Write a python program to display IMDB’s Top rated 100 Indian movies’ data (i.e. name, rating, year ofrelease) and make data frame."
   ]
  },
  {
   "cell_type": "code",
   "execution_count": null,
   "id": "858d60ee",
   "metadata": {},
   "outputs": [],
   "source": [
    "webpage=requests.get('https://www.imdb.com/list/ls056092300/?sort=user_rating,desc&st_dt=&mode=detail&page=1',verify=False)\n",
    "webpage\n"
   ]
  },
  {
   "cell_type": "code",
   "execution_count": null,
   "id": "45b979e9",
   "metadata": {},
   "outputs": [],
   "source": [
    "soup1=BeautifulSoup(webpage.content)\n",
    "soup1"
   ]
  },
  {
   "cell_type": "markdown",
   "id": "afc3b014",
   "metadata": {},
   "source": [
    "#### Scraping first Movie Name\n"
   ]
  },
  {
   "cell_type": "code",
   "execution_count": null,
   "id": "c262c28e",
   "metadata": {},
   "outputs": [],
   "source": [
    "first_movie=soup1.find('h3',class_='lister-item-header')\n",
    "first_movie.text.split('\\n')[2]"
   ]
  },
  {
   "cell_type": "markdown",
   "id": "e924a8df",
   "metadata": {},
   "source": [
    "### Scarpping first year"
   ]
  },
  {
   "cell_type": "code",
   "execution_count": null,
   "id": "b4174626",
   "metadata": {},
   "outputs": [],
   "source": [
    "first_movie.text.split('\\n')[3]"
   ]
  },
  {
   "cell_type": "code",
   "execution_count": null,
   "id": "3e8ef679",
   "metadata": {},
   "outputs": [],
   "source": [
    "movie_list=[]\n",
    "year_list=[]\n",
    "for i in soup1.find_all('h3',class_='lister-item-header'):\n",
    "    movie_list.append(i.text.split('\\n')[2])\n",
    "    year_list.append(i.text.split('\\n')[3])\n",
    "    \n",
    "movie_list    "
   ]
  },
  {
   "cell_type": "code",
   "execution_count": null,
   "id": "1834654b",
   "metadata": {},
   "outputs": [],
   "source": [
    "year_list"
   ]
  },
  {
   "cell_type": "markdown",
   "id": "acc4f529",
   "metadata": {},
   "source": [
    "### SCrapping rating"
   ]
  },
  {
   "cell_type": "code",
   "execution_count": null,
   "id": "5bffb116",
   "metadata": {},
   "outputs": [],
   "source": [
    "first_rank=soup.find('div',class_=\"ipl-rating-star small\")\n",
    "first_rank.text.split('\\n')[8]"
   ]
  },
  {
   "cell_type": "code",
   "execution_count": null,
   "id": "78643038",
   "metadata": {},
   "outputs": [],
   "source": [
    "rank_list=[]\n",
    "for i in soup.find_all('div',class_=\"ipl-rating-star small\"):\n",
    "    rank_list.append(i.text.split('\\n')[8])\n",
    "    \n",
    "rank_list[0:4]    "
   ]
  },
  {
   "cell_type": "markdown",
   "id": "426e3f2f",
   "metadata": {},
   "source": [
    "### DataFrame for scarpped data"
   ]
  },
  {
   "cell_type": "code",
   "execution_count": null,
   "id": "fd3d7d8f",
   "metadata": {},
   "outputs": [],
   "source": [
    "df2=pd.DataFrame({'Movie Title':movie_list,\n",
    "                 'Release Year':year_list,\n",
    "                 'Ranking':rank_list})\n",
    "df2"
   ]
  },
  {
   "cell_type": "code",
   "execution_count": null,
   "id": "2437a542",
   "metadata": {},
   "outputs": [],
   "source": []
  },
  {
   "cell_type": "code",
   "execution_count": null,
   "id": "d9744880",
   "metadata": {},
   "outputs": [],
   "source": []
  },
  {
   "cell_type": "markdown",
   "id": "0b1eb3ac",
   "metadata": {},
   "source": [
    "## 4)Write s python program to display list of respected former presidents of India(i.e. Name , Term of office) from https://presidentofindia.nic.in/former-presidents.htm"
   ]
  },
  {
   "cell_type": "code",
   "execution_count": null,
   "id": "ee2c3394",
   "metadata": {},
   "outputs": [],
   "source": [
    "webpage2=requests.get('https://presidentofindia.nic.in/former-presidents.htm')\n",
    "webpage2"
   ]
  },
  {
   "cell_type": "code",
   "execution_count": null,
   "id": "090f2928",
   "metadata": {},
   "outputs": [],
   "source": [
    "soup2=BeautifulSoup(webpage2.content)\n",
    "soup2"
   ]
  },
  {
   "cell_type": "markdown",
   "id": "fa2d3b4b",
   "metadata": {},
   "source": [
    "### Scrapping First Name"
   ]
  },
  {
   "cell_type": "code",
   "execution_count": null,
   "id": "4acb27a2",
   "metadata": {},
   "outputs": [],
   "source": [
    "first_prsident_name=soup2.find('div',class_='presidentListing')\n",
    "first_prsident_name.text"
   ]
  },
  {
   "cell_type": "code",
   "execution_count": null,
   "id": "1749ccc9",
   "metadata": {},
   "outputs": [],
   "source": [
    "first_prsident_name.text.split('\\n')\n"
   ]
  },
  {
   "cell_type": "code",
   "execution_count": null,
   "id": "6517e2db",
   "metadata": {},
   "outputs": [],
   "source": [
    "pn=first_prsident_name.text.split('(')[0]\n",
    "pn.split('\\n')[1]"
   ]
  },
  {
   "cell_type": "markdown",
   "id": "ad8a0bcb",
   "metadata": {},
   "source": [
    "### First Term of office\n"
   ]
  },
  {
   "cell_type": "code",
   "execution_count": null,
   "id": "d72a6330",
   "metadata": {},
   "outputs": [],
   "source": [
    "first_term=first_prsident_name.text.split(':')[1]\n",
    "first_term.split('\\n')[0]"
   ]
  },
  {
   "cell_type": "code",
   "execution_count": null,
   "id": "4952ecf8",
   "metadata": {},
   "outputs": [],
   "source": [
    "former_president=[]\n",
    "\n",
    "for i in soup2.find_all('div',class_='presidentListing'):\n",
    "    t=(i.text.split('\\n')[1])\n",
    "    former_president.append(t.split(\"(\")[0])\n",
    "\n",
    "former_president\n"
   ]
  },
  {
   "cell_type": "markdown",
   "id": "1d60777f",
   "metadata": {},
   "source": [
    "### Term of Office"
   ]
  },
  {
   "cell_type": "code",
   "execution_count": null,
   "id": "97dca77d",
   "metadata": {},
   "outputs": [],
   "source": [
    "term_of_office=[]\n",
    "for i in soup2.find_all('div',class_='presidentListing'):\n",
    "    to=(i.text.split(':')[1])\n",
    "    term_of_office.append(to.split(\"\\n\")[0])\n",
    "term_of_office"
   ]
  },
  {
   "cell_type": "code",
   "execution_count": null,
   "id": "77ebdf3c",
   "metadata": {},
   "outputs": [],
   "source": [
    "df3=pd.DataFrame({'Former President Name':former_president,\n",
    "                  'Term Of Office': term_of_office\n",
    "                })"
   ]
  },
  {
   "cell_type": "code",
   "execution_count": null,
   "id": "172f1177",
   "metadata": {},
   "outputs": [],
   "source": [
    "df3"
   ]
  },
  {
   "cell_type": "code",
   "execution_count": null,
   "id": "4c76071b",
   "metadata": {},
   "outputs": [],
   "source": []
  },
  {
   "cell_type": "code",
   "execution_count": null,
   "id": "15307891",
   "metadata": {},
   "outputs": [],
   "source": []
  },
  {
   "cell_type": "markdown",
   "id": "02162040",
   "metadata": {},
   "source": [
    "## 5)Write a python program to scrape cricket rankings from icc-cricket.com. You have to scrape:¶\n",
    "\n",
    "\n",
    "### a)Top 10 ODI teams in men’s cricket along with the records for matches, points and rating\n"
   ]
  },
  {
   "cell_type": "code",
   "execution_count": null,
   "id": "17da96ce",
   "metadata": {},
   "outputs": [],
   "source": [
    "wp=requests.get('https://www.icc-cricket.com/rankings/mens/team-rankings/odi')\n",
    "wp"
   ]
  },
  {
   "cell_type": "code",
   "execution_count": null,
   "id": "c8c4764c",
   "metadata": {},
   "outputs": [],
   "source": [
    "soup6=BeautifulSoup(wp.content)\n",
    "soup6"
   ]
  },
  {
   "cell_type": "markdown",
   "id": "dc35b87a",
   "metadata": {},
   "source": [
    "### Team Scrapping "
   ]
  },
  {
   "cell_type": "code",
   "execution_count": null,
   "id": "8b57020a",
   "metadata": {},
   "outputs": [],
   "source": [
    "ft=soup6.find('td',class_='rankings-block__banner--team-name').text.split(\"\\n\")[2]\n",
    "ft"
   ]
  },
  {
   "cell_type": "code",
   "execution_count": null,
   "id": "dd57b8d9",
   "metadata": {},
   "outputs": [],
   "source": [
    "team10=[]\n",
    "for i in soup6.find_all('span',class_=\"u-hide-phablet\"):\n",
    "    team10.append(i.text)\n",
    "team10[0:10]"
   ]
  },
  {
   "cell_type": "markdown",
   "id": "e59651fd",
   "metadata": {},
   "source": [
    "### Scrapping matches "
   ]
  },
  {
   "cell_type": "code",
   "execution_count": null,
   "id": "243e1883",
   "metadata": {},
   "outputs": [],
   "source": [
    "fm=soup6.find('td',class_='rankings-block__banner--matches').text\n",
    "\n",
    "fm"
   ]
  },
  {
   "cell_type": "code",
   "execution_count": null,
   "id": "19d6a62f",
   "metadata": {},
   "outputs": [],
   "source": [
    "matches10=[]\n",
    "for i in soup6.find_all('tr',class_='table-body'):\n",
    "    matches10.append(i.text.split('\\n')[7])\n",
    "matches10.insert(0,fm)\n",
    "matches10[0:10]"
   ]
  },
  {
   "cell_type": "markdown",
   "id": "a84c56c1",
   "metadata": {},
   "source": [
    "### Scrapping points"
   ]
  },
  {
   "cell_type": "code",
   "execution_count": null,
   "id": "c93a5d2d",
   "metadata": {},
   "outputs": [],
   "source": [
    "fp1=soup6.find('td',class_='rankings-block__banner--points').text\n",
    "fp1"
   ]
  },
  {
   "cell_type": "code",
   "execution_count": null,
   "id": "5e5fe397",
   "metadata": {},
   "outputs": [],
   "source": [
    "points10=[]\n",
    "for i in soup6.find_all('tr',class_='table-body'):\n",
    "    points10.append(i.text.split('\\n')[8])\n",
    "points10.insert(0,fp1)\n",
    "points10[0:10]"
   ]
  },
  {
   "cell_type": "markdown",
   "id": "b32a15ef",
   "metadata": {},
   "source": [
    "## Scrapping Rating "
   ]
  },
  {
   "cell_type": "code",
   "execution_count": null,
   "id": "e3ff4607",
   "metadata": {},
   "outputs": [],
   "source": [
    "fr=soup6.find('td',class_='rankings-block__banner--rating u-text-right').text\n",
    "\n",
    "fr"
   ]
  },
  {
   "cell_type": "code",
   "execution_count": null,
   "id": "2be61123",
   "metadata": {},
   "outputs": [],
   "source": [
    "rating10=[]\n",
    "\n",
    "for i in soup6.find_all('tr',class_='table-body'):\n",
    "    rating10.append(i.text.split('\\n')[9])\n",
    "rating10.insert(0,fr)\n",
    "rating10[0:10]"
   ]
  },
  {
   "cell_type": "code",
   "execution_count": null,
   "id": "69916996",
   "metadata": {},
   "outputs": [],
   "source": [
    "newrating10=[s.strip() for s in rating10]\n",
    "newrating10[0:10]"
   ]
  },
  {
   "cell_type": "markdown",
   "id": "6f5fc292",
   "metadata": {},
   "source": [
    "### Scrapped DataFrame "
   ]
  },
  {
   "cell_type": "code",
   "execution_count": null,
   "id": "31337fa7",
   "metadata": {},
   "outputs": [],
   "source": [
    "men_odi=pd.DataFrame({'Team':team10[0:10],\n",
    "                     'Matches':matches10[0:10],\n",
    "                     'Points':points10[0:10],\n",
    "                     'Rank':newrating10[0:10]})\n",
    "\n",
    "men_odi"
   ]
  },
  {
   "cell_type": "markdown",
   "id": "cad6d766",
   "metadata": {},
   "source": [
    "### b)Top 10 ODI Batsmen along with the records of their team and rating.\n"
   ]
  },
  {
   "cell_type": "code",
   "execution_count": null,
   "id": "02de280a",
   "metadata": {},
   "outputs": [],
   "source": [
    "wp1=requests.get('https://www.icc-cricket.com/rankings/mens/player-rankings/odi')\n",
    "wp1"
   ]
  },
  {
   "cell_type": "code",
   "execution_count": null,
   "id": "caa1bbfa",
   "metadata": {},
   "outputs": [],
   "source": [
    "soup7=BeautifulSoup(wp1.content)\n",
    "soup7"
   ]
  },
  {
   "cell_type": "markdown",
   "id": "7f7b930a",
   "metadata": {},
   "source": [
    "## Batsmen Scrapping\n"
   ]
  },
  {
   "cell_type": "code",
   "execution_count": null,
   "id": "d51477f3",
   "metadata": {},
   "outputs": [],
   "source": [
    "fb=(soup7.find('div',class_='rankings-block__banner--name').text)\n",
    "fb"
   ]
  },
  {
   "cell_type": "code",
   "execution_count": null,
   "id": "d22e25e9",
   "metadata": {},
   "outputs": [],
   "source": [
    "batsmen10=[]\n",
    "for i in soup7.find_all('td',class_='table-body__cell name'):\n",
    "    batsmen10.append(i.text.split('\\n')[1])\n",
    "    \n",
    "batsmen10.insert(0,fb)\n",
    "batsmen10[0:10]"
   ]
  },
  {
   "cell_type": "markdown",
   "id": "9d676442",
   "metadata": {},
   "source": [
    "### Scrapping team name"
   ]
  },
  {
   "cell_type": "code",
   "execution_count": null,
   "id": "768d9a2e",
   "metadata": {},
   "outputs": [],
   "source": [
    "bt=soup7.find('div',class_='rankings-block__banner--nationality').text.split('\\n')[2]\n",
    "bt\n"
   ]
  },
  {
   "cell_type": "code",
   "execution_count": null,
   "id": "b844f371",
   "metadata": {},
   "outputs": [],
   "source": [
    "batsmenteam10=[]\n",
    "for i in soup7.find_all('span',class_='table-body__logo-text'):\n",
    "    batsmenteam10.append(i.text)\n",
    "batsmenteam10.insert(0,bt)\n",
    "batsmenteam10[0:10]"
   ]
  },
  {
   "cell_type": "markdown",
   "id": "70557df5",
   "metadata": {},
   "source": [
    "## Scrapping Rating"
   ]
  },
  {
   "cell_type": "code",
   "execution_count": null,
   "id": "d3f8b7fa",
   "metadata": {},
   "outputs": [],
   "source": [
    "fbr=soup7.find('div',class_='rankings-block__banner--rating').text\n",
    "fbr"
   ]
  },
  {
   "cell_type": "code",
   "execution_count": null,
   "id": "e3c20ccb",
   "metadata": {},
   "outputs": [],
   "source": [
    "batsmenrating10=[]\n",
    "for i in soup7.find_all('td',class_='table-body__cell u-text-right rating'):\n",
    "    batsmenrating10.append(i.text)\n",
    "batsmenrating10.insert(0,fbr)\n",
    "batsmenrating10[0:10]"
   ]
  },
  {
   "cell_type": "markdown",
   "id": "d936b78e",
   "metadata": {},
   "source": [
    "### DataFrame of scrapped data"
   ]
  },
  {
   "cell_type": "code",
   "execution_count": null,
   "id": "632ecdfe",
   "metadata": {},
   "outputs": [],
   "source": [
    "odi_batsmen=pd.DataFrame({'Player':batsmen10[0:10],\n",
    "                        'Team':batsmenteam10[0:10],\n",
    "                         'Rating':batsmenrating10[0:10]})\n",
    "odi_batsmen"
   ]
  },
  {
   "cell_type": "markdown",
   "id": "6b924338",
   "metadata": {},
   "source": [
    "###  c) Top 10 ODI bowlers along with the records of their team and rating# # "
   ]
  },
  {
   "cell_type": "code",
   "execution_count": null,
   "id": "701c132d",
   "metadata": {},
   "outputs": [],
   "source": [
    "wp2=requests.get('https://www.icc-cricket.com/rankings/mens/player-rankings/odi/bowling')\n",
    "wp2"
   ]
  },
  {
   "cell_type": "code",
   "execution_count": null,
   "id": "f91c0dd4",
   "metadata": {},
   "outputs": [],
   "source": [
    "soup8=BeautifulSoup(wp2.content)\n",
    "soup8"
   ]
  },
  {
   "cell_type": "markdown",
   "id": "07c3ed91",
   "metadata": {},
   "source": [
    "### Scrapping Bowler  "
   ]
  },
  {
   "cell_type": "code",
   "execution_count": null,
   "id": "c6a5dae8",
   "metadata": {},
   "outputs": [],
   "source": [
    "fb=soup8.find('div',class_='rankings-block__banner--name-large').text\n",
    "fb"
   ]
  },
  {
   "cell_type": "code",
   "execution_count": null,
   "id": "8bfcf36e",
   "metadata": {},
   "outputs": [],
   "source": [
    "bowler10=[]\n",
    "for i in soup8.find_all('td',class_='table-body__cell rankings-table__name name'):\n",
    "    bowler10.append(i.text.split('\\n')[1])\n",
    "bowler10.insert(0,fb)\n",
    "bowler10[0:10]"
   ]
  },
  {
   "cell_type": "markdown",
   "id": "26af819b",
   "metadata": {},
   "source": [
    "## Scraping Team"
   ]
  },
  {
   "cell_type": "code",
   "execution_count": null,
   "id": "d763844d",
   "metadata": {},
   "outputs": [],
   "source": [
    "bt=soup8.find('div',class_='rankings-block__banner--nationality').text.split('\\n')[2]\n",
    "bt"
   ]
  },
  {
   "cell_type": "code",
   "execution_count": null,
   "id": "4ba04b13",
   "metadata": {},
   "outputs": [],
   "source": [
    "bowlerteam10=[]\n",
    "for i in soup8.find_all('span',class_='table-body__logo-text'):\n",
    "    bowlerteam10.append(i.text)\n",
    "bowlerteam10.insert(0,bt)\n",
    "bowlerteam10[0:10]"
   ]
  },
  {
   "cell_type": "markdown",
   "id": "9978e492",
   "metadata": {},
   "source": [
    "### Scraping Rating"
   ]
  },
  {
   "cell_type": "code",
   "execution_count": null,
   "id": "4bd6f37b",
   "metadata": {},
   "outputs": [],
   "source": [
    "frate=soup8.find('div',class_='rankings-block__banner--rating').text\n",
    "frate"
   ]
  },
  {
   "cell_type": "code",
   "execution_count": null,
   "id": "e5d401c2",
   "metadata": {},
   "outputs": [],
   "source": [
    "bowlerrating10=[]\n",
    "for i in soup8.find_all('td',class_='table-body__cell rating'):\n",
    "    bowlerrating10.append(i.text)\n",
    "bowlerrating10.insert(0,frate)\n",
    "bowlerrating10[0:10]"
   ]
  },
  {
   "cell_type": "markdown",
   "id": "284afebd",
   "metadata": {},
   "source": [
    "### Bowler DataFrame"
   ]
  },
  {
   "cell_type": "code",
   "execution_count": null,
   "id": "15a46040",
   "metadata": {},
   "outputs": [],
   "source": [
    "bowlertop10=pd.DataFrame({'Bowler Name':bowler10[0:10],\n",
    "                         'Team':bowlerteam10[0:10],\n",
    "                          'Ratimg':bowlerrating10[0:10]\n",
    "                         })\n",
    "bowlertop10"
   ]
  },
  {
   "cell_type": "markdown",
   "id": "853a4fd4",
   "metadata": {},
   "source": []
  },
  {
   "cell_type": "code",
   "execution_count": null,
   "id": "98dbce36",
   "metadata": {},
   "outputs": [],
   "source": []
  },
  {
   "cell_type": "markdown",
   "id": "a2a69b62",
   "metadata": {},
   "source": [
    "##  6)Write a python program to scrape cricket rankings from icc-cricket.com. You have to scrape:"
   ]
  },
  {
   "cell_type": "markdown",
   "id": "f0313aaa",
   "metadata": {},
   "source": [
    "### a) Top 10 ODI teams in women’s cricket along with the records for matches, points and rating"
   ]
  },
  {
   "cell_type": "code",
   "execution_count": null,
   "id": "46a8ea5d",
   "metadata": {},
   "outputs": [],
   "source": [
    "webpage3=requests.get(\"https://www.icc-cricket.com/rankings/womens/team-rankings/odi\")\n",
    "webpage3"
   ]
  },
  {
   "cell_type": "code",
   "execution_count": null,
   "id": "6db440d2",
   "metadata": {},
   "outputs": [],
   "source": [
    "soup3=BeautifulSoup(webpage3.content)\n",
    "soup3"
   ]
  },
  {
   "cell_type": "markdown",
   "id": "6b2e0e39",
   "metadata": {},
   "source": [
    "### First Team"
   ]
  },
  {
   "cell_type": "code",
   "execution_count": null,
   "id": "12984162",
   "metadata": {},
   "outputs": [],
   "source": [
    "first_team=soup3.find(\"span\",class_='u-hide-phablet')\n",
    "first_team.text"
   ]
  },
  {
   "cell_type": "markdown",
   "id": "ec434deb",
   "metadata": {},
   "source": [
    "#### List of Teams"
   ]
  },
  {
   "cell_type": "code",
   "execution_count": null,
   "id": "e4f1a12c",
   "metadata": {},
   "outputs": [],
   "source": [
    "team=[]\n",
    "for i in soup3.find_all('span',class_='u-hide-phablet'):\n",
    "    team.append(i.text)\n",
    "team[0:10]   "
   ]
  },
  {
   "cell_type": "markdown",
   "id": "e53a1c5d",
   "metadata": {},
   "source": [
    "### First match"
   ]
  },
  {
   "cell_type": "code",
   "execution_count": null,
   "id": "b4389622",
   "metadata": {},
   "outputs": [],
   "source": [
    "first_match=soup3.find('td',class_='rankings-block__banner--matches')\n",
    "first_match.text"
   ]
  },
  {
   "cell_type": "markdown",
   "id": "007cd932",
   "metadata": {},
   "source": [
    "### List of Matches"
   ]
  },
  {
   "cell_type": "code",
   "execution_count": null,
   "id": "388d0c13",
   "metadata": {},
   "outputs": [],
   "source": [
    "matches=[]\n",
    "for i in soup3.find_all('tr',class_='table-body'):\n",
    "    matches.append(i.text.split(\"\\n\")[7])\n",
    "\n",
    "\n",
    "matches.insert(0,first_match.text)"
   ]
  },
  {
   "cell_type": "code",
   "execution_count": null,
   "id": "7618e38e",
   "metadata": {},
   "outputs": [],
   "source": [
    "matches[0:10]"
   ]
  },
  {
   "cell_type": "code",
   "execution_count": null,
   "id": "a21bbe34",
   "metadata": {},
   "outputs": [],
   "source": []
  },
  {
   "cell_type": "markdown",
   "id": "8df23362",
   "metadata": {},
   "source": [
    "### FIrst Point"
   ]
  },
  {
   "cell_type": "code",
   "execution_count": null,
   "id": "06b1152e",
   "metadata": {},
   "outputs": [],
   "source": [
    "first_point=soup3.find('td',class_='rankings-block__banner--points')\n",
    "first_point.text"
   ]
  },
  {
   "cell_type": "markdown",
   "id": "9516cb5f",
   "metadata": {},
   "source": [
    "### List of Points"
   ]
  },
  {
   "cell_type": "code",
   "execution_count": null,
   "id": "1d20aafe",
   "metadata": {},
   "outputs": [],
   "source": [
    "points=[]\n",
    "for i in soup3.find_all('tr',class_='table-body'):\n",
    "    points.append(i.text.split(\"\\n\")[8])\n",
    "points.insert(0,first_point.text)    "
   ]
  },
  {
   "cell_type": "code",
   "execution_count": null,
   "id": "8952af70",
   "metadata": {},
   "outputs": [],
   "source": [
    "points[0:10]"
   ]
  },
  {
   "cell_type": "markdown",
   "id": "00c0034a",
   "metadata": {},
   "source": [
    "### First Rating"
   ]
  },
  {
   "cell_type": "code",
   "execution_count": null,
   "id": "3b84e4b0",
   "metadata": {},
   "outputs": [],
   "source": [
    "first_rate=soup3.find('td',class_='rankings-block__banner--rating u-text-right')\n",
    "r=first_rate.text.split(\"\\n\")[1]\n",
    "r"
   ]
  },
  {
   "cell_type": "markdown",
   "id": "9b818556",
   "metadata": {},
   "source": [
    "### List of Ratings"
   ]
  },
  {
   "cell_type": "code",
   "execution_count": null,
   "id": "5ae34816",
   "metadata": {},
   "outputs": [],
   "source": [
    "rating=[]\n",
    "for i in soup3.find_all('tr',class_='table-body'):\n",
    "    rating.append(i.text.split(\"\\n\")[9])\n",
    "rating"
   ]
  },
  {
   "cell_type": "code",
   "execution_count": null,
   "id": "b3495bd8",
   "metadata": {},
   "outputs": [],
   "source": [
    "rating.insert(0,r)"
   ]
  },
  {
   "cell_type": "code",
   "execution_count": null,
   "id": "d4fa48d5",
   "metadata": {},
   "outputs": [],
   "source": [
    "newratings=[s.strip() for s in rating]\n",
    "newratings[0:10]"
   ]
  },
  {
   "cell_type": "markdown",
   "id": "bfddc82d",
   "metadata": {},
   "source": [
    "### DataFrame of Scrapped Data"
   ]
  },
  {
   "cell_type": "code",
   "execution_count": null,
   "id": "9ba1f6a7",
   "metadata": {},
   "outputs": [],
   "source": [
    "df4=pd.DataFrame({'Team Name':team[0:10],\n",
    "             'Matches':matches[0:10],\n",
    "             'Points':points[0:10],\n",
    "             'Ratings':newratings[0:10]})"
   ]
  },
  {
   "cell_type": "code",
   "execution_count": null,
   "id": "84c288f1",
   "metadata": {},
   "outputs": [],
   "source": [
    "df4"
   ]
  },
  {
   "cell_type": "markdown",
   "id": "59cc5799",
   "metadata": {},
   "source": [
    "## b)Top 10 ODI Batsmen along with the records of their team and rating. "
   ]
  },
  {
   "cell_type": "code",
   "execution_count": null,
   "id": "be046cbe",
   "metadata": {},
   "outputs": [],
   "source": [
    "batsman_url=requests.get('https://www.icc-cricket.com/rankings/womens/player-rankings/odi')\n",
    "batsman_url"
   ]
  },
  {
   "cell_type": "code",
   "execution_count": null,
   "id": "5fb2b932",
   "metadata": {},
   "outputs": [],
   "source": [
    "soup4=BeautifulSoup(batsman_url.content)\n",
    "soup4"
   ]
  },
  {
   "cell_type": "markdown",
   "id": "0b95ba8b",
   "metadata": {},
   "source": [
    "### #1 Playername"
   ]
  },
  {
   "cell_type": "code",
   "execution_count": null,
   "id": "04e130c8",
   "metadata": {},
   "outputs": [],
   "source": [
    "top1=soup4.find('div',class_='rankings-block__banner--name')\n",
    "t=top1.text\n",
    "t"
   ]
  },
  {
   "cell_type": "markdown",
   "id": "80e384a5",
   "metadata": {},
   "source": [
    "### odi women player list"
   ]
  },
  {
   "cell_type": "code",
   "execution_count": null,
   "id": "0346adf5",
   "metadata": {},
   "outputs": [],
   "source": [
    "women_player_list=[]\n",
    "for i in soup4.find_all('td',class_='table-body__cell name'):\n",
    "    women_player_list.append(i.text.split('\\n')[1])\n",
    "    \n",
    "women_player_list.insert(0,t)"
   ]
  },
  {
   "cell_type": "code",
   "execution_count": null,
   "id": "0f39e585",
   "metadata": {},
   "outputs": [],
   "source": [
    "women_player_list[0:10]"
   ]
  },
  {
   "cell_type": "markdown",
   "id": "ae93b920",
   "metadata": {},
   "source": [
    "### team"
   ]
  },
  {
   "cell_type": "code",
   "execution_count": null,
   "id": "2c859370",
   "metadata": {},
   "outputs": [],
   "source": [
    "team1=soup4.find('div',class_='rankings-block__banner--nationality')\n",
    "n=team1.text.split(\"\\n\")[2]\n",
    "n"
   ]
  },
  {
   "cell_type": "code",
   "execution_count": null,
   "id": "1962ee9b",
   "metadata": {},
   "outputs": [],
   "source": [
    "nation=[]\n",
    "for i in soup4.find_all('span',class_='table-body__logo-text'):\n",
    "                        nation.append(i.text)\n",
    "nation.insert(0,n)                        "
   ]
  },
  {
   "cell_type": "code",
   "execution_count": null,
   "id": "484e13cd",
   "metadata": {},
   "outputs": [],
   "source": [
    "nation[0:10]"
   ]
  },
  {
   "cell_type": "markdown",
   "id": "3bb5e236",
   "metadata": {},
   "source": [
    "### Rating"
   ]
  },
  {
   "cell_type": "code",
   "execution_count": null,
   "id": "4a1497bb",
   "metadata": {},
   "outputs": [],
   "source": [
    "r=team1.text.split(\"\\n\")[3]\n",
    "r"
   ]
  },
  {
   "cell_type": "code",
   "execution_count": null,
   "id": "22724211",
   "metadata": {},
   "outputs": [],
   "source": [
    "player_rating=[]\n",
    "for i in soup4.find_all('td',class_='table-body__cell u-text-right rating'):\n",
    "    player_rating.append(i.text)\n",
    "player_rating.insert(0,r)    \n",
    "\n",
    "player_rating1=[s.strip() for s in player_rating]\n",
    "player_rating1[0:10]"
   ]
  },
  {
   "cell_type": "markdown",
   "id": "ab64fc41",
   "metadata": {},
   "source": [
    "### ODI women player DataFrame"
   ]
  },
  {
   "cell_type": "code",
   "execution_count": null,
   "id": "6355053a",
   "metadata": {},
   "outputs": [],
   "source": [
    "df5=pd.DataFrame({'Player Name':women_player_list[0:10],\n",
    "                 'Team':nation[0:10],\n",
    "                 'Rating':player_rating1[0:10]})"
   ]
  },
  {
   "cell_type": "code",
   "execution_count": null,
   "id": "cf6df6ef",
   "metadata": {},
   "outputs": [],
   "source": [
    "df5"
   ]
  },
  {
   "cell_type": "markdown",
   "id": "a51def9b",
   "metadata": {},
   "source": [
    "## c)Top 10 women’s ODI all-rounder along with the records of their team and rating. "
   ]
  },
  {
   "cell_type": "code",
   "execution_count": null,
   "id": "4a4ffaaa",
   "metadata": {},
   "outputs": [],
   "source": [
    "odi=requests.get('https://www.icc-cricket.com/rankings/womens/player-rankings/odi/all-rounder')\n",
    "soup5=BeautifulSoup(odi.content)\n",
    "soup5\n"
   ]
  },
  {
   "cell_type": "code",
   "execution_count": null,
   "id": "8ca3bcf8",
   "metadata": {},
   "outputs": [],
   "source": [
    "first_all_runder= soup5.find('div',class_='rankings-block__banner--name-large')\n",
    "a=first_all_runder.text"
   ]
  },
  {
   "cell_type": "markdown",
   "id": "c383f75d",
   "metadata": {},
   "source": [
    "### List of all Rounder "
   ]
  },
  {
   "cell_type": "code",
   "execution_count": null,
   "id": "7bcce7cb",
   "metadata": {},
   "outputs": [],
   "source": [
    "all_rounder=[]\n",
    "for i in soup5.find_all('td',class_='table-body__cell rankings-table__name name'):\n",
    "    all_rounder.append(i.text.split(\"\\n\")[1])\n",
    "       \n",
    "all_rounder.insert(0,a)\n",
    "all_rounder[0:10]\n"
   ]
  },
  {
   "cell_type": "markdown",
   "id": "db3f0b45",
   "metadata": {},
   "source": [
    "### Team scrapping"
   ]
  },
  {
   "cell_type": "code",
   "execution_count": null,
   "id": "e9aa86bb",
   "metadata": {},
   "outputs": [],
   "source": [
    "team1=soup5.find('div',class_='rankings-block__banner--nationality')\n",
    "aus=team1.text.split('\\n')[2]\n",
    "aus"
   ]
  },
  {
   "cell_type": "code",
   "execution_count": null,
   "id": "02ba1be8",
   "metadata": {},
   "outputs": [],
   "source": [
    "teams=[]\n",
    "for i in soup5.find_all('span',class_='table-body__logo-text'):\n",
    "    teams.append(i.text)\n",
    "teams.insert(0,aus)\n"
   ]
  },
  {
   "cell_type": "code",
   "execution_count": null,
   "id": "8c3789b5",
   "metadata": {},
   "outputs": [],
   "source": [
    "teams[0:10]"
   ]
  },
  {
   "cell_type": "markdown",
   "id": "bf2e8974",
   "metadata": {},
   "source": [
    "### Ranking Scrapping "
   ]
  },
  {
   "cell_type": "code",
   "execution_count": null,
   "id": "8d4f2cea",
   "metadata": {},
   "outputs": [],
   "source": [
    "rank1=soup5.find('div',class_='rankings-block__banner--rating')\n",
    "rank=rank1.text\n",
    "rank"
   ]
  },
  {
   "cell_type": "code",
   "execution_count": null,
   "id": "6e7c378c",
   "metadata": {},
   "outputs": [],
   "source": [
    "all_rounder_rating=[]\n",
    "for i in soup5.find_all('td',class_='table-body__cell rating'):\n",
    "    all_rounder_rating.append(i.text)\n",
    "    \n",
    "all_rounder_rating.insert(0,rank)\n",
    "all_rounder_rating[0:10]"
   ]
  },
  {
   "cell_type": "markdown",
   "id": "0310e034",
   "metadata": {},
   "source": [
    "### All Rounder DataFrame "
   ]
  },
  {
   "cell_type": "code",
   "execution_count": null,
   "id": "fff75881",
   "metadata": {},
   "outputs": [],
   "source": [
    "all_rounder_df=pd.DataFrame({'Player Name':all_rounder[0:10],\n",
    "                             'Team':teams[0:10],\n",
    "                            'Rating':all_rounder_rating[0:10]\n",
    "                            })"
   ]
  },
  {
   "cell_type": "code",
   "execution_count": null,
   "id": "669ca2cf",
   "metadata": {},
   "outputs": [],
   "source": [
    "all_rounder_df"
   ]
  },
  {
   "cell_type": "code",
   "execution_count": null,
   "id": "09dafd1f",
   "metadata": {},
   "outputs": [],
   "source": []
  },
  {
   "cell_type": "code",
   "execution_count": null,
   "id": "16588c62",
   "metadata": {},
   "outputs": [],
   "source": []
  },
  {
   "cell_type": "markdown",
   "id": "9d36ab4a",
   "metadata": {},
   "source": [
    "## 7)Write a python program to scrape mentioned news details from https://www.cnbc.com/world/?region=world :"
   ]
  },
  {
   "cell_type": "markdown",
   "id": "a0be623b",
   "metadata": {},
   "source": [
    "### i) Headline\n"
   ]
  },
  {
   "cell_type": "code",
   "execution_count": null,
   "id": "80de7de8",
   "metadata": {},
   "outputs": [],
   "source": [
    "news=requests.get('https://www.cnbc.com/world/?region=world')\n",
    "news"
   ]
  },
  {
   "cell_type": "code",
   "execution_count": null,
   "id": "97338517",
   "metadata": {},
   "outputs": [],
   "source": [
    "soup9=BeautifulSoup(news.text)\n",
    "soup9"
   ]
  },
  {
   "cell_type": "markdown",
   "id": "9a5298cf",
   "metadata": {},
   "source": [
    "### Headline scrapping "
   ]
  },
  {
   "cell_type": "code",
   "execution_count": null,
   "id": "07e17cc5",
   "metadata": {},
   "outputs": [],
   "source": [
    "headlines=[]\n",
    "for i in soup9.find_all('a',class_='LatestNews-headline'):\n",
    "    headlines.append(i.text)\n",
    "headlines"
   ]
  },
  {
   "cell_type": "markdown",
   "id": "7ccdcb4c",
   "metadata": {},
   "source": [
    "### ii)Time"
   ]
  },
  {
   "cell_type": "code",
   "execution_count": null,
   "id": "089b1a3a",
   "metadata": {},
   "outputs": [],
   "source": [
    "time=soup9.find('span',class_='LatestNews-wrapper').text\n",
    "time"
   ]
  },
  {
   "cell_type": "code",
   "execution_count": null,
   "id": "cd8ad5fb",
   "metadata": {},
   "outputs": [],
   "source": [
    "time = []\n",
    "for t in soup9.find_all('span',class_='LatestNews-wrapper'):\n",
    "    time.append(t.text)\n",
    "\n",
    "print(time)\n",
    "    "
   ]
  },
  {
   "cell_type": "markdown",
   "id": "b0506bd9",
   "metadata": {},
   "source": [
    "## iii)News Link"
   ]
  },
  {
   "cell_type": "code",
   "execution_count": null,
   "id": "c91a736a",
   "metadata": {},
   "outputs": [],
   "source": [
    "newslink=[]\n",
    "for link in soup9.find_all('a',class_='LatestNews-headline'):\n",
    "    newslink.append(link.get('href'))\n",
    "newslink"
   ]
  },
  {
   "cell_type": "code",
   "execution_count": null,
   "id": "412f0408",
   "metadata": {},
   "outputs": [],
   "source": [
    "print(len(headlines),len(time),len(newslink))"
   ]
  },
  {
   "cell_type": "markdown",
   "id": "9f2ae682",
   "metadata": {},
   "source": [
    "### DataFrame of scrapped Data"
   ]
  },
  {
   "cell_type": "code",
   "execution_count": null,
   "id": "c94c2b91",
   "metadata": {},
   "outputs": [],
   "source": [
    "news_df=pd.DataFrame({'Headline':headlines,\n",
    "                     'Time':time,\n",
    "                     'News Link':newslink})\n",
    "news_df"
   ]
  },
  {
   "cell_type": "code",
   "execution_count": null,
   "id": "f9a33a47",
   "metadata": {},
   "outputs": [],
   "source": []
  },
  {
   "cell_type": "code",
   "execution_count": null,
   "id": "032d1876",
   "metadata": {},
   "outputs": [],
   "source": []
  },
  {
   "cell_type": "markdown",
   "id": "702eec1b",
   "metadata": {},
   "source": [
    "## 8)Write a python program to scrape the details of most downloaded articles from AI in last 90 days.\n",
    "https://www.journals.elsevier.com/artificial-intelligence/most-downloaded-articles\n",
    "### Scrap the below mentioned details:"
   ]
  },
  {
   "cell_type": "markdown",
   "id": "617b1572",
   "metadata": {},
   "source": [
    "### i)Paper Title"
   ]
  },
  {
   "cell_type": "code",
   "execution_count": null,
   "id": "6fc884b3",
   "metadata": {},
   "outputs": [],
   "source": [
    "articles=requests.get('https://www.journals.elsevier.com/artificial-intelligence/most-downloaded-articles')\n",
    "articles"
   ]
  },
  {
   "cell_type": "code",
   "execution_count": null,
   "id": "fc94215e",
   "metadata": {},
   "outputs": [],
   "source": [
    "soup10=BeautifulSoup(articles.content)\n",
    "soup10"
   ]
  },
  {
   "cell_type": "markdown",
   "id": "9a636780",
   "metadata": {},
   "source": [
    "### Scrapping Paper Title"
   ]
  },
  {
   "cell_type": "code",
   "execution_count": null,
   "id": "e45c4d32",
   "metadata": {},
   "outputs": [],
   "source": [
    "paper_title=[]\n",
    "for title in soup10.find_all('h2',class_='sc-1qrq3sd-1 gRGSUS sc-1nmom32-0 sc-1nmom32-1 btcbYu goSKRg'):\n",
    "    paper_title.append(title.text)\n",
    "paper_title"
   ]
  },
  {
   "cell_type": "markdown",
   "id": "afe7826c",
   "metadata": {},
   "source": [
    "### ii)Authors "
   ]
  },
  {
   "cell_type": "code",
   "execution_count": null,
   "id": "3ca8ab1b",
   "metadata": {},
   "outputs": [],
   "source": [
    "authors=[]\n",
    "for a in soup10.find_all('span',class_='sc-1w3fpd7-0 dnCnAO'):\n",
    "    authors.append(a.text.split('and')[0])\n",
    "authors"
   ]
  },
  {
   "cell_type": "markdown",
   "id": "da40bb29",
   "metadata": {},
   "source": [
    "### iii)Published Date"
   ]
  },
  {
   "cell_type": "code",
   "execution_count": null,
   "id": "0b162b8f",
   "metadata": {},
   "outputs": [],
   "source": [
    "published_date=[]\n",
    "for date in soup10.find_all('span',class_='sc-1thf9ly-2 dvggWt'):\n",
    "    published_date.append(date.text)\n",
    "    \n",
    "published_date"
   ]
  },
  {
   "cell_type": "markdown",
   "id": "5a1e5428",
   "metadata": {},
   "source": [
    "### iv) Paper URL "
   ]
  },
  {
   "cell_type": "code",
   "execution_count": null,
   "id": "3adb7b9c",
   "metadata": {},
   "outputs": [],
   "source": [
    "paper_url=[]\n",
    "for url in soup10.find_all('a',class_='sc-5smygv-0 fIXTHm'):\n",
    "    paper_url.append(url.get('href'))\n",
    "paper_url"
   ]
  },
  {
   "cell_type": "code",
   "execution_count": null,
   "id": "48412a29",
   "metadata": {},
   "outputs": [],
   "source": [
    "print(len(paper_title),len(authors),len(published_date),len(paper_url))"
   ]
  },
  {
   "cell_type": "markdown",
   "id": "742d7fc3",
   "metadata": {},
   "source": [
    "### DataFrame of most downloaded articles on AI"
   ]
  },
  {
   "cell_type": "code",
   "execution_count": null,
   "id": "4fe92235",
   "metadata": {},
   "outputs": [],
   "source": [
    "Ai_articles=pd.DataFrame({'Papre Title':paper_title,\n",
    "                         'Authors':authors,\n",
    "                         'Published Date': published_date,\n",
    "                         'Paper Url':paper_url})"
   ]
  },
  {
   "cell_type": "code",
   "execution_count": null,
   "id": "a9d03f8b",
   "metadata": {},
   "outputs": [],
   "source": [
    "Ai_articles"
   ]
  },
  {
   "cell_type": "code",
   "execution_count": null,
   "id": "0f6cf9fc",
   "metadata": {},
   "outputs": [],
   "source": []
  },
  {
   "cell_type": "code",
   "execution_count": null,
   "id": "b9dacb39",
   "metadata": {},
   "outputs": [],
   "source": []
  },
  {
   "cell_type": "markdown",
   "id": "105aff09",
   "metadata": {},
   "source": [
    "## 9) Write a python program to scrape mentioned details from dineout.co.in :\n",
    "\n"
   ]
  },
  {
   "cell_type": "code",
   "execution_count": null,
   "id": "2419f9f0",
   "metadata": {},
   "outputs": [],
   "source": [
    "restaurant_link=requests.get('https://www.dineout.co.in/delhi-restaurants/buffet-special')\n",
    "restaurant_link"
   ]
  },
  {
   "cell_type": "code",
   "execution_count": null,
   "id": "180205eb",
   "metadata": {},
   "outputs": [],
   "source": [
    "soup11=BeautifulSoup(restaurant_link.content)\n",
    "soup11"
   ]
  },
  {
   "cell_type": "markdown",
   "id": "43bb96ea",
   "metadata": {},
   "source": [
    "### i) Restaurant name"
   ]
  },
  {
   "cell_type": "code",
   "execution_count": null,
   "id": "9527765c",
   "metadata": {},
   "outputs": [],
   "source": [
    "restaurant=[]\n",
    "for name in soup11.find_all('a',class_='restnt-name ellipsis'):\n",
    "    restaurant.append(name.text)\n",
    "    \n",
    "restaurant"
   ]
  },
  {
   "cell_type": "markdown",
   "id": "af61c11b",
   "metadata": {},
   "source": [
    "### ii)Cuisine"
   ]
  },
  {
   "cell_type": "code",
   "execution_count": null,
   "id": "dde5964f",
   "metadata": {},
   "outputs": [],
   "source": [
    "cuisine=[]\n",
    "for dish in soup11.find_all('span',class_='double-line-ellipsis'):\n",
    "    cuisine.append(dish.text.split('|')[1])\n",
    "cuisine                                  "
   ]
  },
  {
   "cell_type": "markdown",
   "id": "22435903",
   "metadata": {},
   "source": [
    "### iii)Location "
   ]
  },
  {
   "cell_type": "code",
   "execution_count": null,
   "id": "e7083225",
   "metadata": {},
   "outputs": [],
   "source": [
    "location=[]\n",
    "for loc in soup11.find_all('div',class_='restnt-loc ellipsis'):\n",
    "    location.append(loc.text)\n",
    "    \n",
    "location"
   ]
  },
  {
   "cell_type": "markdown",
   "id": "743bbd1d",
   "metadata": {},
   "source": [
    "### iv) Ratings"
   ]
  },
  {
   "cell_type": "code",
   "execution_count": null,
   "id": "6eff6f7d",
   "metadata": {},
   "outputs": [],
   "source": [
    "res_ratings=[]\n",
    "for rate in soup11.find_all('div',class_='restnt-rating rating-4'):\n",
    "    res_ratings.append(rate.text)\n",
    "res_ratings"
   ]
  },
  {
   "cell_type": "markdown",
   "id": "99b57606",
   "metadata": {},
   "source": [
    "### v) Image URL\n",
    " "
   ]
  },
  {
   "cell_type": "code",
   "execution_count": null,
   "id": "33e71062",
   "metadata": {},
   "outputs": [],
   "source": [
    "image=[]\n",
    "for url in soup11.find_all('img',class_='no-img'):\n",
    "    image.append(url.get('data-src'))\n",
    "image"
   ]
  },
  {
   "cell_type": "code",
   "execution_count": null,
   "id": "18f97420",
   "metadata": {},
   "outputs": [],
   "source": [
    "print(len(restaurant),len(cuisine),len(location),len(res_ratings),len(image))"
   ]
  },
  {
   "cell_type": "markdown",
   "id": "fc29404c",
   "metadata": {},
   "source": [
    "### Restaurant DataFrame"
   ]
  },
  {
   "cell_type": "code",
   "execution_count": null,
   "id": "c8e4c3a8",
   "metadata": {},
   "outputs": [],
   "source": [
    "restuarant_df=pd.DataFrame({'Restaurant Name':restaurant,\n",
    "                           'Cuisine':cuisine,\n",
    "                           'Location':location,\n",
    "                           'Rating':res_ratings,\n",
    "                           'Image Url':image})"
   ]
  },
  {
   "cell_type": "code",
   "execution_count": null,
   "id": "1cbe56a4",
   "metadata": {},
   "outputs": [],
   "source": [
    "restuarant_df"
   ]
  },
  {
   "cell_type": "code",
   "execution_count": null,
   "id": "2e54c304",
   "metadata": {},
   "outputs": [],
   "source": []
  }
 ],
 "metadata": {
  "kernelspec": {
   "display_name": "Python 3 (ipykernel)",
   "language": "python",
   "name": "python3"
  },
  "language_info": {
   "codemirror_mode": {
    "name": "ipython",
    "version": 3
   },
   "file_extension": ".py",
   "mimetype": "text/x-python",
   "name": "python",
   "nbconvert_exporter": "python",
   "pygments_lexer": "ipython3",
   "version": "3.9.12"
  }
 },
 "nbformat": 4,
 "nbformat_minor": 5
}
