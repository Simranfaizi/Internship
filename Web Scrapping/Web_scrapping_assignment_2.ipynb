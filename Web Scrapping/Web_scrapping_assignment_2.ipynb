{
 "cells": [
  {
   "cell_type": "code",
   "execution_count": 1,
   "id": "db15e257",
   "metadata": {},
   "outputs": [],
   "source": [
    "import selenium\n",
    "from selenium import webdriver\n",
    "import pandas as pd\n",
    "import warnings\n",
    "warnings.filterwarnings('ignore')\n",
    "from selenium.webdriver.common.by import By\n",
    "import time\n"
   ]
  },
  {
   "cell_type": "markdown",
   "id": "8157192c",
   "metadata": {},
   "source": [
    "### 1) Write a python program to scrape data for “Data Analyst” Job position in “Bangalore” location. You have to scrape the job-title, job-location, company_name, experience_required. You have to scrape first 10 jobs data."
   ]
  },
  {
   "cell_type": "code",
   "execution_count": 2,
   "id": "de622c15",
   "metadata": {},
   "outputs": [],
   "source": [
    "driver=webdriver.Chrome(r'chromedriver.exe')\n",
    "driver.maximize_window()"
   ]
  },
  {
   "cell_type": "code",
   "execution_count": 107,
   "id": "2ded5fdb",
   "metadata": {},
   "outputs": [],
   "source": [
    "#1First get the webpage https://www.naukri.com\n",
    "driver.get(\"https://www.naukri.com\")"
   ]
  },
  {
   "cell_type": "code",
   "execution_count": 108,
   "id": "f401dcdd",
   "metadata": {},
   "outputs": [],
   "source": [
    "#2)Enter “Data Analyst” in “Skill, Designations, Companies” field and enter “Bangalore” in “enter the location” field.\n",
    "designation=driver.find_element(By.CLASS_NAME,'suggestor-input ')\n",
    "designation.send_keys(\"Data Analyst\")\n",
    "\n"
   ]
  },
  {
   "cell_type": "code",
   "execution_count": 109,
   "id": "fe621c4c",
   "metadata": {},
   "outputs": [],
   "source": [
    "location=driver.find_element(By.XPATH,\"/html/body/div[1]/div[6]/div/div/div[5]/div/div/div/input\")\n",
    "location.send_keys(\"Bangalore\")\n",
    "\n",
    "#3 Then click the searchbutton.\n",
    "search=driver.find_element(By.CLASS_NAME,'qsbSubmit')\n",
    "search.click()"
   ]
  },
  {
   "cell_type": "code",
   "execution_count": 12,
   "id": "db20f945",
   "metadata": {},
   "outputs": [],
   "source": [
    "#4Then scrape the data for the first 10 jobs results you get."
   ]
  },
  {
   "cell_type": "code",
   "execution_count": 111,
   "id": "5ba04668",
   "metadata": {},
   "outputs": [],
   "source": [
    "job_title=[]\n",
    "job_loc=[]\n",
    "comp_name=[]\n",
    "experience_req=[]"
   ]
  },
  {
   "cell_type": "code",
   "execution_count": 112,
   "id": "a904f1d5",
   "metadata": {},
   "outputs": [],
   "source": [
    "title_tags=driver.find_elements(By.XPATH,'//a[@class=\"title ellipsis\"]')\n",
    "for i in title_tags[0:10]:\n",
    "    title=i.text\n",
    "    job_title.append(title)"
   ]
  },
  {
   "cell_type": "code",
   "execution_count": 113,
   "id": "27dd5059",
   "metadata": {},
   "outputs": [],
   "source": [
    "#job location\n",
    "loc_tag=driver.find_elements(By.XPATH,'//span[@class=\"ellipsis fleft locWdth\"]')\n",
    "for i in loc_tag[0:10]:\n",
    "    location=i.text\n",
    "    job_loc.append(location)"
   ]
  },
  {
   "cell_type": "code",
   "execution_count": 114,
   "id": "b8902e84",
   "metadata": {},
   "outputs": [],
   "source": [
    "#company Name\n",
    "comp_tag=driver.find_elements(By.XPATH,'//a[@class=\"subTitle ellipsis fleft\"]')\n",
    "for i in comp_tag[0:10]:\n",
    "    comp=i.text\n",
    "    comp_name.append(comp)"
   ]
  },
  {
   "cell_type": "code",
   "execution_count": null,
   "id": "808dabc6",
   "metadata": {},
   "outputs": [],
   "source": [
    "#Exp \n",
    "\n",
    "exp_tag=driver.find_elements(By.XPATH,'//span[@class=\"ellipsis fleft expwdth\"]')\n",
    "for i in exp_tag[0:10]:\n",
    "    exp=i.text\n",
    "    experience_req.append(exp)\n"
   ]
  },
  {
   "cell_type": "code",
   "execution_count": 131,
   "id": "985c0aa5",
   "metadata": {},
   "outputs": [
    {
     "name": "stdout",
     "output_type": "stream",
     "text": [
      "10 10 10 10\n"
     ]
    }
   ],
   "source": [
    "print(len(job_title),len(job_loc),len(comp_name),len(experience_req))"
   ]
  },
  {
   "cell_type": "code",
   "execution_count": 133,
   "id": "c69c3f98",
   "metadata": {},
   "outputs": [],
   "source": [
    "data_df=pd.DataFrame({'Job Title':job_title,'Job Location':job_loc,\n",
    "                             'Company Name':comp_name,\n",
    "                             'Experience Required':experience_req})"
   ]
  },
  {
   "cell_type": "code",
   "execution_count": 134,
   "id": "b231a490",
   "metadata": {},
   "outputs": [
    {
     "data": {
      "text/html": [
       "<div>\n",
       "<style scoped>\n",
       "    .dataframe tbody tr th:only-of-type {\n",
       "        vertical-align: middle;\n",
       "    }\n",
       "\n",
       "    .dataframe tbody tr th {\n",
       "        vertical-align: top;\n",
       "    }\n",
       "\n",
       "    .dataframe thead th {\n",
       "        text-align: right;\n",
       "    }\n",
       "</style>\n",
       "<table border=\"1\" class=\"dataframe\">\n",
       "  <thead>\n",
       "    <tr style=\"text-align: right;\">\n",
       "      <th></th>\n",
       "      <th>Job Title</th>\n",
       "      <th>Job Location</th>\n",
       "      <th>Company Name</th>\n",
       "      <th>Experience Required</th>\n",
       "    </tr>\n",
       "  </thead>\n",
       "  <tbody>\n",
       "    <tr>\n",
       "      <th>0</th>\n",
       "      <td>Customer Data Analyst</td>\n",
       "      <td>Bangalore/Bengaluru</td>\n",
       "      <td>Oracle</td>\n",
       "      <td>1-4 Yrs</td>\n",
       "    </tr>\n",
       "    <tr>\n",
       "      <th>1</th>\n",
       "      <td>Business Data Analysts (People &amp; Culture)</td>\n",
       "      <td>Bangalore/Bengaluru</td>\n",
       "      <td>Zscaler Softech</td>\n",
       "      <td>5-6 Yrs</td>\n",
       "    </tr>\n",
       "    <tr>\n",
       "      <th>2</th>\n",
       "      <td>Senior Data Analyst - DC</td>\n",
       "      <td>Bangalore/Bengaluru</td>\n",
       "      <td>Boston Consulting Group</td>\n",
       "      <td>4-6 Yrs</td>\n",
       "    </tr>\n",
       "    <tr>\n",
       "      <th>3</th>\n",
       "      <td>Manager/Senior Manager - Data Analyst</td>\n",
       "      <td>Bangalore/Bengaluru, Mumbai, Hyderabad/Secunde...</td>\n",
       "      <td>Huquo Consulting Pvt. Ltd</td>\n",
       "      <td>2-7 Yrs</td>\n",
       "    </tr>\n",
       "    <tr>\n",
       "      <th>4</th>\n",
       "      <td>Croma - Data Analyst - Mumbai / Bangalore</td>\n",
       "      <td>Hybrid - Bangalore/Bengaluru, Mumbai</td>\n",
       "      <td>Croma</td>\n",
       "      <td>4-9 Yrs</td>\n",
       "    </tr>\n",
       "    <tr>\n",
       "      <th>5</th>\n",
       "      <td>Data Analyst- PYTHON+SCALA</td>\n",
       "      <td>Bangalore/Bengaluru</td>\n",
       "      <td>Capco</td>\n",
       "      <td>3-7 Yrs</td>\n",
       "    </tr>\n",
       "    <tr>\n",
       "      <th>6</th>\n",
       "      <td>Data Analyst-Pyspark</td>\n",
       "      <td>Hybrid - Bangalore/Bengaluru, Hyderabad/Secund...</td>\n",
       "      <td>Capco</td>\n",
       "      <td>7-12 Yrs</td>\n",
       "    </tr>\n",
       "    <tr>\n",
       "      <th>7</th>\n",
       "      <td>Data Analyst</td>\n",
       "      <td>Bangalore/Bengaluru, Hyderabad/Secunderabad</td>\n",
       "      <td>Capco</td>\n",
       "      <td>6-11 Yrs</td>\n",
       "    </tr>\n",
       "    <tr>\n",
       "      <th>8</th>\n",
       "      <td>Translation - Data Analyst</td>\n",
       "      <td>Bangalore/Bengaluru</td>\n",
       "      <td>Avery Dennison</td>\n",
       "      <td>3-6 Yrs</td>\n",
       "    </tr>\n",
       "    <tr>\n",
       "      <th>9</th>\n",
       "      <td>Sr. Data Analyst</td>\n",
       "      <td>Bangalore/Bengaluru, Chennai</td>\n",
       "      <td>Bizanalytica Solution Llp</td>\n",
       "      <td>4-9 Yrs</td>\n",
       "    </tr>\n",
       "  </tbody>\n",
       "</table>\n",
       "</div>"
      ],
      "text/plain": [
       "                                   Job Title  \\\n",
       "0                      Customer Data Analyst   \n",
       "1  Business Data Analysts (People & Culture)   \n",
       "2                   Senior Data Analyst - DC   \n",
       "3      Manager/Senior Manager - Data Analyst   \n",
       "4  Croma - Data Analyst - Mumbai / Bangalore   \n",
       "5                 Data Analyst- PYTHON+SCALA   \n",
       "6                       Data Analyst-Pyspark   \n",
       "7                               Data Analyst   \n",
       "8                 Translation - Data Analyst   \n",
       "9                           Sr. Data Analyst   \n",
       "\n",
       "                                        Job Location  \\\n",
       "0                                Bangalore/Bengaluru   \n",
       "1                                Bangalore/Bengaluru   \n",
       "2                                Bangalore/Bengaluru   \n",
       "3  Bangalore/Bengaluru, Mumbai, Hyderabad/Secunde...   \n",
       "4               Hybrid - Bangalore/Bengaluru, Mumbai   \n",
       "5                                Bangalore/Bengaluru   \n",
       "6  Hybrid - Bangalore/Bengaluru, Hyderabad/Secund...   \n",
       "7        Bangalore/Bengaluru, Hyderabad/Secunderabad   \n",
       "8                                Bangalore/Bengaluru   \n",
       "9                       Bangalore/Bengaluru, Chennai   \n",
       "\n",
       "                Company Name Experience Required  \n",
       "0                     Oracle             1-4 Yrs  \n",
       "1            Zscaler Softech             5-6 Yrs  \n",
       "2    Boston Consulting Group             4-6 Yrs  \n",
       "3  Huquo Consulting Pvt. Ltd             2-7 Yrs  \n",
       "4                      Croma             4-9 Yrs  \n",
       "5                      Capco             3-7 Yrs  \n",
       "6                      Capco            7-12 Yrs  \n",
       "7                      Capco            6-11 Yrs  \n",
       "8             Avery Dennison             3-6 Yrs  \n",
       "9  Bizanalytica Solution Llp             4-9 Yrs  "
      ]
     },
     "execution_count": 134,
     "metadata": {},
     "output_type": "execute_result"
    }
   ],
   "source": [
    "data_df"
   ]
  },
  {
   "cell_type": "markdown",
   "id": "1102ca84",
   "metadata": {},
   "source": [
    "### Q2:Write a python program to scrape data for “Data Scientist” Job position in “Bangalore” location. You have to scrape the job-title, job-location, company_name. You have to scrape first 10 jobs data."
   ]
  },
  {
   "cell_type": "code",
   "execution_count": 135,
   "id": "5c19e349",
   "metadata": {},
   "outputs": [],
   "source": [
    "#1First get the webpage https://www.naukri.com/\n",
    "driver.get(\"https://www.naukri.com\")"
   ]
  },
  {
   "cell_type": "code",
   "execution_count": 136,
   "id": "a3d0b9ef",
   "metadata": {},
   "outputs": [],
   "source": [
    "#Enter “Data Scientist” in “Skill, Designations, Companies” field and enter “Bangalore” in “enter the location” field\n",
    "ds_designation=driver.find_element(By.CLASS_NAME,'suggestor-input ')\n",
    "ds_designation.send_keys(\"Data Scientist\")\n",
    "\n",
    "location=driver.find_element(By.XPATH,\"/html/body/div[1]/div[6]/div/div/div[5]/div/div/div/input\")\n",
    "location.send_keys(\"Bangalore\")\n",
    "\n",
    "#3 Then click the searchbutton.\n",
    "search=driver.find_element(By.CLASS_NAME,'qsbSubmit')\n",
    "search.click()\n",
    "\n"
   ]
  },
  {
   "cell_type": "code",
   "execution_count": 137,
   "id": "a8620d0d",
   "metadata": {},
   "outputs": [],
   "source": [
    "#Then scrape the data for the first 10 jobs results youget\n",
    "job_titles=[]\n",
    "job_location=[]\n",
    "company_name=[]\n",
    "experince_required=[]\n",
    "\n"
   ]
  },
  {
   "cell_type": "code",
   "execution_count": 138,
   "id": "5ab838e3",
   "metadata": {},
   "outputs": [],
   "source": [
    "title_tag=driver.find_elements(By.XPATH,'//a[@class=\"title ellipsis\"]')\n",
    "for i in title_tag[0:10]:\n",
    "    title=i.text\n",
    "    job_titles.append(title)"
   ]
  },
  {
   "cell_type": "code",
   "execution_count": 139,
   "id": "69913497",
   "metadata": {},
   "outputs": [],
   "source": [
    "#job location\n",
    "loc_tags=driver.find_elements(By.XPATH,'//span[@class=\"ellipsis fleft locWdth\"]')\n",
    "for i in loc_tags[0:10]:\n",
    "    loc=i.text\n",
    "    job_location.append(loc)"
   ]
  },
  {
   "cell_type": "code",
   "execution_count": 140,
   "id": "9e555589",
   "metadata": {},
   "outputs": [],
   "source": [
    "#company Name\n",
    "comp_tags=driver.find_elements(By.XPATH,'//a[@class=\"subTitle ellipsis fleft\"]')\n",
    "for i in comp_tags[0:10]:\n",
    "    company=i.text\n",
    "    company_name.append(company)"
   ]
  },
  {
   "cell_type": "code",
   "execution_count": 141,
   "id": "1760dc53",
   "metadata": {},
   "outputs": [],
   "source": [
    "#Experience \n",
    "exp_tags=driver.find_elements(By.XPATH,'//span[@class=\"ellipsis fleft expwdth\"]')\n",
    "for i in exp_tags[0:10]:\n",
    "    experience=i.text\n",
    "    experince_required.append(experience)"
   ]
  },
  {
   "cell_type": "code",
   "execution_count": null,
   "id": "77da1224",
   "metadata": {},
   "outputs": [],
   "source": []
  },
  {
   "cell_type": "code",
   "execution_count": 142,
   "id": "8cf77b74",
   "metadata": {},
   "outputs": [
    {
     "name": "stdout",
     "output_type": "stream",
     "text": [
      "10 10 10 10\n"
     ]
    }
   ],
   "source": [
    "print(len(job_titles),len(job_location),len(company_name),len(experince_required))"
   ]
  },
  {
   "cell_type": "code",
   "execution_count": 143,
   "id": "ee396c4a",
   "metadata": {},
   "outputs": [],
   "source": [
    "#Finally create a dataframe of the scraped data.\n",
    "\n",
    "data_scientist_df=pd.DataFrame({'Job Title':job_titles,'Job Location':job_location,\n",
    "                             'Company Name':company_name,\n",
    "                             'Experience Required':experince_required})"
   ]
  },
  {
   "cell_type": "code",
   "execution_count": 144,
   "id": "2e5ef4f4",
   "metadata": {},
   "outputs": [
    {
     "data": {
      "text/html": [
       "<div>\n",
       "<style scoped>\n",
       "    .dataframe tbody tr th:only-of-type {\n",
       "        vertical-align: middle;\n",
       "    }\n",
       "\n",
       "    .dataframe tbody tr th {\n",
       "        vertical-align: top;\n",
       "    }\n",
       "\n",
       "    .dataframe thead th {\n",
       "        text-align: right;\n",
       "    }\n",
       "</style>\n",
       "<table border=\"1\" class=\"dataframe\">\n",
       "  <thead>\n",
       "    <tr style=\"text-align: right;\">\n",
       "      <th></th>\n",
       "      <th>Job Title</th>\n",
       "      <th>Job Location</th>\n",
       "      <th>Company Name</th>\n",
       "      <th>Experience Required</th>\n",
       "    </tr>\n",
       "  </thead>\n",
       "  <tbody>\n",
       "    <tr>\n",
       "      <th>0</th>\n",
       "      <td>Data Scientist</td>\n",
       "      <td>Temp. WFH - Bangalore/Bengaluru, Hyderabad/Sec...</td>\n",
       "      <td>Tech Mahindra</td>\n",
       "      <td>7-12 Yrs</td>\n",
       "    </tr>\n",
       "    <tr>\n",
       "      <th>1</th>\n",
       "      <td>Data Science Specialist</td>\n",
       "      <td>Bangalore/Bengaluru, Kolkata, Mumbai, Hyderaba...</td>\n",
       "      <td>Accenture</td>\n",
       "      <td>2-4 Yrs</td>\n",
       "    </tr>\n",
       "    <tr>\n",
       "      <th>2</th>\n",
       "      <td>Analystics &amp; Modeling Specialist</td>\n",
       "      <td>Bangalore/Bengaluru, Kolkata, Mumbai, Hyderaba...</td>\n",
       "      <td>Accenture</td>\n",
       "      <td>6-8 Yrs</td>\n",
       "    </tr>\n",
       "    <tr>\n",
       "      <th>3</th>\n",
       "      <td>Lead Data Scientist</td>\n",
       "      <td>Bangalore/Bengaluru, Noida, Hyderabad/Secunder...</td>\n",
       "      <td>Birlasoft</td>\n",
       "      <td>8-12 Yrs</td>\n",
       "    </tr>\n",
       "    <tr>\n",
       "      <th>4</th>\n",
       "      <td>Data Scientist</td>\n",
       "      <td>Hybrid - Bangalore/Bengaluru, Noida, Hyderabad...</td>\n",
       "      <td>Birlasoft</td>\n",
       "      <td>8-12 Yrs</td>\n",
       "    </tr>\n",
       "    <tr>\n",
       "      <th>5</th>\n",
       "      <td>Data Scientist Knowledge graph</td>\n",
       "      <td>Hybrid - Bangalore/Bengaluru, Pune</td>\n",
       "      <td>Capco</td>\n",
       "      <td>7-12 Yrs</td>\n",
       "    </tr>\n",
       "    <tr>\n",
       "      <th>6</th>\n",
       "      <td>Data Scientist (Analyst)</td>\n",
       "      <td>Bangalore/Bengaluru</td>\n",
       "      <td>Visa</td>\n",
       "      <td>3-6 Yrs</td>\n",
       "    </tr>\n",
       "    <tr>\n",
       "      <th>7</th>\n",
       "      <td>Supply Chain Specialist Staff</td>\n",
       "      <td>Bangalore/Bengaluru</td>\n",
       "      <td>Juniper Networks</td>\n",
       "      <td>7-11 Yrs</td>\n",
       "    </tr>\n",
       "    <tr>\n",
       "      <th>8</th>\n",
       "      <td>Opportunity For Data Scientist/Sr. Data Scient...</td>\n",
       "      <td>Hybrid - Bangalore/Bengaluru, Gurgaon/Gurugram...</td>\n",
       "      <td>PayU</td>\n",
       "      <td>3-5 Yrs</td>\n",
       "    </tr>\n",
       "    <tr>\n",
       "      <th>9</th>\n",
       "      <td>Research Scientist</td>\n",
       "      <td>Bangalore/Bengaluru</td>\n",
       "      <td>Siemens</td>\n",
       "      <td>2-5 Yrs</td>\n",
       "    </tr>\n",
       "  </tbody>\n",
       "</table>\n",
       "</div>"
      ],
      "text/plain": [
       "                                           Job Title  \\\n",
       "0                                     Data Scientist   \n",
       "1                            Data Science Specialist   \n",
       "2                   Analystics & Modeling Specialist   \n",
       "3                                Lead Data Scientist   \n",
       "4                                     Data Scientist   \n",
       "5                     Data Scientist Knowledge graph   \n",
       "6                           Data Scientist (Analyst)   \n",
       "7                      Supply Chain Specialist Staff   \n",
       "8  Opportunity For Data Scientist/Sr. Data Scient...   \n",
       "9                                 Research Scientist   \n",
       "\n",
       "                                        Job Location      Company Name  \\\n",
       "0  Temp. WFH - Bangalore/Bengaluru, Hyderabad/Sec...     Tech Mahindra   \n",
       "1  Bangalore/Bengaluru, Kolkata, Mumbai, Hyderaba...         Accenture   \n",
       "2  Bangalore/Bengaluru, Kolkata, Mumbai, Hyderaba...         Accenture   \n",
       "3  Bangalore/Bengaluru, Noida, Hyderabad/Secunder...         Birlasoft   \n",
       "4  Hybrid - Bangalore/Bengaluru, Noida, Hyderabad...         Birlasoft   \n",
       "5                 Hybrid - Bangalore/Bengaluru, Pune             Capco   \n",
       "6                                Bangalore/Bengaluru              Visa   \n",
       "7                                Bangalore/Bengaluru  Juniper Networks   \n",
       "8  Hybrid - Bangalore/Bengaluru, Gurgaon/Gurugram...              PayU   \n",
       "9                                Bangalore/Bengaluru           Siemens   \n",
       "\n",
       "  Experience Required  \n",
       "0            7-12 Yrs  \n",
       "1             2-4 Yrs  \n",
       "2             6-8 Yrs  \n",
       "3            8-12 Yrs  \n",
       "4            8-12 Yrs  \n",
       "5            7-12 Yrs  \n",
       "6             3-6 Yrs  \n",
       "7            7-11 Yrs  \n",
       "8             3-5 Yrs  \n",
       "9             2-5 Yrs  "
      ]
     },
     "execution_count": 144,
     "metadata": {},
     "output_type": "execute_result"
    }
   ],
   "source": [
    "data_scientist_df"
   ]
  },
  {
   "cell_type": "markdown",
   "id": "5d3f8d44",
   "metadata": {},
   "source": [
    "### Q3: In this question you have to scrape data using the filters available on the webpage as shown below"
   ]
  },
  {
   "cell_type": "code",
   "execution_count": 130,
   "id": "5a4cfc8d",
   "metadata": {},
   "outputs": [],
   "source": [
    "#first get thewebpage https://www.naukri.com/\n",
    "driver=webdriver.Chrome(r'chromedriver.exe')\n",
    "driver.maximize_window()\n",
    "driver.get('https://www.naukri.com/')"
   ]
  },
  {
   "cell_type": "code",
   "execution_count": 131,
   "id": "7e599fc8",
   "metadata": {},
   "outputs": [],
   "source": [
    "#Enter “Data Scientist” in “Skill, Designations, and Companies” field\n",
    "ds_designation=driver.find_element(By.CLASS_NAME,'suggestor-input ')\n",
    "ds_designation.send_keys(\"Data Scientist\")"
   ]
  },
  {
   "cell_type": "code",
   "execution_count": 132,
   "id": "f6448acb",
   "metadata": {},
   "outputs": [],
   "source": [
    "##3 Then click the searchbutton.\n",
    "search=driver.find_element(By.CLASS_NAME,'qsbSubmit')\n",
    "search.click()"
   ]
  },
  {
   "cell_type": "code",
   "execution_count": 133,
   "id": "da413dbd",
   "metadata": {},
   "outputs": [],
   "source": [
    "#4.Then apply the location filter and salary filter by checking the respective boxes\n",
    "location_filter=driver.find_element(By.XPATH,'/html/body/div[1]/div[4]/div/div/section[1]/div[2]/div[5]/div[2]/div[2]')\n",
    "location_filter.click()\n",
    "\n"
   ]
  },
  {
   "cell_type": "code",
   "execution_count": 134,
   "id": "44b858d4",
   "metadata": {},
   "outputs": [],
   "source": [
    "salary_filter=driver.find_element(By.XPATH,'/html/body/div[1]/div[4]/div/div/section[1]/div[2]/div[6]/div[2]/div[2]')\n",
    "salary_filter.click()"
   ]
  },
  {
   "cell_type": "code",
   "execution_count": null,
   "id": "6854b6d6",
   "metadata": {},
   "outputs": [],
   "source": []
  },
  {
   "cell_type": "code",
   "execution_count": 136,
   "id": "e41fd078",
   "metadata": {},
   "outputs": [],
   "source": [
    "#5.Then scrape the data for the first 10 jobs results youget.\n",
    "jobs=[]\n",
    "locations=[]\n",
    "companies=[]\n",
    "experinces=[]\n"
   ]
  },
  {
   "cell_type": "code",
   "execution_count": 137,
   "id": "76855147",
   "metadata": {},
   "outputs": [],
   "source": [
    "title_tag1=driver.find_elements(By.XPATH,'//a[@class=\"title ellipsis\"]')\n",
    "for i in title_tag1[0:10]:\n",
    "    title=i.text\n",
    "    jobs.append(title)"
   ]
  },
  {
   "cell_type": "code",
   "execution_count": 140,
   "id": "56b70c62",
   "metadata": {},
   "outputs": [],
   "source": [
    "#job location\n",
    "loc_tag1=driver.find_elements(By.XPATH,'//span[@class=\"ellipsis fleft locWdth\"]')\n",
    "for i in loc_tag1[0:10]:\n",
    "    loc=i.text\n",
    "    locations.append(loc)"
   ]
  },
  {
   "cell_type": "code",
   "execution_count": 141,
   "id": "36a7d5ef",
   "metadata": {},
   "outputs": [],
   "source": [
    "#company Name\n",
    "com_tag1=driver.find_elements(By.XPATH,'//a[@class=\"subTitle ellipsis fleft\"]')\n",
    "for i in com_tag1[0:10]:\n",
    "    c=i.text\n",
    "    companies.append(c)"
   ]
  },
  {
   "cell_type": "code",
   "execution_count": 142,
   "id": "079436dc",
   "metadata": {},
   "outputs": [],
   "source": [
    "#Experience \n",
    "exp_tag1=driver.find_elements(By.XPATH,'//span[@class=\"ellipsis fleft expwdth\"]')\n",
    "for i in exp_tag1[0:10]:\n",
    "    experience=i.text\n",
    "    experinces.append(experience)"
   ]
  },
  {
   "cell_type": "code",
   "execution_count": 143,
   "id": "5469b875",
   "metadata": {},
   "outputs": [
    {
     "name": "stdout",
     "output_type": "stream",
     "text": [
      "10 10 10 10\n"
     ]
    }
   ],
   "source": [
    "print(len(jobs),len(locations),len(companies),len(experinces))"
   ]
  },
  {
   "cell_type": "code",
   "execution_count": 144,
   "id": "6d8ffe92",
   "metadata": {},
   "outputs": [],
   "source": [
    "#Finally create a dataframe of the scraped data.\n",
    "\n",
    "filter_df=pd.DataFrame({'Job Title':jobs,'Job Location':locations,\n",
    "                             'Company Name':companies,\n",
    "                             'Experience Required':experinces})"
   ]
  },
  {
   "cell_type": "code",
   "execution_count": 145,
   "id": "c66fc3d0",
   "metadata": {},
   "outputs": [
    {
     "data": {
      "text/html": [
       "<div>\n",
       "<style scoped>\n",
       "    .dataframe tbody tr th:only-of-type {\n",
       "        vertical-align: middle;\n",
       "    }\n",
       "\n",
       "    .dataframe tbody tr th {\n",
       "        vertical-align: top;\n",
       "    }\n",
       "\n",
       "    .dataframe thead th {\n",
       "        text-align: right;\n",
       "    }\n",
       "</style>\n",
       "<table border=\"1\" class=\"dataframe\">\n",
       "  <thead>\n",
       "    <tr style=\"text-align: right;\">\n",
       "      <th></th>\n",
       "      <th>Job Title</th>\n",
       "      <th>Job Location</th>\n",
       "      <th>Company Name</th>\n",
       "      <th>Experience Required</th>\n",
       "    </tr>\n",
       "  </thead>\n",
       "  <tbody>\n",
       "    <tr>\n",
       "      <th>0</th>\n",
       "      <td>Analyst-Data Science</td>\n",
       "      <td>Gurgaon/Gurugram</td>\n",
       "      <td>AMERICAN EXPRESS</td>\n",
       "      <td>0-3 Yrs</td>\n",
       "    </tr>\n",
       "    <tr>\n",
       "      <th>1</th>\n",
       "      <td>Data Scientist</td>\n",
       "      <td>Noida</td>\n",
       "      <td>Gujarat Fluorochemicals</td>\n",
       "      <td>1-2 Yrs</td>\n",
       "    </tr>\n",
       "    <tr>\n",
       "      <th>2</th>\n",
       "      <td>Data Scientist</td>\n",
       "      <td>Delhi / NCR, Noida(Sector-136 Noida), Ghaziaba...</td>\n",
       "      <td>Extramarks Education</td>\n",
       "      <td>3-5 Yrs</td>\n",
       "    </tr>\n",
       "    <tr>\n",
       "      <th>3</th>\n",
       "      <td>AWS Data Warehouse Developer - IT Industry</td>\n",
       "      <td>Delhi / NCR, Bangalore/Bengaluru, Maharashtra</td>\n",
       "      <td>GenNext India Private Limited</td>\n",
       "      <td>4-9 Yrs</td>\n",
       "    </tr>\n",
       "    <tr>\n",
       "      <th>4</th>\n",
       "      <td>Data Scientist</td>\n",
       "      <td>Permanent Remote</td>\n",
       "      <td>Vizlogic Digital Solutions</td>\n",
       "      <td>2-5 Yrs</td>\n",
       "    </tr>\n",
       "    <tr>\n",
       "      <th>5</th>\n",
       "      <td>Data Scientist</td>\n",
       "      <td>Noida</td>\n",
       "      <td>Metrix Research &amp; Analytics</td>\n",
       "      <td>3-7 Yrs</td>\n",
       "    </tr>\n",
       "    <tr>\n",
       "      <th>6</th>\n",
       "      <td>Data Scientist</td>\n",
       "      <td>Dehradun, Hyderabad/Secunderabad, Gurgaon/Guru...</td>\n",
       "      <td>torcai digital media</td>\n",
       "      <td>2-7 Yrs</td>\n",
       "    </tr>\n",
       "    <tr>\n",
       "      <th>7</th>\n",
       "      <td>Junior Data Scientist</td>\n",
       "      <td>Delhi / NCR</td>\n",
       "      <td>Skyleaf Consultants</td>\n",
       "      <td>2-4 Yrs</td>\n",
       "    </tr>\n",
       "    <tr>\n",
       "      <th>8</th>\n",
       "      <td>Modeler</td>\n",
       "      <td>Noida</td>\n",
       "      <td>Resource Access Management Solutions Pvt. Ltd.</td>\n",
       "      <td>3-7 Yrs</td>\n",
       "    </tr>\n",
       "    <tr>\n",
       "      <th>9</th>\n",
       "      <td>Associate Data Scientist</td>\n",
       "      <td>Noida</td>\n",
       "      <td>Navikenz India</td>\n",
       "      <td>3-8 Yrs</td>\n",
       "    </tr>\n",
       "  </tbody>\n",
       "</table>\n",
       "</div>"
      ],
      "text/plain": [
       "                                    Job Title  \\\n",
       "0                        Analyst-Data Science   \n",
       "1                              Data Scientist   \n",
       "2                              Data Scientist   \n",
       "3  AWS Data Warehouse Developer - IT Industry   \n",
       "4                              Data Scientist   \n",
       "5                              Data Scientist   \n",
       "6                              Data Scientist   \n",
       "7                       Junior Data Scientist   \n",
       "8                                     Modeler   \n",
       "9                    Associate Data Scientist   \n",
       "\n",
       "                                        Job Location  \\\n",
       "0                                   Gurgaon/Gurugram   \n",
       "1                                              Noida   \n",
       "2  Delhi / NCR, Noida(Sector-136 Noida), Ghaziaba...   \n",
       "3      Delhi / NCR, Bangalore/Bengaluru, Maharashtra   \n",
       "4                                   Permanent Remote   \n",
       "5                                              Noida   \n",
       "6  Dehradun, Hyderabad/Secunderabad, Gurgaon/Guru...   \n",
       "7                                        Delhi / NCR   \n",
       "8                                              Noida   \n",
       "9                                              Noida   \n",
       "\n",
       "                                     Company Name Experience Required  \n",
       "0                                AMERICAN EXPRESS             0-3 Yrs  \n",
       "1                         Gujarat Fluorochemicals             1-2 Yrs  \n",
       "2                            Extramarks Education             3-5 Yrs  \n",
       "3                   GenNext India Private Limited             4-9 Yrs  \n",
       "4                      Vizlogic Digital Solutions             2-5 Yrs  \n",
       "5                     Metrix Research & Analytics             3-7 Yrs  \n",
       "6                            torcai digital media             2-7 Yrs  \n",
       "7                             Skyleaf Consultants             2-4 Yrs  \n",
       "8  Resource Access Management Solutions Pvt. Ltd.             3-7 Yrs  \n",
       "9                                  Navikenz India             3-8 Yrs  "
      ]
     },
     "execution_count": 145,
     "metadata": {},
     "output_type": "execute_result"
    }
   ],
   "source": [
    "filter_df"
   ]
  },
  {
   "cell_type": "code",
   "execution_count": null,
   "id": "8d816845",
   "metadata": {},
   "outputs": [],
   "source": [
    "driver.close()"
   ]
  },
  {
   "cell_type": "markdown",
   "id": "3473bf5d",
   "metadata": {},
   "source": [
    "### Q4: Scrape data of first 100 sunglasses listings on flipkart.com. You have to scrape four attributes:\n",
    "### 1. Brand       2. ProductDescription      3. Price\n",
    " "
   ]
  },
  {
   "cell_type": "code",
   "execution_count": 9,
   "id": "cce6e573",
   "metadata": {},
   "outputs": [],
   "source": [
    "#1. Go to Flipkart webpage by url :https://www.flipkart.com/\n",
    "driver=webdriver.Chrome(r'chromedriver.exe')\n",
    "driver.maximize_window()\n",
    "driver.get('https://www.flipkart.com/')"
   ]
  },
  {
   "cell_type": "code",
   "execution_count": 10,
   "id": "2dd7e1c4",
   "metadata": {},
   "outputs": [],
   "source": [
    "#Enter “sunglasses” in the search field where “search for products, brands and more” is written and click the search icon\n",
    "product=driver.find_element(By.CLASS_NAME,'_3704LK')\n",
    "product.send_keys('sunglasses')"
   ]
  },
  {
   "cell_type": "code",
   "execution_count": 11,
   "id": "1a0ebb9f",
   "metadata": {},
   "outputs": [],
   "source": [
    "search=driver.find_element(By.CLASS_NAME,'_34RNph')\n",
    "search.click()"
   ]
  },
  {
   "cell_type": "code",
   "execution_count": 6,
   "id": "ebf98d05",
   "metadata": {},
   "outputs": [],
   "source": [
    "#After that you will reach to the page having a lot of sunglasses. From this page you can scrap the required data asusual\n",
    "brands=[]\n",
    "product_descriptions=[]\n",
    "price=[]\n",
    "discount=[]\n",
    "\n"
   ]
  },
  {
   "cell_type": "code",
   "execution_count": 7,
   "id": "215ed06b",
   "metadata": {},
   "outputs": [
    {
     "name": "stdout",
     "output_type": "stream",
     "text": [
      "Scrapping page 0\n",
      "Scrapping page 1\n",
      "Scrapping page 2\n"
     ]
    }
   ],
   "source": [
    "#After scraping data from the first page, go to the “Next” Button at the bottom other page , then click on it.\n",
    "start=0\n",
    "end=3\n",
    "for page in range(start,end):\n",
    "    print(\"Scrapping page\",page)\n",
    "    brand_tags=driver.find_elements(By.XPATH,'//div[@class=\"_2WkVRV\"]')\n",
    "    for i in brand_tags:\n",
    "        b=i.text\n",
    "        brands.append(b)\n",
    "     \n",
    "    product_tags=driver.find_elements(By.XPATH,'//a[@class=\"IRpwTa\"]')\n",
    "    for i in product_tags:\n",
    "        des=i.text\n",
    "        product_descriptions.append(des) #len(product_descriptions) \n",
    "            \n",
    "    price_tags=driver.find_elements(By.XPATH,'//div[@class=\"_30jeq3\"]')\n",
    "    for i in price_tags:\n",
    "            prc=i.text\n",
    "            price.append(prc)  \n",
    "    discount_tags=driver.find_elements(By.XPATH,'//div[@class=\"_3Ay6Sb\"]')\n",
    "    for i in discount_tags:\n",
    "            dis=i.text\n",
    "            discount.append(dis)\n",
    "    next_button=driver.find_element(By.XPATH,'//a[@class=\"ge-49M\"]')\n",
    "    next_button.click()   \n",
    "    time.sleep(2)\n",
    "\n"
   ]
  },
  {
   "cell_type": "code",
   "execution_count": 20,
   "id": "f14e1a6c",
   "metadata": {},
   "outputs": [
    {
     "name": "stdout",
     "output_type": "stream",
     "text": [
      "120 118 120 120\n"
     ]
    }
   ],
   "source": [
    "print(len(brands),len(product_descriptions),len(price),len(discount))\n"
   ]
  },
  {
   "cell_type": "code",
   "execution_count": 21,
   "id": "84bde96f",
   "metadata": {},
   "outputs": [],
   "source": [
    "import pandas as pd\n",
    "sunglasses_df=pd.DataFrame({'Sunglasses':brands[0:100],\n",
    "                           'Product Description':product_descriptions[0:100],\n",
    "                           'Price':price[0:100],\n",
    "                           'Discount':discount[0:100]})"
   ]
  },
  {
   "cell_type": "code",
   "execution_count": 22,
   "id": "e08ceebf",
   "metadata": {},
   "outputs": [
    {
     "data": {
      "text/html": [
       "<div>\n",
       "<style scoped>\n",
       "    .dataframe tbody tr th:only-of-type {\n",
       "        vertical-align: middle;\n",
       "    }\n",
       "\n",
       "    .dataframe tbody tr th {\n",
       "        vertical-align: top;\n",
       "    }\n",
       "\n",
       "    .dataframe thead th {\n",
       "        text-align: right;\n",
       "    }\n",
       "</style>\n",
       "<table border=\"1\" class=\"dataframe\">\n",
       "  <thead>\n",
       "    <tr style=\"text-align: right;\">\n",
       "      <th></th>\n",
       "      <th>Sunglasses</th>\n",
       "      <th>Product Description</th>\n",
       "      <th>Price</th>\n",
       "      <th>Discount</th>\n",
       "    </tr>\n",
       "  </thead>\n",
       "  <tbody>\n",
       "    <tr>\n",
       "      <th>0</th>\n",
       "      <td>RESIST EYEWEAR</td>\n",
       "      <td>Riding Glasses, UV Protection Retro Square Sun...</td>\n",
       "      <td>₹1,399</td>\n",
       "      <td>72% off</td>\n",
       "    </tr>\n",
       "    <tr>\n",
       "      <th>1</th>\n",
       "      <td>PC STAR</td>\n",
       "      <td>UV Protection Wayfarer Sunglasses (53)</td>\n",
       "      <td>₹282</td>\n",
       "      <td>71% off</td>\n",
       "    </tr>\n",
       "    <tr>\n",
       "      <th>2</th>\n",
       "      <td>Fastrack</td>\n",
       "      <td>UV Protection Wayfarer Sunglasses (Free Size)</td>\n",
       "      <td>₹599</td>\n",
       "      <td>40% off</td>\n",
       "    </tr>\n",
       "    <tr>\n",
       "      <th>3</th>\n",
       "      <td>Elligator</td>\n",
       "      <td>UV Protection Cat-eye, Retro Square, Oval, Rou...</td>\n",
       "      <td>₹149</td>\n",
       "      <td>75% off</td>\n",
       "    </tr>\n",
       "    <tr>\n",
       "      <th>4</th>\n",
       "      <td>Elligator</td>\n",
       "      <td>UV Protection Rectangular Sunglasses (Free Size)</td>\n",
       "      <td>₹129</td>\n",
       "      <td>87% off</td>\n",
       "    </tr>\n",
       "    <tr>\n",
       "      <th>...</th>\n",
       "      <td>...</td>\n",
       "      <td>...</td>\n",
       "      <td>...</td>\n",
       "      <td>...</td>\n",
       "    </tr>\n",
       "    <tr>\n",
       "      <th>95</th>\n",
       "      <td>SRPM</td>\n",
       "      <td>UV Protection Rectangular Sunglasses (52)</td>\n",
       "      <td>₹179</td>\n",
       "      <td>86% off</td>\n",
       "    </tr>\n",
       "    <tr>\n",
       "      <th>96</th>\n",
       "      <td>kamra optical work</td>\n",
       "      <td>Night Vision, UV Protection Round Sunglasses (54)</td>\n",
       "      <td>₹499</td>\n",
       "      <td>16% off</td>\n",
       "    </tr>\n",
       "    <tr>\n",
       "      <th>97</th>\n",
       "      <td>artrue</td>\n",
       "      <td>UV Protection, Mirrored Wayfarer Sunglasses (54)</td>\n",
       "      <td>₹420</td>\n",
       "      <td>64% off</td>\n",
       "    </tr>\n",
       "    <tr>\n",
       "      <th>98</th>\n",
       "      <td>FUZOKU</td>\n",
       "      <td>UV Protection Rectangular Sunglasses (Free Size)</td>\n",
       "      <td>₹499</td>\n",
       "      <td>70% off</td>\n",
       "    </tr>\n",
       "    <tr>\n",
       "      <th>99</th>\n",
       "      <td>ROZZETTA CRAFT</td>\n",
       "      <td>UV Protection Aviator Sunglasses (Free Size)</td>\n",
       "      <td>₹391</td>\n",
       "      <td>80% off</td>\n",
       "    </tr>\n",
       "  </tbody>\n",
       "</table>\n",
       "<p>100 rows × 4 columns</p>\n",
       "</div>"
      ],
      "text/plain": [
       "            Sunglasses                                Product Description  \\\n",
       "0       RESIST EYEWEAR  Riding Glasses, UV Protection Retro Square Sun...   \n",
       "1              PC STAR             UV Protection Wayfarer Sunglasses (53)   \n",
       "2             Fastrack      UV Protection Wayfarer Sunglasses (Free Size)   \n",
       "3            Elligator  UV Protection Cat-eye, Retro Square, Oval, Rou...   \n",
       "4            Elligator   UV Protection Rectangular Sunglasses (Free Size)   \n",
       "..                 ...                                                ...   \n",
       "95                SRPM          UV Protection Rectangular Sunglasses (52)   \n",
       "96  kamra optical work  Night Vision, UV Protection Round Sunglasses (54)   \n",
       "97              artrue   UV Protection, Mirrored Wayfarer Sunglasses (54)   \n",
       "98              FUZOKU   UV Protection Rectangular Sunglasses (Free Size)   \n",
       "99      ROZZETTA CRAFT       UV Protection Aviator Sunglasses (Free Size)   \n",
       "\n",
       "     Price Discount  \n",
       "0   ₹1,399  72% off  \n",
       "1     ₹282  71% off  \n",
       "2     ₹599  40% off  \n",
       "3     ₹149  75% off  \n",
       "4     ₹129  87% off  \n",
       "..     ...      ...  \n",
       "95    ₹179  86% off  \n",
       "96    ₹499  16% off  \n",
       "97    ₹420  64% off  \n",
       "98    ₹499  70% off  \n",
       "99    ₹391  80% off  \n",
       "\n",
       "[100 rows x 4 columns]"
      ]
     },
     "execution_count": 22,
     "metadata": {},
     "output_type": "execute_result"
    }
   ],
   "source": [
    "sunglasses_df"
   ]
  },
  {
   "cell_type": "code",
   "execution_count": 23,
   "id": "26adf958",
   "metadata": {},
   "outputs": [],
   "source": [
    "driver.close()"
   ]
  },
  {
   "cell_type": "code",
   "execution_count": null,
   "id": "3dcf1e0c",
   "metadata": {},
   "outputs": [],
   "source": []
  },
  {
   "cell_type": "markdown",
   "id": "7849df82",
   "metadata": {},
   "source": [
    "### Q5-Scrape 100 reviews data from flipkart.com for iphone11 phone. You have to go the link: https://www.flipkart.com/apple-iphone-11-black-64-gb/product reviews/itm4e5041ba101fd?pid=MOBFWQ6BXGJCEYNY&lid=LSTMOBFWQ6BXGJCEYNYZXSHRJ&market place=FLIPKART\n"
   ]
  },
  {
   "cell_type": "code",
   "execution_count": 24,
   "id": "ad405604",
   "metadata": {},
   "outputs": [],
   "source": [
    "driver=webdriver.Chrome(r'chromedriver.exe')\n",
    "driver.maximize_window()\n",
    "driver.get('https://www.flipkart.com/apple-iphone-11-black-64-gb/product-reviews/itm4e5041ba101fd?pid=MOBFWQ6BXGJCEYNY&lid=LSTMOBFWQ6BXGJCEYNYZXSHRJ&market')\n"
   ]
  },
  {
   "cell_type": "markdown",
   "id": "221f338a",
   "metadata": {},
   "source": [
    "### As shown in the above page you have to scrape the tick marked attributes. These are:\n",
    "#### 1. Rating\n",
    "#### 2. Review summary\n",
    "#### 3. Full review\n",
    "#### 4. You have to scrape this data for first 100review"
   ]
  },
  {
   "cell_type": "code",
   "execution_count": 33,
   "id": "99f55db6",
   "metadata": {},
   "outputs": [],
   "source": [
    "ratings=[]\n",
    "review_summary=[]\n",
    "full_review=[]"
   ]
  },
  {
   "cell_type": "code",
   "execution_count": 34,
   "id": "ba189afc",
   "metadata": {},
   "outputs": [
    {
     "name": "stdout",
     "output_type": "stream",
     "text": [
      "Scrapping Page 0\n",
      "Scrapping Page 1\n",
      "Scrapping Page 2\n",
      "Scrapping Page 3\n",
      "Scrapping Page 4\n",
      "Scrapping Page 5\n",
      "Scrapping Page 6\n",
      "Scrapping Page 7\n",
      "Scrapping Page 8\n",
      "Scrapping Page 9\n"
     ]
    }
   ],
   "source": [
    "start=0\n",
    "end=10\n",
    "for page in range(start,end):\n",
    "    print(\"Scrapping Page\",page)\n",
    "    rating_tag=driver.find_elements(By.XPATH,'//div[@class=\"_3LWZlK _1BLPMq\"]')\n",
    "    for i in rating_tag:\n",
    "        rate=i.text\n",
    "        ratings.append(rate)\n",
    "    \n",
    "     \n",
    "    review_tag=driver.find_elements(By.XPATH,'//p[@class=\"_2-N8zT\"]')\n",
    "    for i in review_tag:\n",
    "            rev=i.text\n",
    "            review_summary.append(rev) \n",
    "            \n",
    "    fr_tag=driver.find_elements(By.XPATH,'//div[@class=\"t-ZTKy\"]')\n",
    "    for i in fr_tag:\n",
    "            ftag=i.text\n",
    "            full_review.append(ftag)  \n",
    "    \n",
    "    next_button=driver.find_element(By.XPATH,'//a[@class=\"ge-49M\"]')\n",
    "    next_button.click()   \n",
    "    time.sleep(2)"
   ]
  },
  {
   "cell_type": "code",
   "execution_count": 35,
   "id": "faf19c7a",
   "metadata": {},
   "outputs": [
    {
     "name": "stdout",
     "output_type": "stream",
     "text": [
      "100 100 100\n"
     ]
    }
   ],
   "source": [
    "print(len(ratings),len(review_summary),len(full_review))"
   ]
  },
  {
   "cell_type": "code",
   "execution_count": 36,
   "id": "281d434c",
   "metadata": {},
   "outputs": [],
   "source": [
    "iphone_review_df=pd.DataFrame({'Ratings':ratings,'Review Summary':review_summary,\n",
    "                               'Full Review':full_review})"
   ]
  },
  {
   "cell_type": "code",
   "execution_count": 37,
   "id": "87c1d2f2",
   "metadata": {},
   "outputs": [
    {
     "data": {
      "text/html": [
       "<div>\n",
       "<style scoped>\n",
       "    .dataframe tbody tr th:only-of-type {\n",
       "        vertical-align: middle;\n",
       "    }\n",
       "\n",
       "    .dataframe tbody tr th {\n",
       "        vertical-align: top;\n",
       "    }\n",
       "\n",
       "    .dataframe thead th {\n",
       "        text-align: right;\n",
       "    }\n",
       "</style>\n",
       "<table border=\"1\" class=\"dataframe\">\n",
       "  <thead>\n",
       "    <tr style=\"text-align: right;\">\n",
       "      <th></th>\n",
       "      <th>Ratings</th>\n",
       "      <th>Review Summary</th>\n",
       "      <th>Full Review</th>\n",
       "    </tr>\n",
       "  </thead>\n",
       "  <tbody>\n",
       "    <tr>\n",
       "      <th>0</th>\n",
       "      <td>5</td>\n",
       "      <td>Simply awesome</td>\n",
       "      <td>Really satisfied with the Product I received.....</td>\n",
       "    </tr>\n",
       "    <tr>\n",
       "      <th>1</th>\n",
       "      <td>5</td>\n",
       "      <td>Perfect product!</td>\n",
       "      <td>Amazing phone with great cameras and better ba...</td>\n",
       "    </tr>\n",
       "    <tr>\n",
       "      <th>2</th>\n",
       "      <td>5</td>\n",
       "      <td>Best in the market!</td>\n",
       "      <td>Great iPhone very snappy experience as apple k...</td>\n",
       "    </tr>\n",
       "    <tr>\n",
       "      <th>3</th>\n",
       "      <td>4</td>\n",
       "      <td>Value-for-money</td>\n",
       "      <td>I'm Really happy with the product\\nDelivery wa...</td>\n",
       "    </tr>\n",
       "    <tr>\n",
       "      <th>4</th>\n",
       "      <td>5</td>\n",
       "      <td>Highly recommended</td>\n",
       "      <td>It's my first time to use iOS phone and I am l...</td>\n",
       "    </tr>\n",
       "    <tr>\n",
       "      <th>...</th>\n",
       "      <td>...</td>\n",
       "      <td>...</td>\n",
       "      <td>...</td>\n",
       "    </tr>\n",
       "    <tr>\n",
       "      <th>95</th>\n",
       "      <td>4</td>\n",
       "      <td>Good choice</td>\n",
       "      <td>So far it’s been an AMAZING experience coming ...</td>\n",
       "    </tr>\n",
       "    <tr>\n",
       "      <th>96</th>\n",
       "      <td>5</td>\n",
       "      <td>Perfect product!</td>\n",
       "      <td>Value for money❤️❤️\\nIts awesome mobile phone ...</td>\n",
       "    </tr>\n",
       "    <tr>\n",
       "      <th>97</th>\n",
       "      <td>5</td>\n",
       "      <td>Perfect product!</td>\n",
       "      <td>It is just awesome mobile for this price from ...</td>\n",
       "    </tr>\n",
       "    <tr>\n",
       "      <th>98</th>\n",
       "      <td>5</td>\n",
       "      <td>Highly recommended</td>\n",
       "      <td>iphone 11 is a very good phone to buy only if ...</td>\n",
       "    </tr>\n",
       "    <tr>\n",
       "      <th>99</th>\n",
       "      <td>5</td>\n",
       "      <td>Highly recommended</td>\n",
       "      <td>Amazing camera quality as expected, battery al...</td>\n",
       "    </tr>\n",
       "  </tbody>\n",
       "</table>\n",
       "<p>100 rows × 3 columns</p>\n",
       "</div>"
      ],
      "text/plain": [
       "   Ratings       Review Summary  \\\n",
       "0        5       Simply awesome   \n",
       "1        5     Perfect product!   \n",
       "2        5  Best in the market!   \n",
       "3        4      Value-for-money   \n",
       "4        5   Highly recommended   \n",
       "..     ...                  ...   \n",
       "95       4          Good choice   \n",
       "96       5     Perfect product!   \n",
       "97       5     Perfect product!   \n",
       "98       5   Highly recommended   \n",
       "99       5   Highly recommended   \n",
       "\n",
       "                                          Full Review  \n",
       "0   Really satisfied with the Product I received.....  \n",
       "1   Amazing phone with great cameras and better ba...  \n",
       "2   Great iPhone very snappy experience as apple k...  \n",
       "3   I'm Really happy with the product\\nDelivery wa...  \n",
       "4   It's my first time to use iOS phone and I am l...  \n",
       "..                                                ...  \n",
       "95  So far it’s been an AMAZING experience coming ...  \n",
       "96  Value for money❤️❤️\\nIts awesome mobile phone ...  \n",
       "97  It is just awesome mobile for this price from ...  \n",
       "98  iphone 11 is a very good phone to buy only if ...  \n",
       "99  Amazing camera quality as expected, battery al...  \n",
       "\n",
       "[100 rows x 3 columns]"
      ]
     },
     "execution_count": 37,
     "metadata": {},
     "output_type": "execute_result"
    }
   ],
   "source": [
    "iphone_review_df"
   ]
  },
  {
   "cell_type": "code",
   "execution_count": null,
   "id": "416debfb",
   "metadata": {},
   "outputs": [],
   "source": [
    "driver.close()"
   ]
  },
  {
   "cell_type": "code",
   "execution_count": null,
   "id": "806c3ff1",
   "metadata": {},
   "outputs": [],
   "source": []
  },
  {
   "cell_type": "markdown",
   "id": "c1b1b2c3",
   "metadata": {},
   "source": [
    "### Q6: Scrape data for first 100 sneakers you find when you visit flipkart.com and search for “sneakers” in the search field\n",
    "#### You have to scrape 3 attributes of each sneaker:\n",
    "1. Brand\n",
    "2. ProductDescription\n",
    "3. Price\n",
    "As shown in the below image, you have to scrape the above attributes."
   ]
  },
  {
   "cell_type": "code",
   "execution_count": 38,
   "id": "70832300",
   "metadata": {},
   "outputs": [],
   "source": [
    "driver=webdriver.Chrome(r'chromedriver.exe')\n",
    "driver.maximize_window()\n",
    "driver.get('https://www.flipkart.com/')"
   ]
  },
  {
   "cell_type": "code",
   "execution_count": 39,
   "id": "94dece2c",
   "metadata": {},
   "outputs": [],
   "source": [
    "product=driver.find_element(By.CLASS_NAME,'_3704LK')\n",
    "product.send_keys('sneakers')"
   ]
  },
  {
   "cell_type": "code",
   "execution_count": 40,
   "id": "140e9f28",
   "metadata": {},
   "outputs": [],
   "source": [
    "search=driver.find_element(By.CLASS_NAME,'_34RNph')\n",
    "search.click()"
   ]
  },
  {
   "cell_type": "code",
   "execution_count": 41,
   "id": "c29e2926",
   "metadata": {},
   "outputs": [],
   "source": [
    "sneakers=[]\n",
    "sneaker_product_description=[]\n",
    "sneaker_price=[]"
   ]
  },
  {
   "cell_type": "code",
   "execution_count": 42,
   "id": "e588139b",
   "metadata": {},
   "outputs": [],
   "source": [
    "start=0\n",
    "end=3\n",
    "for page in range(start,end):\n",
    "    print(\"Scraping page\",page)\n",
    "    snekaers_tag=driver.find_elements(By.XPATH,'//div[@class=\"_2WkVRV\"]')\n",
    "    for i in snekaers_tag:\n",
    "        b=i.text\n",
    "        sneakers.append(b)\n",
    "     \n",
    "    description_tags=driver.find_elements(By.XPATH,'//a[@class=\"IRpwTa\"]')\n",
    "    for i in description_tags:\n",
    "            des=i.text\n",
    "            sneaker_product_description.append(des) \n",
    "            \n",
    "    price_tag1=driver.find_elements(By.XPATH,'//div[@class=\"_30jeq3\"]')\n",
    "    for i in price_tag1:\n",
    "            prc=i.text\n",
    "            sneaker_price.append(prc)  \n",
    "    \n",
    "    next_button=driver.find_element(By.XPATH,'//a[@class=\"ge-49M\"]')\n",
    "    next_button.click()   \n",
    "    time.sleep(4)\n",
    "\n"
   ]
  },
  {
   "cell_type": "code",
   "execution_count": 43,
   "id": "9ad86591",
   "metadata": {},
   "outputs": [
    {
     "name": "stdout",
     "output_type": "stream",
     "text": [
      "120 114 120\n"
     ]
    }
   ],
   "source": [
    "print(len(sneakers),len(sneaker_product_description),len(sneaker_price))"
   ]
  },
  {
   "cell_type": "code",
   "execution_count": 44,
   "id": "5380ba91",
   "metadata": {},
   "outputs": [
    {
     "data": {
      "text/html": [
       "<div>\n",
       "<style scoped>\n",
       "    .dataframe tbody tr th:only-of-type {\n",
       "        vertical-align: middle;\n",
       "    }\n",
       "\n",
       "    .dataframe tbody tr th {\n",
       "        vertical-align: top;\n",
       "    }\n",
       "\n",
       "    .dataframe thead th {\n",
       "        text-align: right;\n",
       "    }\n",
       "</style>\n",
       "<table border=\"1\" class=\"dataframe\">\n",
       "  <thead>\n",
       "    <tr style=\"text-align: right;\">\n",
       "      <th></th>\n",
       "      <th>Snekaers</th>\n",
       "      <th>Product Description</th>\n",
       "      <th>Price</th>\n",
       "    </tr>\n",
       "  </thead>\n",
       "  <tbody>\n",
       "    <tr>\n",
       "      <th>0</th>\n",
       "      <td>BRUTON</td>\n",
       "      <td>2 Combo Sneaker Shoes Sneakers For Men</td>\n",
       "      <td>₹599</td>\n",
       "    </tr>\n",
       "    <tr>\n",
       "      <th>1</th>\n",
       "      <td>World Wear Footwear</td>\n",
       "      <td>Exclusive Affordable Collection of Trendy &amp; St...</td>\n",
       "      <td>₹649</td>\n",
       "    </tr>\n",
       "    <tr>\n",
       "      <th>2</th>\n",
       "      <td>World Wear Footwear</td>\n",
       "      <td>5011-Latest Collection Stylish &amp; Trendy Casual...</td>\n",
       "      <td>₹399</td>\n",
       "    </tr>\n",
       "    <tr>\n",
       "      <th>3</th>\n",
       "      <td>aadi</td>\n",
       "      <td>Synthetic Leather |Lightweight|Comfort|Summer|...</td>\n",
       "      <td>₹434</td>\n",
       "    </tr>\n",
       "    <tr>\n",
       "      <th>4</th>\n",
       "      <td>ADIDAS</td>\n",
       "      <td>STREET ICON M Sneakers For Men</td>\n",
       "      <td>₹1,943</td>\n",
       "    </tr>\n",
       "    <tr>\n",
       "      <th>...</th>\n",
       "      <td>...</td>\n",
       "      <td>...</td>\n",
       "      <td>...</td>\n",
       "    </tr>\n",
       "    <tr>\n",
       "      <th>95</th>\n",
       "      <td>BRUTON</td>\n",
       "      <td>Sneakers For Women</td>\n",
       "      <td>₹599</td>\n",
       "    </tr>\n",
       "    <tr>\n",
       "      <th>96</th>\n",
       "      <td>HRX by Hrithik Roshan</td>\n",
       "      <td>2 Combo Sneaker Shoes Sneakers For Men</td>\n",
       "      <td>₹1,047</td>\n",
       "    </tr>\n",
       "    <tr>\n",
       "      <th>97</th>\n",
       "      <td>Kraasa</td>\n",
       "      <td>Sneakers For Women</td>\n",
       "      <td>₹499</td>\n",
       "    </tr>\n",
       "    <tr>\n",
       "      <th>98</th>\n",
       "      <td>Kraasa</td>\n",
       "      <td>Mesh |Lightweight|Comfort|Summer|Trendy|Walkin...</td>\n",
       "      <td>₹299</td>\n",
       "    </tr>\n",
       "    <tr>\n",
       "      <th>99</th>\n",
       "      <td>BRUTON</td>\n",
       "      <td>Sneakers For Men</td>\n",
       "      <td>₹599</td>\n",
       "    </tr>\n",
       "  </tbody>\n",
       "</table>\n",
       "<p>100 rows × 3 columns</p>\n",
       "</div>"
      ],
      "text/plain": [
       "                 Snekaers                                Product Description  \\\n",
       "0                  BRUTON             2 Combo Sneaker Shoes Sneakers For Men   \n",
       "1     World Wear Footwear  Exclusive Affordable Collection of Trendy & St...   \n",
       "2     World Wear Footwear  5011-Latest Collection Stylish & Trendy Casual...   \n",
       "3                    aadi  Synthetic Leather |Lightweight|Comfort|Summer|...   \n",
       "4                  ADIDAS                     STREET ICON M Sneakers For Men   \n",
       "..                    ...                                                ...   \n",
       "95                 BRUTON                                 Sneakers For Women   \n",
       "96  HRX by Hrithik Roshan             2 Combo Sneaker Shoes Sneakers For Men   \n",
       "97                 Kraasa                                 Sneakers For Women   \n",
       "98                 Kraasa  Mesh |Lightweight|Comfort|Summer|Trendy|Walkin...   \n",
       "99                 BRUTON                                   Sneakers For Men   \n",
       "\n",
       "     Price  \n",
       "0     ₹599  \n",
       "1     ₹649  \n",
       "2     ₹399  \n",
       "3     ₹434  \n",
       "4   ₹1,943  \n",
       "..     ...  \n",
       "95    ₹599  \n",
       "96  ₹1,047  \n",
       "97    ₹499  \n",
       "98    ₹299  \n",
       "99    ₹599  \n",
       "\n",
       "[100 rows x 3 columns]"
      ]
     },
     "execution_count": 44,
     "metadata": {},
     "output_type": "execute_result"
    }
   ],
   "source": [
    "sneakers_df=pd.DataFrame({'Snekaers':sneakers[0:100],\n",
    "                         'Product Description':sneaker_product_description[0:100],\n",
    "                         'Price':sneaker_price[0:100]})\n",
    "\n",
    "sneakers_df"
   ]
  },
  {
   "cell_type": "code",
   "execution_count": null,
   "id": "36e19278",
   "metadata": {},
   "outputs": [],
   "source": [
    "driver.close()"
   ]
  },
  {
   "cell_type": "markdown",
   "id": "2d21e043",
   "metadata": {},
   "source": [
    "###  Q7-Go to webpage https://www.amazon.in/ Enter “Laptop” in the search field and then click the search icon. Then \n",
    "set CPU Type filter to “Intel Core i7” as shown in the below image:\n",
    "After setting the filters scrape first 10 laptops data. You have to scrape 3 attributes for each laptop:\n",
    "1. Title\n",
    "2. Ratings\n",
    "3. Price "
   ]
  },
  {
   "cell_type": "code",
   "execution_count": 145,
   "id": "6c2f571d",
   "metadata": {},
   "outputs": [],
   "source": [
    "driver=webdriver.Chrome(r'chromedriver.exe')\n",
    "driver.maximize_window()\n",
    "driver.get('https://www.amazon.in/')\n"
   ]
  },
  {
   "cell_type": "code",
   "execution_count": 146,
   "id": "1a91a261",
   "metadata": {},
   "outputs": [],
   "source": [
    "product=driver.find_element(By.ID,'twotabsearchtextbox')\n",
    "product.send_keys('Laptop')"
   ]
  },
  {
   "cell_type": "code",
   "execution_count": 147,
   "id": "a2bea032",
   "metadata": {},
   "outputs": [],
   "source": [
    "search=driver.find_element(By.ID,'nav-search-submit-button')\n",
    "search.click()"
   ]
  },
  {
   "cell_type": "code",
   "execution_count": 148,
   "id": "528a63b5",
   "metadata": {},
   "outputs": [],
   "source": [
    "chck=driver.find_element(By.XPATH,'//*[@id=\"p_n_feature_thirteen_browse-bin/12598163031\"]/span/a/div/label/i')\n",
    "chck.click()"
   ]
  },
  {
   "cell_type": "code",
   "execution_count": 149,
   "id": "cc9b47ee",
   "metadata": {},
   "outputs": [],
   "source": [
    "laptop_title=[]\n",
    "laptop_rating=[]\n",
    "laptop_price=[]"
   ]
  },
  {
   "cell_type": "code",
   "execution_count": null,
   "id": "798d5230",
   "metadata": {},
   "outputs": [],
   "source": [
    "#title\n",
    "laptop_tag=driver.find_elements(By.XPATH,'//span[@class=\"a-size-medium a-color-base a-text-normal\"]')\n",
    "for i in laptop_tag:\n",
    "    title=i.text\n",
    "    laptop_title.append(title)"
   ]
  },
  {
   "cell_type": "code",
   "execution_count": null,
   "id": "83b40bee",
   "metadata": {},
   "outputs": [],
   "source": [
    "#price\n",
    "price_tags=driver.find_elements(By.XPATH,'//span[@class=\"a-price-whole\"]')\n",
    "for i in price_tags:\n",
    "    p=i.text\n",
    "    laptop_price.append(p)"
   ]
  },
  {
   "cell_type": "code",
   "execution_count": 199,
   "id": "cba2af67",
   "metadata": {},
   "outputs": [],
   "source": [
    "rating=driver.find_elements(By.XPATH,'//div[@class=\"a-row a-size-small\"]/span')\n",
    "\n",
    "for i in rating:\n",
    "    i=rating[0].get_attribute('aria-label')\n",
    "    laptop_rating.append(i)"
   ]
  },
  {
   "cell_type": "code",
   "execution_count": null,
   "id": "5b5ca5bf",
   "metadata": {},
   "outputs": [],
   "source": [
    "laptop_rating"
   ]
  },
  {
   "cell_type": "code",
   "execution_count": 155,
   "id": "d145d522",
   "metadata": {},
   "outputs": [
    {
     "name": "stdout",
     "output_type": "stream",
     "text": [
      "30 38\n"
     ]
    }
   ],
   "source": [
    "print(len(laptop_title),len(laptop_price))"
   ]
  },
  {
   "cell_type": "code",
   "execution_count": 153,
   "id": "9de33d03",
   "metadata": {},
   "outputs": [],
   "source": [
    "laptop_df=pd.DataFrame({'Title':laptop_title[:10],\n",
    "                       'Price':laptop_price[:10]})"
   ]
  },
  {
   "cell_type": "code",
   "execution_count": 154,
   "id": "b70267d5",
   "metadata": {},
   "outputs": [
    {
     "data": {
      "text/html": [
       "<div>\n",
       "<style scoped>\n",
       "    .dataframe tbody tr th:only-of-type {\n",
       "        vertical-align: middle;\n",
       "    }\n",
       "\n",
       "    .dataframe tbody tr th {\n",
       "        vertical-align: top;\n",
       "    }\n",
       "\n",
       "    .dataframe thead th {\n",
       "        text-align: right;\n",
       "    }\n",
       "</style>\n",
       "<table border=\"1\" class=\"dataframe\">\n",
       "  <thead>\n",
       "    <tr style=\"text-align: right;\">\n",
       "      <th></th>\n",
       "      <th>Title</th>\n",
       "      <th>Price</th>\n",
       "    </tr>\n",
       "  </thead>\n",
       "  <tbody>\n",
       "    <tr>\n",
       "      <th>0</th>\n",
       "      <td>Fujitsu UH-X 11th Gen Intel Core i7 13.3\" FHD ...</td>\n",
       "      <td>94,990</td>\n",
       "    </tr>\n",
       "    <tr>\n",
       "      <th>1</th>\n",
       "      <td>LG Gram14 Intel EVO-[12th Gen Corei7/Win11/16G...</td>\n",
       "      <td>84,500</td>\n",
       "    </tr>\n",
       "    <tr>\n",
       "      <th>2</th>\n",
       "      <td>ASUS Vivobook 14, Intel Core i7-1165G7 11th Ge...</td>\n",
       "      <td>56,990</td>\n",
       "    </tr>\n",
       "    <tr>\n",
       "      <th>3</th>\n",
       "      <td>Acer Nitro 5 Gaming Laptop Intel core i7 11th ...</td>\n",
       "      <td>78,106</td>\n",
       "    </tr>\n",
       "    <tr>\n",
       "      <th>4</th>\n",
       "      <td>Lenovo IdeaPad Slim 5 12th Gen Intel Core i7 1...</td>\n",
       "      <td>79,990</td>\n",
       "    </tr>\n",
       "    <tr>\n",
       "      <th>5</th>\n",
       "      <td>HP Victus Gaming Latest 12th Gen Intel Core i7...</td>\n",
       "      <td>84,990</td>\n",
       "    </tr>\n",
       "    <tr>\n",
       "      <th>6</th>\n",
       "      <td>Lenovo IdeaPad Gaming 3 Intel Core i7-12700H 1...</td>\n",
       "      <td>99,990</td>\n",
       "    </tr>\n",
       "    <tr>\n",
       "      <th>7</th>\n",
       "      <td>HP Pavilion Plus, 12th Gen Intel Core i7 16GB ...</td>\n",
       "      <td>94,630</td>\n",
       "    </tr>\n",
       "    <tr>\n",
       "      <th>8</th>\n",
       "      <td>Lenovo ThinkPad E14 Intel Core i7 12th Gen 14\"...</td>\n",
       "      <td>1,02,490</td>\n",
       "    </tr>\n",
       "    <tr>\n",
       "      <th>9</th>\n",
       "      <td>ASUS TUF Dash F15 (2022), 15.6-inch (39.62 cms...</td>\n",
       "      <td>1,44,990</td>\n",
       "    </tr>\n",
       "  </tbody>\n",
       "</table>\n",
       "</div>"
      ],
      "text/plain": [
       "                                               Title     Price\n",
       "0  Fujitsu UH-X 11th Gen Intel Core i7 13.3\" FHD ...    94,990\n",
       "1  LG Gram14 Intel EVO-[12th Gen Corei7/Win11/16G...    84,500\n",
       "2  ASUS Vivobook 14, Intel Core i7-1165G7 11th Ge...    56,990\n",
       "3  Acer Nitro 5 Gaming Laptop Intel core i7 11th ...    78,106\n",
       "4  Lenovo IdeaPad Slim 5 12th Gen Intel Core i7 1...    79,990\n",
       "5  HP Victus Gaming Latest 12th Gen Intel Core i7...    84,990\n",
       "6  Lenovo IdeaPad Gaming 3 Intel Core i7-12700H 1...    99,990\n",
       "7  HP Pavilion Plus, 12th Gen Intel Core i7 16GB ...    94,630\n",
       "8  Lenovo ThinkPad E14 Intel Core i7 12th Gen 14\"...  1,02,490\n",
       "9  ASUS TUF Dash F15 (2022), 15.6-inch (39.62 cms...  1,44,990"
      ]
     },
     "execution_count": 154,
     "metadata": {},
     "output_type": "execute_result"
    }
   ],
   "source": [
    "laptop_df"
   ]
  },
  {
   "cell_type": "code",
   "execution_count": null,
   "id": "b7966bd5",
   "metadata": {},
   "outputs": [],
   "source": [
    "driver.close()"
   ]
  },
  {
   "cell_type": "markdown",
   "id": "95202ac1",
   "metadata": {},
   "source": [
    "### Q8: Write a python program to scrape data for Top 1000 Quotes of All Time.\n",
    "The above task will be done in following steps:\n",
    "1. First get the webpagehttps://www.azquotes.com/\n",
    "2. Click on TopQuotes\n"
   ]
  },
  {
   "cell_type": "code",
   "execution_count": 124,
   "id": "3b4c2fa7",
   "metadata": {},
   "outputs": [],
   "source": [
    "driver=webdriver.Chrome(r'chromedriver.exe')\n",
    "driver.maximize_window()\n",
    "driver.get('https://www.azquotes.com/')"
   ]
  },
  {
   "cell_type": "code",
   "execution_count": 125,
   "id": "21209d65",
   "metadata": {},
   "outputs": [],
   "source": [
    "top=driver.find_element(By.XPATH,'/html/body/div[1]/div[1]/div[1]/div/div[3]/ul/li[5]/a')\n",
    "top.click()"
   ]
  },
  {
   "cell_type": "code",
   "execution_count": 126,
   "id": "8d0f9c3c",
   "metadata": {},
   "outputs": [],
   "source": [
    "quotes=[]\n",
    "authors=[]\n",
    "type_quote=[]"
   ]
  },
  {
   "cell_type": "code",
   "execution_count": 127,
   "id": "954572cf",
   "metadata": {},
   "outputs": [
    {
     "name": "stdout",
     "output_type": "stream",
     "text": [
      "scraping page 0\n",
      "scraping page 1\n",
      "scraping page 2\n",
      "scraping page 3\n",
      "scraping page 4\n",
      "scraping page 5\n",
      "scraping page 6\n",
      "scraping page 7\n",
      "scraping page 8\n",
      "scraping page 9\n"
     ]
    }
   ],
   "source": [
    "for page in range(10):\n",
    "    print('scraping page',page)\n",
    "    quote_tag=driver.find_elements(By.XPATH,'//a[@class=\"title\"]')\n",
    "    for i in quote_tag:\n",
    "        quotes.append(i.text)\n",
    "    \n",
    "    autors_tags=driver.find_elements(By.XPATH,'//div[@class=\"author\"]')\n",
    "    for i in autors_tags:\n",
    "        authors.append(i.text)   \n",
    "    \n",
    "    type_tag=driver.find_elements(By.XPATH,'//div[@class=\"tags\"]')\n",
    "    for i in type_tag:\n",
    "        type_quote.append(i.text)\n",
    "    \n",
    "      \n",
    "    next_button=driver.find_element(By.XPATH,'/html/body/div[1]/div[2]/div/div/div/div[1]/div/div[3]/li[3]/a')\n",
    "    next_button.click()   \n",
    "    time.sleep(2)"
   ]
  },
  {
   "cell_type": "code",
   "execution_count": 129,
   "id": "3b300e4a",
   "metadata": {},
   "outputs": [
    {
     "name": "stdout",
     "output_type": "stream",
     "text": [
      "1000 1000 1000\n"
     ]
    }
   ],
   "source": [
    "print(len(quotes),len(authors),len(type_quote))"
   ]
  },
  {
   "cell_type": "code",
   "execution_count": 130,
   "id": "f853840f",
   "metadata": {},
   "outputs": [],
   "source": [
    "quotes_df=pd.DataFrame({'Quote':quotes,\n",
    "                       'Author':authors,\n",
    "                       'Type of quote':type_quote})"
   ]
  },
  {
   "cell_type": "code",
   "execution_count": 131,
   "id": "a92b7ced",
   "metadata": {},
   "outputs": [
    {
     "data": {
      "text/html": [
       "<div>\n",
       "<style scoped>\n",
       "    .dataframe tbody tr th:only-of-type {\n",
       "        vertical-align: middle;\n",
       "    }\n",
       "\n",
       "    .dataframe tbody tr th {\n",
       "        vertical-align: top;\n",
       "    }\n",
       "\n",
       "    .dataframe thead th {\n",
       "        text-align: right;\n",
       "    }\n",
       "</style>\n",
       "<table border=\"1\" class=\"dataframe\">\n",
       "  <thead>\n",
       "    <tr style=\"text-align: right;\">\n",
       "      <th></th>\n",
       "      <th>Quote</th>\n",
       "      <th>Author</th>\n",
       "      <th>Type of quote</th>\n",
       "    </tr>\n",
       "  </thead>\n",
       "  <tbody>\n",
       "    <tr>\n",
       "      <th>0</th>\n",
       "      <td>The essence of strategy is choosing what not t...</td>\n",
       "      <td>Michael Porter</td>\n",
       "      <td>Essence, Deep Thought, Transcendentalism</td>\n",
       "    </tr>\n",
       "    <tr>\n",
       "      <th>1</th>\n",
       "      <td>One cannot and must not try to erase the past ...</td>\n",
       "      <td>Golda Meir</td>\n",
       "      <td>Inspiration, Past, Trying</td>\n",
       "    </tr>\n",
       "    <tr>\n",
       "      <th>2</th>\n",
       "      <td>Patriotism means to stand by the country. It d...</td>\n",
       "      <td>Theodore Roosevelt</td>\n",
       "      <td>Country, Peace, War</td>\n",
       "    </tr>\n",
       "    <tr>\n",
       "      <th>3</th>\n",
       "      <td>Death is something inevitable. When a man has ...</td>\n",
       "      <td>Nelson Mandela</td>\n",
       "      <td>Inspirational, Motivational, Death</td>\n",
       "    </tr>\n",
       "    <tr>\n",
       "      <th>4</th>\n",
       "      <td>You have to love a nation that celebrates its ...</td>\n",
       "      <td>Erma Bombeck</td>\n",
       "      <td>4th Of July, Food, Patriotic</td>\n",
       "    </tr>\n",
       "  </tbody>\n",
       "</table>\n",
       "</div>"
      ],
      "text/plain": [
       "                                               Quote              Author  \\\n",
       "0  The essence of strategy is choosing what not t...      Michael Porter   \n",
       "1  One cannot and must not try to erase the past ...          Golda Meir   \n",
       "2  Patriotism means to stand by the country. It d...  Theodore Roosevelt   \n",
       "3  Death is something inevitable. When a man has ...      Nelson Mandela   \n",
       "4  You have to love a nation that celebrates its ...        Erma Bombeck   \n",
       "\n",
       "                              Type of quote  \n",
       "0  Essence, Deep Thought, Transcendentalism  \n",
       "1                 Inspiration, Past, Trying  \n",
       "2                       Country, Peace, War  \n",
       "3        Inspirational, Motivational, Death  \n",
       "4              4th Of July, Food, Patriotic  "
      ]
     },
     "execution_count": 131,
     "metadata": {},
     "output_type": "execute_result"
    }
   ],
   "source": [
    "quotes_df.head()"
   ]
  },
  {
   "cell_type": "code",
   "execution_count": 132,
   "id": "2e99afb9",
   "metadata": {},
   "outputs": [
    {
     "data": {
      "text/plain": [
       "(1000, 3)"
      ]
     },
     "execution_count": 132,
     "metadata": {},
     "output_type": "execute_result"
    }
   ],
   "source": [
    "quotes_df.shape"
   ]
  },
  {
   "cell_type": "code",
   "execution_count": null,
   "id": "992bcb7c",
   "metadata": {},
   "outputs": [],
   "source": [
    "driver.close()"
   ]
  },
  {
   "cell_type": "markdown",
   "id": "7f5be2ba",
   "metadata": {},
   "source": [
    "###  Q9-Write a python program to display list of respected former Prime Ministers of India(i.e. Name, Born-Dead, \n",
    "Term of office, Remarks) from https://www.jagranjosh.com/.\n",
    "This task will be done in following steps:\n",
    "1. First get the webpagehttps://www.jagranjosh.com/\n",
    "2. Then You have to click on the GK option\n",
    "3. Then click on the List of all Prime Ministers of India\n",
    "#4. Then scrap the mentioned data and make theDataFrame"
   ]
  },
  {
   "cell_type": "code",
   "execution_count": 133,
   "id": "e1937448",
   "metadata": {},
   "outputs": [],
   "source": [
    "#First get the webpagehttps://www.jagranjosh.com/\n",
    "driver=webdriver.Chrome(r'chromedriver.exe')\n",
    "driver.maximize_window()\n",
    "driver.get(\"https://www.jagranjosh.com/\")"
   ]
  },
  {
   "cell_type": "code",
   "execution_count": 134,
   "id": "54dd2e75",
   "metadata": {},
   "outputs": [],
   "source": [
    "#Then You have to click on the GK option\n",
    "gk=driver.find_element(By.XPATH,'/html/body/div/div[1]/div/div[1]/div/div[6]/div/div[1]/header/div[3]/ul/li[9]/a')\n",
    "\n",
    "gk.click()"
   ]
  },
  {
   "cell_type": "code",
   "execution_count": 135,
   "id": "009a7483",
   "metadata": {},
   "outputs": [],
   "source": [
    "#then click on the List of all Prime Ministers of India\n",
    "pm_link=driver.find_element(By.XPATH,'/html/body/div[1]/div/div/div[2]/div/div[10]/div/div/ul/li[2]/a')\n",
    "pm_link.click()"
   ]
  },
  {
   "cell_type": "code",
   "execution_count": 136,
   "id": "e8391846",
   "metadata": {},
   "outputs": [],
   "source": [
    "cls=driver.find_elements(By.XPATH,'//*[@id=\"itemdiv\"]/div[4]/span/div[2]/table/tbody/tr/th')\n",
    "#getting no of rows\n",
    "r=driver.find_elements(By.XPATH,'//*[@id=\"itemdiv\"]/div[4]/span/div[2]/table/tbody/tr')\n",
    "  "
   ]
  },
  {
   "cell_type": "code",
   "execution_count": 138,
   "id": "efdc009a",
   "metadata": {},
   "outputs": [],
   "source": [
    "pm_name=[]\n",
    "born_dead=[]\n",
    "term_office=[]\n",
    "term_total=[]\n",
    "remarks=[]\n"
   ]
  },
  {
   "cell_type": "code",
   "execution_count": null,
   "id": "48bbcd80",
   "metadata": {},
   "outputs": [],
   "source": [
    "#Prime Minister Name\n",
    "for i in r[1:20]:\n",
    "    name=i.text.split('\\n')\n",
    "    #print(name)\n",
    "    pm_name.append(name[1])\n",
    "    born_dead.append(name[2])\n",
    "    term_office.append(name[3])\n",
    "    term_total.append(name[4])\n",
    "    remarks.append(name[5])\n",
    " "
   ]
  },
  {
   "cell_type": "code",
   "execution_count": 140,
   "id": "fbce5abc",
   "metadata": {},
   "outputs": [
    {
     "name": "stdout",
     "output_type": "stream",
     "text": [
      "18 18 18 18 17\n"
     ]
    }
   ],
   "source": [
    "print(len(pm_name),len(born_dead),len(term_office),len(term_total),len(remarks))"
   ]
  },
  {
   "cell_type": "code",
   "execution_count": 39,
   "id": "5e738f25",
   "metadata": {},
   "outputs": [],
   "source": []
  },
  {
   "cell_type": "code",
   "execution_count": 143,
   "id": "59121d82",
   "metadata": {},
   "outputs": [
    {
     "data": {
      "text/html": [
       "<div>\n",
       "<style scoped>\n",
       "    .dataframe tbody tr th:only-of-type {\n",
       "        vertical-align: middle;\n",
       "    }\n",
       "\n",
       "    .dataframe tbody tr th {\n",
       "        vertical-align: top;\n",
       "    }\n",
       "\n",
       "    .dataframe thead th {\n",
       "        text-align: right;\n",
       "    }\n",
       "</style>\n",
       "<table border=\"1\" class=\"dataframe\">\n",
       "  <thead>\n",
       "    <tr style=\"text-align: right;\">\n",
       "      <th></th>\n",
       "      <th>Prime Minister</th>\n",
       "      <th>Born-Dead</th>\n",
       "      <th>Term of office</th>\n",
       "      <th>Total Term in years</th>\n",
       "      <th>Remarks</th>\n",
       "    </tr>\n",
       "  </thead>\n",
       "  <tbody>\n",
       "    <tr>\n",
       "      <th>0</th>\n",
       "      <td>Jawahar Lal Nehru</td>\n",
       "      <td>(1889–1964)</td>\n",
       "      <td>15 August 1947 to 27 May 1964</td>\n",
       "      <td>16 years, 286 days</td>\n",
       "      <td>The first prime minister of India and the long...</td>\n",
       "    </tr>\n",
       "    <tr>\n",
       "      <th>1</th>\n",
       "      <td>Gulzarilal Nanda (Acting)</td>\n",
       "      <td>(1898-1998)</td>\n",
       "      <td>27 May 1964 to 9 June 1964,</td>\n",
       "      <td>13 days</td>\n",
       "      <td>First acting PM of India</td>\n",
       "    </tr>\n",
       "    <tr>\n",
       "      <th>2</th>\n",
       "      <td>Lal Bahadur Shastri</td>\n",
       "      <td>(1904–1966)</td>\n",
       "      <td>9 June 1964 to 11 January 1966</td>\n",
       "      <td>1 year, 216 days</td>\n",
       "      <td>He has given the slogan of 'Jai Jawan Jai Kisa...</td>\n",
       "    </tr>\n",
       "    <tr>\n",
       "      <th>3</th>\n",
       "      <td>Gulzari Lal Nanda  (Acting)</td>\n",
       "      <td>(1898-1998)</td>\n",
       "      <td>11 January 1966 to 24 January 1966</td>\n",
       "      <td>13 days</td>\n",
       "      <td>-</td>\n",
       "    </tr>\n",
       "    <tr>\n",
       "      <th>4</th>\n",
       "      <td>Indira Gandhi</td>\n",
       "      <td>(1917–1984)</td>\n",
       "      <td>24 January 1966 to 24 March 1977</td>\n",
       "      <td>11 years, 59 days</td>\n",
       "      <td>First female Prime Minister of India</td>\n",
       "    </tr>\n",
       "  </tbody>\n",
       "</table>\n",
       "</div>"
      ],
      "text/plain": [
       "                Prime Minister    Born-Dead  \\\n",
       "0            Jawahar Lal Nehru  (1889–1964)   \n",
       "1    Gulzarilal Nanda (Acting)  (1898-1998)   \n",
       "2          Lal Bahadur Shastri  (1904–1966)   \n",
       "3  Gulzari Lal Nanda  (Acting)  (1898-1998)   \n",
       "4                Indira Gandhi  (1917–1984)   \n",
       "\n",
       "                       Term of office Total Term in years  \\\n",
       "0       15 August 1947 to 27 May 1964  16 years, 286 days   \n",
       "1         27 May 1964 to 9 June 1964,             13 days   \n",
       "2      9 June 1964 to 11 January 1966    1 year, 216 days   \n",
       "3  11 January 1966 to 24 January 1966             13 days   \n",
       "4    24 January 1966 to 24 March 1977   11 years, 59 days   \n",
       "\n",
       "                                             Remarks  \n",
       "0  The first prime minister of India and the long...  \n",
       "1                           First acting PM of India  \n",
       "2  He has given the slogan of 'Jai Jawan Jai Kisa...  \n",
       "3                                                  -  \n",
       "4               First female Prime Minister of India  "
      ]
     },
     "execution_count": 143,
     "metadata": {},
     "output_type": "execute_result"
    }
   ],
   "source": [
    "pm_df1=pd.DataFrame({'Prime Minister':pm_name,\n",
    "                   'Born-Dead':born_dead,\n",
    "                    'Term of office':term_office,\n",
    "                     'Total Term in years':term_total\n",
    "                    })\n",
    "pm_df2=pd.DataFrame({'Remarks':remarks})\n",
    "\n",
    "pm_df=pd.concat([pm_df1,pm_df2],axis=1)\n",
    "pm_df.head()"
   ]
  },
  {
   "cell_type": "code",
   "execution_count": 201,
   "id": "c5469deb",
   "metadata": {},
   "outputs": [
    {
     "data": {
      "text/plain": [
       "(18, 5)"
      ]
     },
     "execution_count": 201,
     "metadata": {},
     "output_type": "execute_result"
    }
   ],
   "source": [
    "pm_df.shape"
   ]
  },
  {
   "cell_type": "code",
   "execution_count": 202,
   "id": "90eebc85",
   "metadata": {},
   "outputs": [],
   "source": [
    "driver.close()"
   ]
  },
  {
   "cell_type": "code",
   "execution_count": null,
   "id": "2e632873",
   "metadata": {},
   "outputs": [],
   "source": []
  }
 ],
 "metadata": {
  "kernelspec": {
   "display_name": "Python 3 (ipykernel)",
   "language": "python",
   "name": "python3"
  },
  "language_info": {
   "codemirror_mode": {
    "name": "ipython",
    "version": 3
   },
   "file_extension": ".py",
   "mimetype": "text/x-python",
   "name": "python",
   "nbconvert_exporter": "python",
   "pygments_lexer": "ipython3",
   "version": "3.9.12"
  }
 },
 "nbformat": 4,
 "nbformat_minor": 5
}
